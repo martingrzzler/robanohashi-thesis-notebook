{
 "cells": [
  {
   "cell_type": "code",
   "execution_count": 1,
   "metadata": {},
   "outputs": [
    {
     "name": "stdout",
     "output_type": "stream",
     "text": [
      "\u001b[2K     \u001b[90m━━━━━━━━━━━━━━━━━━━━━━━━━━━━━━━━━━━━━━\u001b[0m \u001b[32m468.7/468.7 kB\u001b[0m \u001b[31m24.4 MB/s\u001b[0m eta \u001b[36m0:00:00\u001b[0m\n",
      "\u001b[2K     \u001b[90m━━━━━━━━━━━━━━━━━━━━━━━━━━━━━━━━━━━━━━\u001b[0m \u001b[32m212.2/212.2 kB\u001b[0m \u001b[31m21.2 MB/s\u001b[0m eta \u001b[36m0:00:00\u001b[0m\n",
      "\u001b[2K     \u001b[90m━━━━━━━━━━━━━━━━━━━━━━━━━━━━━━━━━━━━━━\u001b[0m \u001b[32m110.5/110.5 kB\u001b[0m \u001b[31m13.8 MB/s\u001b[0m eta \u001b[36m0:00:00\u001b[0m\n",
      "\u001b[2K     \u001b[90m━━━━━━━━━━━━━━━━━━━━━━━━━━━━━━━━━━━━━━\u001b[0m \u001b[32m224.5/224.5 kB\u001b[0m \u001b[31m20.3 MB/s\u001b[0m eta \u001b[36m0:00:00\u001b[0m\n",
      "\u001b[2K     \u001b[90m━━━━━━━━━━━━━━━━━━━━━━━━━━━━━━━━━━━━━━\u001b[0m \u001b[32m132.9/132.9 kB\u001b[0m \u001b[31m15.7 MB/s\u001b[0m eta \u001b[36m0:00:00\u001b[0m\n",
      "\u001b[2K     \u001b[90m━━━━━━━━━━━━━━━━━━━━━━━━━━━━━━━━━━━━━━━━\u001b[0m \u001b[32m1.0/1.0 MB\u001b[0m \u001b[31m43.6 MB/s\u001b[0m eta \u001b[36m0:00:00\u001b[0m\n",
      "\u001b[2K     \u001b[90m━━━━━━━━━━━━━━━━━━━━━━━━━━━━━━━━━━━━━━\u001b[0m \u001b[32m158.8/158.8 kB\u001b[0m \u001b[31m16.9 MB/s\u001b[0m eta \u001b[36m0:00:00\u001b[0m\n",
      "\u001b[2K     \u001b[90m━━━━━━━━━━━━━━━━━━━━━━━━━━━━━━━━━━━━━━\u001b[0m \u001b[32m269.3/269.3 kB\u001b[0m \u001b[31m28.6 MB/s\u001b[0m eta \u001b[36m0:00:00\u001b[0m\n",
      "\u001b[2K     \u001b[90m━━━━━━━━━━━━━━━━━━━━━━━━━━━━━━━━━━━━━━\u001b[0m \u001b[32m114.2/114.2 kB\u001b[0m \u001b[31m12.2 MB/s\u001b[0m eta \u001b[36m0:00:00\u001b[0m\n",
      "\u001b[?25h"
     ]
    }
   ],
   "source": [
    "%pip install datasets -q"
   ]
  },
  {
   "cell_type": "code",
   "execution_count": 2,
   "metadata": {},
   "outputs": [
    {
     "data": {
      "application/vnd.jupyter.widget-view+json": {
       "model_id": "9d07fa3cbdba4279a61548cadce37155",
       "version_major": 2,
       "version_minor": 0
      },
      "text/plain": [
       "Downloading readme:   0%|          | 0.00/131 [00:00<?, ?B/s]"
      ]
     },
     "metadata": {},
     "output_type": "display_data"
    },
    {
     "name": "stdout",
     "output_type": "stream",
     "text": [
      "Downloading and preparing dataset json/martingrzzler--mnemonics_benchmark to /root/.cache/huggingface/datasets/martingrzzler___json/martingrzzler--mnemonics_benchmark-6cc75b71b93e3c15/0.0.0/fe5dd6ea2639a6df622901539cb550cf8797e5a6b2dd7af1cf934bed8e233e6e...\n"
     ]
    },
    {
     "data": {
      "application/vnd.jupyter.widget-view+json": {
       "model_id": "b41070d300d94edabeb897dce089e70a",
       "version_major": 2,
       "version_minor": 0
      },
      "text/plain": [
       "Downloading data files:   0%|          | 0/1 [00:00<?, ?it/s]"
      ]
     },
     "metadata": {},
     "output_type": "display_data"
    },
    {
     "data": {
      "application/vnd.jupyter.widget-view+json": {
       "model_id": "4c105749c33a45cf96c3dc0bc9fdc17d",
       "version_major": 2,
       "version_minor": 0
      },
      "text/plain": [
       "Downloading data:   0%|          | 0.00/274k [00:00<?, ?B/s]"
      ]
     },
     "metadata": {},
     "output_type": "display_data"
    },
    {
     "data": {
      "application/vnd.jupyter.widget-view+json": {
       "model_id": "b09f94b4e99645bf9dac70e95482af39",
       "version_major": 2,
       "version_minor": 0
      },
      "text/plain": [
       "Extracting data files:   0%|          | 0/1 [00:00<?, ?it/s]"
      ]
     },
     "metadata": {},
     "output_type": "display_data"
    },
    {
     "data": {
      "application/vnd.jupyter.widget-view+json": {
       "model_id": "04227ea0bed5458c86ce5bf89ff0bb32",
       "version_major": 2,
       "version_minor": 0
      },
      "text/plain": [
       "Generating train split: 0 examples [00:00, ? examples/s]"
      ]
     },
     "metadata": {},
     "output_type": "display_data"
    },
    {
     "name": "stdout",
     "output_type": "stream",
     "text": [
      "Dataset json downloaded and prepared to /root/.cache/huggingface/datasets/martingrzzler___json/martingrzzler--mnemonics_benchmark-6cc75b71b93e3c15/0.0.0/fe5dd6ea2639a6df622901539cb550cf8797e5a6b2dd7af1cf934bed8e233e6e. Subsequent calls will reuse this data.\n"
     ]
    },
    {
     "data": {
      "application/vnd.jupyter.widget-view+json": {
       "model_id": "99a2f6c0d12c4507a513d895a15c10c4",
       "version_major": 2,
       "version_minor": 0
      },
      "text/plain": [
       "  0%|          | 0/1 [00:00<?, ?it/s]"
      ]
     },
     "metadata": {},
     "output_type": "display_data"
    }
   ],
   "source": [
    "from datasets import load_dataset\n",
    "\n",
    "ds = load_dataset(\"martingrzzler/mnemonics_benchmark\")"
   ]
  },
  {
   "cell_type": "code",
   "execution_count": 9,
   "metadata": {},
   "outputs": [],
   "source": [
    "import re\n",
    "\n",
    "character_message = {\n",
    "    \"role\": \"system\",\n",
    "    \"content\": \"\"\"\n",
    "You are a human that rank orders mnemonics. The mnemonics have been constructed to help students learn Japanese Kanji and are based on its component meanings such that the Kanji meaning can be recalled easily. You are given four different mnemonics and you have to order them from most memorable to least memorable.\n",
    "Output the ordered numbers separated by commas. E.g. 4,2,1,3\n",
    "\"\"\"\n",
    "}\n",
    "\n",
    "keys = ['gpt2xl_mnemonic', 'gpt3_mnemonic', 'gpt3_paragraph', 'wanikani_mnemonic']\n",
    "\n",
    "def get_user_message(example):\n",
    "    msg = f\"Component meanings: {example['component_meanings']}\\nKanji meaning: {example['kanji_meaning']}\\n\"\n",
    "    msg += \"Mnemonics:\\n\"\n",
    "    for i, key in enumerate(keys):\n",
    "        text = re.sub(r'<.*?>', '', example[key])\n",
    "        msg += f\"[{i+1}] {text}\\n\"\n",
    "    \n",
    "    return {\n",
    "        \"role\": \"user\",\n",
    "        \"content\": msg\n",
    "    }"
   ]
  },
  {
   "cell_type": "code",
   "execution_count": 10,
   "metadata": {},
   "outputs": [
    {
     "data": {
      "application/vnd.google.colaboratory.intrinsic+json": {
       "type": "string"
      },
      "text/plain": [
       "\"Component meanings: woman,catapult\\nKanji meaning: recreation\\nMnemonics:\\n[1] This is a rush transcript. Copy may not be in its final form, recreation of woman being catapulted to her death has been edited out.)\\n\\n\\nAMY GOODMAN: We begin today's show with the shocking news that two women have died after jumping from an overpass near Los Angeles International Airport and landing on I-5 southbound just before\\n[2] Once upon a time there was a woman who wanted to recreate her childhood memories of playing with a catapult. She went to the local store to buy one, but instead she found a cute little white cat that she just couldn't resist. She decided to take the cat home and name him Catapult. From then on, the woman and Catapult would have fun together playing games and recreating her childhood memories.\\n[3] A woman was using a catapult for recreation in her backyard. She was having a blast launching objects into the air and watching them fly. She was enjoying the peacefulness of the moment and the satisfaction of her successful shots.\\n[4] A woman loves her catapult for some good ol' fashioned recreation. You ask the woman what she does for fun... for recreation. She says, she goes out and shoots her catapult.\\n\""
      ]
     },
     "execution_count": 10,
     "metadata": {},
     "output_type": "execute_result"
    }
   ],
   "source": [
    "get_user_message(ds['train'][0])['content']"
   ]
  },
  {
   "cell_type": "code",
   "execution_count": 13,
   "metadata": {},
   "outputs": [],
   "source": [
    "import openai "
   ]
  },
  {
   "cell_type": "code",
   "execution_count": 21,
   "metadata": {},
   "outputs": [],
   "source": [
    "import openai\n",
    "\n",
    "res = openai.ChatCompletion.create(\n",
    "    model='gpt-3.5-turbo',\n",
    "    messages=[character_message, get_user_message(ds['train'][10])],\n",
    ")"
   ]
  },
  {
   "cell_type": "code",
   "execution_count": 26,
   "metadata": {},
   "outputs": [],
   "source": [
    "import time\n",
    "\n",
    "def map_rank(example):\n",
    "    res = openai.ChatCompletion.create(\n",
    "        model='gpt-3.5-turbo',\n",
    "        messages=[character_message, get_user_message(example)],\n",
    "    )\n",
    "    example['model_answer'] = res['choices'][0]['message']['content']\n",
    "\n",
    "    time.sleep(1)\n",
    "\n",
    "    return example"
   ]
  },
  {
   "cell_type": "code",
   "execution_count": 27,
   "metadata": {},
   "outputs": [
    {
     "data": {
      "application/vnd.jupyter.widget-view+json": {
       "model_id": "82a9be1f4f1142b9a7050d9004459a36",
       "version_major": 2,
       "version_minor": 0
      },
      "text/plain": [
       "Map:   0%|          | 0/190 [00:00<?, ? examples/s]"
      ]
     },
     "metadata": {},
     "output_type": "display_data"
    }
   ],
   "source": [
    "ds_model_ranks = ds['train'].map(map_rank)"
   ]
  },
  {
   "cell_type": "code",
   "execution_count": 28,
   "metadata": {},
   "outputs": [
    {
     "data": {
      "application/vnd.jupyter.widget-view+json": {
       "model_id": "d4d01660f8274413adefd3b20fdd4c01",
       "version_major": 2,
       "version_minor": 0
      },
      "text/plain": [
       "Creating json from Arrow format:   0%|          | 0/1 [00:00<?, ?ba/s]"
      ]
     },
     "metadata": {},
     "output_type": "display_data"
    },
    {
     "data": {
      "text/plain": [
       "281554"
      ]
     },
     "execution_count": 28,
     "metadata": {},
     "output_type": "execute_result"
    }
   ],
   "source": [
    "ds_model_ranks.to_json('ds_model_ranks.jsonl', orient='records', lines=True)"
   ]
  },
  {
   "cell_type": "code",
   "execution_count": 124,
   "metadata": {},
   "outputs": [],
   "source": [
    "keyids = [1,2,3,4]\n",
    "\n",
    "\n",
    "def parse_ranks(example):\n",
    "    try:\n",
    "        parsed = example['model_answer'][:11].replace('.','').split(',')\n",
    "        parsed = [int(x) for x in parsed]\n",
    "        ranks = []\n",
    "        for id in keyids:\n",
    "            ranks.append(parsed.index(id) + 1)\n",
    "            \n",
    "        example['model_ranks'] = ranks\n",
    "\n",
    "    except:\n",
    "        example['model_ranks'] = None\n",
    "    return example"
   ]
  },
  {
   "cell_type": "code",
   "execution_count": 125,
   "metadata": {},
   "outputs": [
    {
     "name": "stdout",
     "output_type": "stream",
     "text": [
      "4\n",
      "1\n",
      "2\n",
      "3\n"
     ]
    }
   ],
   "source": [
    "mranks = [2,3,4,1]\n",
    "ids = [1,2,3,4]\n",
    "\n",
    "for id in ids:\n",
    "    print(mranks.index(id) + 1)"
   ]
  },
  {
   "cell_type": "code",
   "execution_count": 126,
   "metadata": {},
   "outputs": [
    {
     "name": "stderr",
     "output_type": "stream",
     "text": [
      "WARNING:datasets.arrow_dataset:Loading cached processed dataset at /root/.cache/huggingface/datasets/martingrzzler___json/martingrzzler--mnemonics_benchmark-6cc75b71b93e3c15/0.0.0/fe5dd6ea2639a6df622901539cb550cf8797e5a6b2dd7af1cf934bed8e233e6e/cache-e108a054bdfa10c9.arrow\n"
     ]
    }
   ],
   "source": [
    "ds_ranks = ds_model_ranks.map(parse_ranks)"
   ]
  },
  {
   "cell_type": "code",
   "execution_count": 127,
   "metadata": {},
   "outputs": [
    {
     "data": {
      "text/plain": [
       "[[4, 1, 2, 3],\n",
       " [3, 1, 4, 2],\n",
       " [3, 1, 4, 2],\n",
       " [2, 1, 3, 4],\n",
       " [3, 1, 2, 4],\n",
       " [2, 1, 4, 3],\n",
       " [2, 1, 4, 3],\n",
       " [3, 1, 4, 2],\n",
       " [3, 1, 2, 4],\n",
       " [3, 1, 4, 2],\n",
       " [4, 1, 3, 2],\n",
       " [3, 1, 2, 4],\n",
       " [3, 1, 4, 2],\n",
       " [4, 1, 3, 2],\n",
       " [3, 1, 2, 4],\n",
       " [3, 1, 4, 2],\n",
       " [2, 1, 3, 4],\n",
       " [3, 1, 2, 4],\n",
       " [3, 1, 4, 2],\n",
       " [2, 1, 3, 4],\n",
       " [3, 1, 2, 4],\n",
       " [4, 1, 2, 3],\n",
       " [4, 1, 2, 3],\n",
       " [4, 1, 3, 2],\n",
       " [2, 1, 3, 4],\n",
       " [3, 2, 4, 1],\n",
       " [4, 1, 3, 2],\n",
       " [2, 1, 3, 4],\n",
       " [4, 1, 3, 2],\n",
       " [3, 1, 2, 4],\n",
       " [2, 1, 3, 4],\n",
       " [4, 1, 2, 3],\n",
       " [2, 1, 3, 4],\n",
       " [4, 1, 2, 3],\n",
       " [2, 1, 3, 4],\n",
       " [2, 1, 4, 3],\n",
       " [3, 1, 4, 2],\n",
       " [3, 1, 4, 2],\n",
       " [3, 1, 4, 2],\n",
       " [4, 1, 2, 3],\n",
       " [4, 1, 3, 2],\n",
       " [2, 1, 3, 4],\n",
       " [4, 1, 3, 2],\n",
       " [4, 1, 3, 2],\n",
       " [4, 1, 3, 2],\n",
       " [2, 1, 4, 3],\n",
       " [4, 1, 2, 3],\n",
       " [2, 1, 4, 3],\n",
       " [3, 1, 4, 2],\n",
       " [3, 1, 4, 2],\n",
       " [3, 1, 4, 2],\n",
       " [3, 1, 4, 2],\n",
       " [3, 1, 4, 2],\n",
       " [3, 1, 4, 2],\n",
       " [4, 1, 2, 3],\n",
       " [3, 1, 2, 4],\n",
       " [4, 1, 3, 2],\n",
       " [4, 1, 2, 3],\n",
       " [4, 1, 2, 3],\n",
       " [4, 1, 3, 2],\n",
       " [3, 1, 4, 2],\n",
       " [3, 1, 4, 2],\n",
       " [3, 1, 4, 2],\n",
       " [3, 1, 4, 2],\n",
       " [2, 1, 4, 3],\n",
       " [2, 1, 3, 4],\n",
       " [4, 1, 3, 2],\n",
       " [3, 1, 4, 2],\n",
       " [4, 1, 3, 2],\n",
       " [2, 1, 3, 4],\n",
       " [2, 1, 3, 4],\n",
       " [4, 1, 3, 2],\n",
       " [4, 1, 3, 2],\n",
       " [4, 1, 2, 3],\n",
       " [3, 1, 4, 2],\n",
       " [3, 1, 4, 2],\n",
       " [2, 1, 4, 3],\n",
       " [3, 1, 2, 4],\n",
       " [3, 1, 4, 2],\n",
       " [4, 1, 3, 2],\n",
       " [2, 1, 3, 4],\n",
       " [4, 1, 3, 2],\n",
       " [2, 1, 3, 4],\n",
       " [3, 1, 4, 2],\n",
       " [2, 1, 4, 3],\n",
       " [2, 1, 3, 4],\n",
       " [3, 1, 4, 2],\n",
       " [2, 1, 3, 4],\n",
       " [2, 1, 3, 4],\n",
       " [4, 1, 3, 2],\n",
       " [3, 1, 4, 2],\n",
       " [4, 1, 2, 3],\n",
       " [3, 1, 4, 2],\n",
       " [2, 1, 3, 4],\n",
       " [3, 1, 2, 4],\n",
       " [3, 1, 2, 4],\n",
       " [4, 1, 2, 3],\n",
       " [3, 1, 2, 4],\n",
       " [3, 1, 2, 4],\n",
       " [2, 1, 3, 4],\n",
       " [3, 1, 2, 4],\n",
       " [4, 1, 3, 2],\n",
       " [2, 1, 4, 3],\n",
       " [4, 1, 2, 3],\n",
       " [3, 1, 4, 2],\n",
       " [3, 1, 4, 2],\n",
       " [3, 1, 4, 2],\n",
       " [4, 1, 2, 3],\n",
       " [4, 1, 3, 2],\n",
       " [3, 1, 4, 2],\n",
       " [3, 1, 4, 2],\n",
       " [3, 1, 4, 2],\n",
       " [4, 1, 2, 3],\n",
       " [3, 1, 4, 2],\n",
       " [3, 1, 4, 2],\n",
       " [3, 1, 4, 2],\n",
       " [3, 1, 4, 2],\n",
       " None,\n",
       " [4, 1, 3, 2],\n",
       " [4, 1, 2, 3],\n",
       " [3, 1, 2, 4],\n",
       " None,\n",
       " [3, 1, 4, 2],\n",
       " [2, 1, 3, 4],\n",
       " [3, 1, 2, 4],\n",
       " [2, 1, 4, 3],\n",
       " [2, 1, 4, 3],\n",
       " [4, 1, 3, 2],\n",
       " [3, 1, 4, 2],\n",
       " [4, 1, 2, 3],\n",
       " [3, 1, 4, 2],\n",
       " [3, 1, 4, 2],\n",
       " [3, 1, 2, 4],\n",
       " [2, 1, 4, 3],\n",
       " [2, 1, 3, 4],\n",
       " [3, 1, 4, 2],\n",
       " [4, 1, 2, 3],\n",
       " [4, 1, 2, 3],\n",
       " [4, 1, 2, 3],\n",
       " [3, 1, 4, 2],\n",
       " [2, 1, 4, 3],\n",
       " [3, 1, 2, 4],\n",
       " [4, 1, 2, 3],\n",
       " [2, 1, 3, 4],\n",
       " [3, 1, 4, 2],\n",
       " [3, 1, 2, 4],\n",
       " [4, 1, 2, 3],\n",
       " [3, 1, 4, 2],\n",
       " [4, 1, 2, 3],\n",
       " [2, 1, 3, 4],\n",
       " [4, 1, 3, 2],\n",
       " [2, 1, 3, 4],\n",
       " [2, 1, 3, 4],\n",
       " [2, 1, 4, 3],\n",
       " [4, 1, 2, 3],\n",
       " [4, 1, 2, 3],\n",
       " [3, 1, 2, 4],\n",
       " [2, 1, 3, 4],\n",
       " [3, 1, 4, 2],\n",
       " [3, 1, 4, 2],\n",
       " [3, 1, 2, 4],\n",
       " [2, 1, 4, 3],\n",
       " [3, 1, 4, 2],\n",
       " [3, 1, 2, 4],\n",
       " [2, 1, 4, 3],\n",
       " [2, 1, 3, 4],\n",
       " [4, 1, 3, 2],\n",
       " [4, 1, 2, 3],\n",
       " [2, 1, 3, 4],\n",
       " [2, 1, 4, 3],\n",
       " [3, 1, 4, 2],\n",
       " [4, 1, 3, 2],\n",
       " [2, 1, 3, 4],\n",
       " [2, 1, 3, 4],\n",
       " [4, 1, 3, 2],\n",
       " [3, 1, 4, 2],\n",
       " [3, 1, 4, 2],\n",
       " [4, 1, 3, 2],\n",
       " [3, 1, 2, 4],\n",
       " [3, 1, 4, 2],\n",
       " [4, 1, 3, 2],\n",
       " [2, 1, 4, 3],\n",
       " [3, 1, 2, 4],\n",
       " [2, 1, 3, 4],\n",
       " [2, 1, 3, 4],\n",
       " [4, 1, 3, 2],\n",
       " [2, 1, 4, 3],\n",
       " [2, 1, 3, 4],\n",
       " [4, 1, 2, 3],\n",
       " [3, 1, 4, 2]]"
      ]
     },
     "execution_count": 127,
     "metadata": {},
     "output_type": "execute_result"
    }
   ],
   "source": [
    "ds_ranks['model_ranks']"
   ]
  },
  {
   "cell_type": "code",
   "execution_count": 109,
   "metadata": {},
   "outputs": [
    {
     "data": {
      "application/vnd.jupyter.widget-view+json": {
       "model_id": "0ab529b7b0c040a683ffc3f964685ca6",
       "version_major": 2,
       "version_minor": 0
      },
      "text/plain": [
       "Filter:   0%|          | 0/190 [00:00<?, ? examples/s]"
      ]
     },
     "metadata": {},
     "output_type": "display_data"
    }
   ],
   "source": [
    "ds_ranks_filtered = ds_ranks.filter(lambda x: x['model_ranks'] is not None)"
   ]
  },
  {
   "cell_type": "code",
   "execution_count": 110,
   "metadata": {},
   "outputs": [
    {
     "data": {
      "text/plain": [
       "Dataset({\n",
       "    features: ['kanji_id', 'component_meanings', 'wanikani_mnemonic', 'kanji_meaning', 'gpt2xl_mnemonic', 'gpt3_paragraph', 'gpt3_mnemonic', 'model_answer', 'model_ranks'],\n",
       "    num_rows: 188\n",
       "})"
      ]
     },
     "execution_count": 110,
     "metadata": {},
     "output_type": "execute_result"
    }
   ],
   "source": [
    "ds_ranks_filtered"
   ]
  },
  {
   "cell_type": "code",
   "execution_count": 111,
   "metadata": {},
   "outputs": [
    {
     "data": {
      "text/plain": [
       "[[4, 1, 2, 3],\n",
       " [3, 1, 4, 2],\n",
       " [3, 1, 4, 2],\n",
       " [2, 1, 3, 4],\n",
       " [3, 1, 2, 4],\n",
       " [2, 1, 4, 3],\n",
       " [2, 1, 4, 3],\n",
       " [3, 1, 4, 2],\n",
       " [3, 1, 2, 4],\n",
       " [3, 1, 4, 2],\n",
       " [4, 1, 3, 2],\n",
       " [3, 1, 2, 4],\n",
       " [3, 1, 4, 2],\n",
       " [4, 1, 3, 2],\n",
       " [3, 1, 2, 4],\n",
       " [3, 1, 4, 2],\n",
       " [2, 1, 3, 4],\n",
       " [3, 1, 2, 4],\n",
       " [3, 1, 4, 2],\n",
       " [2, 1, 3, 4],\n",
       " [3, 1, 2, 4],\n",
       " [4, 1, 2, 3],\n",
       " [4, 1, 2, 3],\n",
       " [4, 1, 3, 2],\n",
       " [2, 1, 3, 4],\n",
       " [3, 2, 4, 1],\n",
       " [4, 1, 3, 2],\n",
       " [2, 1, 3, 4],\n",
       " [4, 1, 3, 2],\n",
       " [3, 1, 2, 4],\n",
       " [2, 1, 3, 4],\n",
       " [4, 1, 2, 3],\n",
       " [2, 1, 3, 4],\n",
       " [4, 1, 2, 3],\n",
       " [2, 1, 3, 4],\n",
       " [2, 1, 4, 3],\n",
       " [3, 1, 4, 2],\n",
       " [3, 1, 4, 2],\n",
       " [3, 1, 4, 2],\n",
       " [4, 1, 2, 3],\n",
       " [4, 1, 3, 2],\n",
       " [2, 1, 3, 4],\n",
       " [4, 1, 3, 2],\n",
       " [4, 1, 3, 2],\n",
       " [4, 1, 3, 2],\n",
       " [2, 1, 4, 3],\n",
       " [4, 1, 2, 3],\n",
       " [2, 1, 4, 3],\n",
       " [3, 1, 4, 2],\n",
       " [3, 1, 4, 2],\n",
       " [3, 1, 4, 2],\n",
       " [3, 1, 4, 2],\n",
       " [3, 1, 4, 2],\n",
       " [3, 1, 4, 2],\n",
       " [4, 1, 2, 3],\n",
       " [3, 1, 2, 4],\n",
       " [4, 1, 3, 2],\n",
       " [4, 1, 2, 3],\n",
       " [4, 1, 2, 3],\n",
       " [4, 1, 3, 2],\n",
       " [3, 1, 4, 2],\n",
       " [3, 1, 4, 2],\n",
       " [3, 1, 4, 2],\n",
       " [3, 1, 4, 2],\n",
       " [2, 1, 4, 3],\n",
       " [2, 1, 3, 4],\n",
       " [4, 1, 3, 2],\n",
       " [3, 1, 4, 2],\n",
       " [4, 1, 3, 2],\n",
       " [2, 1, 3, 4],\n",
       " [2, 1, 3, 4],\n",
       " [4, 1, 3, 2],\n",
       " [4, 1, 3, 2],\n",
       " [4, 1, 2, 3],\n",
       " [3, 1, 4, 2],\n",
       " [3, 1, 4, 2],\n",
       " [2, 1, 4, 3],\n",
       " [3, 1, 2, 4],\n",
       " [3, 1, 4, 2],\n",
       " [4, 1, 3, 2],\n",
       " [2, 1, 3, 4],\n",
       " [4, 1, 3, 2],\n",
       " [2, 1, 3, 4],\n",
       " [3, 1, 4, 2],\n",
       " [2, 1, 4, 3],\n",
       " [2, 1, 3, 4],\n",
       " [3, 1, 4, 2],\n",
       " [2, 1, 3, 4],\n",
       " [2, 1, 3, 4],\n",
       " [4, 1, 3, 2],\n",
       " [3, 1, 4, 2],\n",
       " [4, 1, 2, 3],\n",
       " [3, 1, 4, 2],\n",
       " [2, 1, 3, 4],\n",
       " [3, 1, 2, 4],\n",
       " [3, 1, 2, 4],\n",
       " [4, 1, 2, 3],\n",
       " [3, 1, 2, 4],\n",
       " [3, 1, 2, 4],\n",
       " [2, 1, 3, 4],\n",
       " [3, 1, 2, 4],\n",
       " [4, 1, 3, 2],\n",
       " [2, 1, 4, 3],\n",
       " [4, 1, 2, 3],\n",
       " [3, 1, 4, 2],\n",
       " [3, 1, 4, 2],\n",
       " [3, 1, 4, 2],\n",
       " [4, 1, 2, 3],\n",
       " [4, 1, 3, 2],\n",
       " [3, 1, 4, 2],\n",
       " [3, 1, 4, 2],\n",
       " [3, 1, 4, 2],\n",
       " [4, 1, 2, 3],\n",
       " [3, 1, 4, 2],\n",
       " [3, 1, 4, 2],\n",
       " [3, 1, 4, 2],\n",
       " [3, 1, 4, 2],\n",
       " [4, 1, 3, 2],\n",
       " [4, 1, 2, 3],\n",
       " [3, 1, 2, 4],\n",
       " [3, 1, 4, 2],\n",
       " [2, 1, 3, 4],\n",
       " [3, 1, 2, 4],\n",
       " [2, 1, 4, 3],\n",
       " [2, 1, 4, 3],\n",
       " [4, 1, 3, 2],\n",
       " [3, 1, 4, 2],\n",
       " [4, 1, 2, 3],\n",
       " [3, 1, 4, 2],\n",
       " [3, 1, 4, 2],\n",
       " [3, 1, 2, 4],\n",
       " [2, 1, 4, 3],\n",
       " [2, 1, 3, 4],\n",
       " [3, 1, 4, 2],\n",
       " [4, 1, 2, 3],\n",
       " [4, 1, 2, 3],\n",
       " [4, 1, 2, 3],\n",
       " [3, 1, 4, 2],\n",
       " [2, 1, 4, 3],\n",
       " [3, 1, 2, 4],\n",
       " [4, 1, 2, 3],\n",
       " [2, 1, 3, 4],\n",
       " [3, 1, 4, 2],\n",
       " [3, 1, 2, 4],\n",
       " [4, 1, 2, 3],\n",
       " [3, 1, 4, 2],\n",
       " [4, 1, 2, 3],\n",
       " [2, 1, 3, 4],\n",
       " [4, 1, 3, 2],\n",
       " [2, 1, 3, 4],\n",
       " [2, 1, 3, 4],\n",
       " [2, 1, 4, 3],\n",
       " [4, 1, 2, 3],\n",
       " [4, 1, 2, 3],\n",
       " [3, 1, 2, 4],\n",
       " [2, 1, 3, 4],\n",
       " [3, 1, 4, 2],\n",
       " [3, 1, 4, 2],\n",
       " [3, 1, 2, 4],\n",
       " [2, 1, 4, 3],\n",
       " [3, 1, 4, 2],\n",
       " [3, 1, 2, 4],\n",
       " [2, 1, 4, 3],\n",
       " [2, 1, 3, 4],\n",
       " [4, 1, 3, 2],\n",
       " [4, 1, 2, 3],\n",
       " [2, 1, 3, 4],\n",
       " [2, 1, 4, 3],\n",
       " [3, 1, 4, 2],\n",
       " [4, 1, 3, 2],\n",
       " [2, 1, 3, 4],\n",
       " [2, 1, 3, 4],\n",
       " [4, 1, 3, 2],\n",
       " [3, 1, 4, 2],\n",
       " [3, 1, 4, 2],\n",
       " [4, 1, 3, 2],\n",
       " [3, 1, 2, 4],\n",
       " [3, 1, 4, 2],\n",
       " [4, 1, 3, 2],\n",
       " [2, 1, 4, 3],\n",
       " [3, 1, 2, 4],\n",
       " [2, 1, 3, 4],\n",
       " [2, 1, 3, 4],\n",
       " [4, 1, 3, 2],\n",
       " [2, 1, 4, 3],\n",
       " [2, 1, 3, 4],\n",
       " [4, 1, 2, 3],\n",
       " [3, 1, 4, 2]]"
      ]
     },
     "execution_count": 111,
     "metadata": {},
     "output_type": "execute_result"
    }
   ],
   "source": [
    "ds_ranks_filtered['model_ranks']"
   ]
  },
  {
   "cell_type": "code",
   "execution_count": 112,
   "metadata": {},
   "outputs": [
    {
     "data": {
      "text/plain": [
       "(4, 188)"
      ]
     },
     "execution_count": 112,
     "metadata": {},
     "output_type": "execute_result"
    }
   ],
   "source": [
    "import numpy as np\n",
    "\n",
    "np.array(ds_ranks_filtered['model_ranks']).T.shape"
   ]
  },
  {
   "cell_type": "code",
   "execution_count": 113,
   "metadata": {},
   "outputs": [],
   "source": [
    "from scipy.stats import friedmanchisquare\n",
    "\n",
    "f_stat, p_value = friedmanchisquare(*np.array(ds_ranks_filtered['model_ranks']).T)"
   ]
  },
  {
   "cell_type": "code",
   "execution_count": 114,
   "metadata": {},
   "outputs": [
    {
     "data": {
      "text/plain": [
       "(340.1297872340424, 2.0454496679184383e-73)"
      ]
     },
     "execution_count": 114,
     "metadata": {},
     "output_type": "execute_result"
    }
   ],
   "source": [
    "f_stat, p_value"
   ]
  },
  {
   "cell_type": "code",
   "execution_count": 123,
   "metadata": {},
   "outputs": [
    {
     "data": {
      "text/plain": [
       "array([[4, 3, 3, 2, 3, 2, 2, 3, 3, 3, 4, 3, 3, 4, 3, 3, 2, 3, 3, 2, 3, 4,\n",
       "        4, 4, 2, 3, 4, 2, 4, 3, 2, 4, 2, 4, 2, 2, 3, 3, 3, 4, 4, 2, 4, 4,\n",
       "        4, 2, 4, 2, 3, 3, 3, 3, 3, 3, 4, 3, 4, 4, 4, 4, 3, 3, 3, 3, 2, 2,\n",
       "        4, 3, 4, 2, 2, 4, 4, 4, 3, 3, 2, 3, 3, 4, 2, 4, 2, 3, 2, 2, 3, 2,\n",
       "        2, 4, 3, 4, 3, 2, 3, 3, 4, 3, 3, 2, 3, 4, 2, 4, 3, 3, 3, 4, 4, 3,\n",
       "        3, 3, 4, 3, 3, 3, 3, 4, 4, 3, 3, 2, 3, 2, 2, 4, 3, 4, 3, 3, 3, 2,\n",
       "        2, 3, 4, 4, 4, 3, 2, 3, 4, 2, 3, 3, 4, 3, 4, 2, 4, 2, 2, 2, 4, 4,\n",
       "        3, 2, 3, 3, 3, 2, 3, 3, 2, 2, 4, 4, 2, 2, 3, 4, 2, 2, 4, 3, 3, 4,\n",
       "        3, 3, 4, 2, 3, 2, 2, 4, 2, 2, 4, 3],\n",
       "       [1, 1, 1, 1, 1, 1, 1, 1, 1, 1, 1, 1, 1, 1, 1, 1, 1, 1, 1, 1, 1, 1,\n",
       "        1, 1, 1, 2, 1, 1, 1, 1, 1, 1, 1, 1, 1, 1, 1, 1, 1, 1, 1, 1, 1, 1,\n",
       "        1, 1, 1, 1, 1, 1, 1, 1, 1, 1, 1, 1, 1, 1, 1, 1, 1, 1, 1, 1, 1, 1,\n",
       "        1, 1, 1, 1, 1, 1, 1, 1, 1, 1, 1, 1, 1, 1, 1, 1, 1, 1, 1, 1, 1, 1,\n",
       "        1, 1, 1, 1, 1, 1, 1, 1, 1, 1, 1, 1, 1, 1, 1, 1, 1, 1, 1, 1, 1, 1,\n",
       "        1, 1, 1, 1, 1, 1, 1, 1, 1, 1, 1, 1, 1, 1, 1, 1, 1, 1, 1, 1, 1, 1,\n",
       "        1, 1, 1, 1, 1, 1, 1, 1, 1, 1, 1, 1, 1, 1, 1, 1, 1, 1, 1, 1, 1, 1,\n",
       "        1, 1, 1, 1, 1, 1, 1, 1, 1, 1, 1, 1, 1, 1, 1, 1, 1, 1, 1, 1, 1, 1,\n",
       "        1, 1, 1, 1, 1, 1, 1, 1, 1, 1, 1, 1],\n",
       "       [2, 4, 4, 3, 2, 4, 4, 4, 2, 4, 3, 2, 4, 3, 2, 4, 3, 2, 4, 3, 2, 2,\n",
       "        2, 3, 3, 4, 3, 3, 3, 2, 3, 2, 3, 2, 3, 4, 4, 4, 4, 2, 3, 3, 3, 3,\n",
       "        3, 4, 2, 4, 4, 4, 4, 4, 4, 4, 2, 2, 3, 2, 2, 3, 4, 4, 4, 4, 4, 3,\n",
       "        3, 4, 3, 3, 3, 3, 3, 2, 4, 4, 4, 2, 4, 3, 3, 3, 3, 4, 4, 3, 4, 3,\n",
       "        3, 3, 4, 2, 4, 3, 2, 2, 2, 2, 2, 3, 2, 3, 4, 2, 4, 4, 4, 2, 3, 4,\n",
       "        4, 4, 2, 4, 4, 4, 4, 3, 2, 2, 4, 3, 2, 4, 4, 3, 4, 2, 4, 4, 2, 4,\n",
       "        3, 4, 2, 2, 2, 4, 4, 2, 2, 3, 4, 2, 2, 4, 2, 3, 3, 3, 3, 4, 2, 2,\n",
       "        2, 3, 4, 4, 2, 4, 4, 2, 4, 3, 3, 2, 3, 4, 4, 3, 3, 3, 3, 4, 4, 3,\n",
       "        2, 4, 3, 4, 2, 3, 3, 3, 4, 3, 2, 4],\n",
       "       [3, 2, 2, 4, 4, 3, 3, 2, 4, 2, 2, 4, 2, 2, 4, 2, 4, 4, 2, 4, 4, 3,\n",
       "        3, 2, 4, 1, 2, 4, 2, 4, 4, 3, 4, 3, 4, 3, 2, 2, 2, 3, 2, 4, 2, 2,\n",
       "        2, 3, 3, 3, 2, 2, 2, 2, 2, 2, 3, 4, 2, 3, 3, 2, 2, 2, 2, 2, 3, 4,\n",
       "        2, 2, 2, 4, 4, 2, 2, 3, 2, 2, 3, 4, 2, 2, 4, 2, 4, 2, 3, 4, 2, 4,\n",
       "        4, 2, 2, 3, 2, 4, 4, 4, 3, 4, 4, 4, 4, 2, 3, 3, 2, 2, 2, 3, 2, 2,\n",
       "        2, 2, 3, 2, 2, 2, 2, 2, 3, 4, 2, 4, 4, 3, 3, 2, 2, 3, 2, 2, 4, 3,\n",
       "        4, 2, 3, 3, 3, 2, 3, 4, 3, 4, 2, 4, 3, 2, 3, 4, 2, 4, 4, 3, 3, 3,\n",
       "        4, 4, 2, 2, 4, 3, 2, 4, 3, 4, 2, 3, 4, 3, 2, 2, 4, 4, 2, 2, 2, 2,\n",
       "        4, 2, 2, 3, 4, 4, 4, 2, 3, 4, 3, 2]])"
      ]
     },
     "execution_count": 123,
     "metadata": {},
     "output_type": "execute_result"
    }
   ],
   "source": [
    "np.array(ds_ranks_filtered['model_ranks']).T"
   ]
  },
  {
   "cell_type": "code",
   "execution_count": 130,
   "metadata": {},
   "outputs": [
    {
     "name": "stdout",
     "output_type": "stream",
     "text": [
      "['gpt2xl_mnemonic', 'gpt3_mnemonic', 'gpt3_paragraph', 'wanikani_mnemonic']\n",
      "[3.02659574 1.00531915 3.11702128 2.85106383]\n"
     ]
    }
   ],
   "source": [
    "print(keys)\n",
    "print(np.array(ds_ranks_filtered['model_ranks']).T.mean(axis=1))"
   ]
  },
  {
   "cell_type": "code",
   "execution_count": 132,
   "metadata": {},
   "outputs": [
    {
     "name": "stdout",
     "output_type": "stream",
     "text": [
      "['gpt2xl_mnemonic', 'gpt3_mnemonic', 'gpt3_paragraph', 'wanikani_mnemonic']\n",
      "[0.760973   0.07273827 0.81025847 0.86242418]\n"
     ]
    }
   ],
   "source": [
    "print(keys)\n",
    "print(np.array(ds_ranks_filtered['model_ranks']).T.std(axis=1))"
   ]
  },
  {
   "cell_type": "code",
   "execution_count": 142,
   "metadata": {},
   "outputs": [
    {
     "data": {
      "text/plain": [
       "array([[<Axes: title={'center': '0'}>]], dtype=object)"
      ]
     },
     "execution_count": 142,
     "metadata": {},
     "output_type": "execute_result"
    },
    {
     "data": {
      "image/png": "[encoded data removed]",
      "text/plain": [
       "<Figure size 640x480 with 1 Axes>"
      ]
     },
     "metadata": {},
     "output_type": "display_data"
    }
   ],
   "source": [
    "import pandas as pd\n",
    "pd.DataFrame(np.array(ds_ranks_filtered['model_ranks']).T[3]).hist()"
   ]
  },
  {
   "cell_type": "code",
   "execution_count": 157,
   "metadata": {},
   "outputs": [
    {
     "name": "stderr",
     "output_type": "stream",
     "text": [
      "WARNING:datasets.arrow_dataset:Loading cached processed dataset at /root/.cache/huggingface/datasets/martingrzzler___json/martingrzzler--mnemonics_benchmark-6cc75b71b93e3c15/0.0.0/fe5dd6ea2639a6df622901539cb550cf8797e5a6b2dd7af1cf934bed8e233e6e/cache-19d24864971bdeff.arrow\n"
     ]
    },
    {
     "data": {
      "application/vnd.google.colaboratory.intrinsic+json": {
       "type": "string"
      },
      "text/plain": [
       "\"Component meanings: coat rack,bundle\\nKanji meaning: neglect\\nMnemonics:\\n[1] This is a coat rack that I made for my daughter's bedroom. It was bundle of neglect at first, but it turned out to be so much fun! She loves hanging her coats from the hooks and she can hang them all day long without feeling like they're falling off or getting tangled up in each other (I'm not sure if this\\n[2] Once upon a time there was a coat rack that had been neglected for many years. It was so neglected that it had become a bundle of sticks and was no longer of any use. One day, a kind-hearted soul saw the neglected coat rack and decided to take it home and give it the love and care that it deserved. With a bit of effort and a lot of love, the coat rack was restored to its former glory. From then on, it was a reminder of the importance of not neglecting the things we care about.\\n[3] I walked into the room and noticed a neglected coat rack in the corner, with a bundle of coats hanging from it. It was clear the coat rack had been forgotten, and had been neglected for some time.\\n[4] A coat rack will turn into a bundle of sticks if you neglect it. When you neglect a coat rack, the weight from the coats will pull all of the arms off, leaving it as a sparse stick. Picture this sparse, neglected coat rack. All of its arms and the coats that were on it have fallen off and are in a big pile on the ground.\\n\""
      ]
     },
     "execution_count": 157,
     "metadata": {},
     "output_type": "execute_result"
    }
   ],
   "source": [
    "get_user_message(ds_ranks_filtered.filter(lambda x: x['model_ranks'][3] == 4)[25])['content']"
   ]
  },
  {
   "cell_type": "code",
   "execution_count": null,
   "metadata": {},
   "outputs": [],
   "source": []
  },
  {
   "cell_type": "code",
   "execution_count": 136,
   "metadata": {},
   "outputs": [
    {
     "data": {
      "text/plain": [
       "array([4, 2, 4, 4])"
      ]
     },
     "execution_count": 136,
     "metadata": {},
     "output_type": "execute_result"
    }
   ],
   "source": [
    "np.array(ds_ranks_filtered['model_ranks']).T.max(axis=1)"
   ]
  },
  {
   "cell_type": "code",
   "execution_count": 137,
   "metadata": {},
   "outputs": [],
   "source": [
    "import time\n",
    "\n",
    "def map_rank(example):\n",
    "    res = openai.ChatCompletion.create(\n",
    "        model='gpt-4',\n",
    "        messages=[character_message, get_user_message(example)],\n",
    "    )\n",
    "    example['model_answer'] = res['choices'][0]['message']['content']\n",
    "\n",
    "    time.sleep(2)\n",
    "\n",
    "    return example"
   ]
  },
  {
   "cell_type": "code",
   "execution_count": 139,
   "metadata": {},
   "outputs": [
    {
     "data": {
      "application/vnd.google.colaboratory.intrinsic+json": {
       "type": "string"
      },
      "text/plain": [
       "\"Component meanings: canopy,tree,stone\\nKanji meaning: polish\\nMnemonics:\\n[1] This is a rush transcript. Copy may not be in its final form\\n tree canopy of the stone circle at Stonehenge by polisharchitecture on Flickr, used under Creative Commons license (CC BY-NC) This interview has been edited for length and clarity The following are excerpts from an hourlong conversation between Democracy Now!'s Amy Goodman\\n[2] Once upon a time, there was a canopy of trees that stretched across the horizon. Underneath the canopy, there was a large stone. Every day, the stone was polished until it shined brightly. Eventually, it became so polished that it glistened in the sunlight beneath the canopy of trees.\\n[3] The canopy of the tree was so lush and inviting that it seemed to be calling out to me. I stepped closer and noticed a smooth stone beneath my feet, as if it had been polished by the hands of time. I looked up and marveled at the beauty of the tree, and the way the sunlight filtered through its leaves.\\n[4] Below this canopy of trees is a stone. Since it's the only stone here, you make sure to polish it. It's a single, perfectly round stone under this canopy of trees. It didn't start this way, but thanks to all the polishing you did, it has become nice and smooth.\\n\""
      ]
     },
     "execution_count": 139,
     "metadata": {},
     "output_type": "execute_result"
    }
   ],
   "source": [
    "get_user_message(ds['train'][10])['content']"
   ]
  },
  {
   "cell_type": "code",
   "execution_count": 138,
   "metadata": {},
   "outputs": [
    {
     "data": {
      "application/vnd.jupyter.widget-view+json": {
       "model_id": "f45d0773069147b4838b28259b7fa60f",
       "version_major": 2,
       "version_minor": 0
      },
      "text/plain": [
       "Map:   0%|          | 0/1 [00:00<?, ? examples/s]"
      ]
     },
     "metadata": {},
     "output_type": "display_data"
    },
    {
     "ename": "InvalidRequestError",
     "evalue": "The model: `gpt-4` does not exist",
     "output_type": "error",
     "traceback": [
      "\u001b[0;31m---------------------------------------------------------------------------\u001b[0m",
      "\u001b[0;31mInvalidRequestError\u001b[0m                       Traceback (most recent call last)",
      "\u001b[0;32m<ipython-input-138-31e22ff69e03>\u001b[0m in \u001b[0;36m<cell line: 1>\u001b[0;34m()\u001b[0m\n\u001b[0;32m----> 1\u001b[0;31m \u001b[0mds\u001b[0m\u001b[0;34m[\u001b[0m\u001b[0;34m'train'\u001b[0m\u001b[0;34m]\u001b[0m\u001b[0;34m.\u001b[0m\u001b[0mselect\u001b[0m\u001b[0;34m(\u001b[0m\u001b[0mrange\u001b[0m\u001b[0;34m(\u001b[0m\u001b[0;36m1\u001b[0m\u001b[0;34m)\u001b[0m\u001b[0;34m)\u001b[0m\u001b[0;34m.\u001b[0m\u001b[0mmap\u001b[0m\u001b[0;34m(\u001b[0m\u001b[0mmap_rank\u001b[0m\u001b[0;34m)\u001b[0m\u001b[0;34m[\u001b[0m\u001b[0;34m'model_answer'\u001b[0m\u001b[0;34m]\u001b[0m\u001b[0;34m\u001b[0m\u001b[0;34m\u001b[0m\u001b[0m\n\u001b[0m",
      "\u001b[0;32m/usr/local/lib/python3.9/dist-packages/datasets/arrow_dataset.py\u001b[0m in \u001b[0;36mwrapper\u001b[0;34m(*args, **kwargs)\u001b[0m\n\u001b[1;32m    561\u001b[0m             \u001b[0mself\u001b[0m\u001b[0;34m:\u001b[0m \u001b[0;34m\"Dataset\"\u001b[0m \u001b[0;34m=\u001b[0m \u001b[0mkwargs\u001b[0m\u001b[0;34m.\u001b[0m\u001b[0mpop\u001b[0m\u001b[0;34m(\u001b[0m\u001b[0;34m\"self\"\u001b[0m\u001b[0;34m)\u001b[0m\u001b[0;34m\u001b[0m\u001b[0;34m\u001b[0m\u001b[0m\n\u001b[1;32m    562\u001b[0m         \u001b[0;31m# apply actual function\u001b[0m\u001b[0;34m\u001b[0m\u001b[0;34m\u001b[0m\u001b[0m\n\u001b[0;32m--> 563\u001b[0;31m         \u001b[0mout\u001b[0m\u001b[0;34m:\u001b[0m \u001b[0mUnion\u001b[0m\u001b[0;34m[\u001b[0m\u001b[0;34m\"Dataset\"\u001b[0m\u001b[0;34m,\u001b[0m \u001b[0;34m\"DatasetDict\"\u001b[0m\u001b[0;34m]\u001b[0m \u001b[0;34m=\u001b[0m \u001b[0mfunc\u001b[0m\u001b[0;34m(\u001b[0m\u001b[0mself\u001b[0m\u001b[0;34m,\u001b[0m \u001b[0;34m*\u001b[0m\u001b[0margs\u001b[0m\u001b[0;34m,\u001b[0m \u001b[0;34m**\u001b[0m\u001b[0mkwargs\u001b[0m\u001b[0;34m)\u001b[0m\u001b[0;34m\u001b[0m\u001b[0;34m\u001b[0m\u001b[0m\n\u001b[0m\u001b[1;32m    564\u001b[0m         \u001b[0mdatasets\u001b[0m\u001b[0;34m:\u001b[0m \u001b[0mList\u001b[0m\u001b[0;34m[\u001b[0m\u001b[0;34m\"Dataset\"\u001b[0m\u001b[0;34m]\u001b[0m \u001b[0;34m=\u001b[0m \u001b[0mlist\u001b[0m\u001b[0;34m(\u001b[0m\u001b[0mout\u001b[0m\u001b[0;34m.\u001b[0m\u001b[0mvalues\u001b[0m\u001b[0;34m(\u001b[0m\u001b[0;34m)\u001b[0m\u001b[0;34m)\u001b[0m \u001b[0;32mif\u001b[0m \u001b[0misinstance\u001b[0m\u001b[0;34m(\u001b[0m\u001b[0mout\u001b[0m\u001b[0;34m,\u001b[0m \u001b[0mdict\u001b[0m\u001b[0;34m)\u001b[0m \u001b[0;32melse\u001b[0m \u001b[0;34m[\u001b[0m\u001b[0mout\u001b[0m\u001b[0;34m]\u001b[0m\u001b[0;34m\u001b[0m\u001b[0;34m\u001b[0m\u001b[0m\n\u001b[1;32m    565\u001b[0m         \u001b[0;32mfor\u001b[0m \u001b[0mdataset\u001b[0m \u001b[0;32min\u001b[0m \u001b[0mdatasets\u001b[0m\u001b[0;34m:\u001b[0m\u001b[0;34m\u001b[0m\u001b[0;34m\u001b[0m\u001b[0m\n",
      "\u001b[0;32m/usr/local/lib/python3.9/dist-packages/datasets/arrow_dataset.py\u001b[0m in \u001b[0;36mwrapper\u001b[0;34m(*args, **kwargs)\u001b[0m\n\u001b[1;32m    526\u001b[0m         }\n\u001b[1;32m    527\u001b[0m         \u001b[0;31m# apply actual function\u001b[0m\u001b[0;34m\u001b[0m\u001b[0;34m\u001b[0m\u001b[0m\n\u001b[0;32m--> 528\u001b[0;31m         \u001b[0mout\u001b[0m\u001b[0;34m:\u001b[0m \u001b[0mUnion\u001b[0m\u001b[0;34m[\u001b[0m\u001b[0;34m\"Dataset\"\u001b[0m\u001b[0;34m,\u001b[0m \u001b[0;34m\"DatasetDict\"\u001b[0m\u001b[0;34m]\u001b[0m \u001b[0;34m=\u001b[0m \u001b[0mfunc\u001b[0m\u001b[0;34m(\u001b[0m\u001b[0mself\u001b[0m\u001b[0;34m,\u001b[0m \u001b[0;34m*\u001b[0m\u001b[0margs\u001b[0m\u001b[0;34m,\u001b[0m \u001b[0;34m**\u001b[0m\u001b[0mkwargs\u001b[0m\u001b[0;34m)\u001b[0m\u001b[0;34m\u001b[0m\u001b[0;34m\u001b[0m\u001b[0m\n\u001b[0m\u001b[1;32m    529\u001b[0m         \u001b[0mdatasets\u001b[0m\u001b[0;34m:\u001b[0m \u001b[0mList\u001b[0m\u001b[0;34m[\u001b[0m\u001b[0;34m\"Dataset\"\u001b[0m\u001b[0;34m]\u001b[0m \u001b[0;34m=\u001b[0m \u001b[0mlist\u001b[0m\u001b[0;34m(\u001b[0m\u001b[0mout\u001b[0m\u001b[0;34m.\u001b[0m\u001b[0mvalues\u001b[0m\u001b[0;34m(\u001b[0m\u001b[0;34m)\u001b[0m\u001b[0;34m)\u001b[0m \u001b[0;32mif\u001b[0m \u001b[0misinstance\u001b[0m\u001b[0;34m(\u001b[0m\u001b[0mout\u001b[0m\u001b[0;34m,\u001b[0m \u001b[0mdict\u001b[0m\u001b[0;34m)\u001b[0m \u001b[0;32melse\u001b[0m \u001b[0;34m[\u001b[0m\u001b[0mout\u001b[0m\u001b[0;34m]\u001b[0m\u001b[0;34m\u001b[0m\u001b[0;34m\u001b[0m\u001b[0m\n\u001b[1;32m    530\u001b[0m         \u001b[0;31m# re-apply format to the output\u001b[0m\u001b[0;34m\u001b[0m\u001b[0;34m\u001b[0m\u001b[0m\n",
      "\u001b[0;32m/usr/local/lib/python3.9/dist-packages/datasets/arrow_dataset.py\u001b[0m in \u001b[0;36mmap\u001b[0;34m(self, function, with_indices, with_rank, input_columns, batched, batch_size, drop_last_batch, remove_columns, keep_in_memory, load_from_cache_file, cache_file_name, writer_batch_size, features, disable_nullable, fn_kwargs, num_proc, suffix_template, new_fingerprint, desc)\u001b[0m\n\u001b[1;32m   3002\u001b[0m                     \u001b[0mdesc\u001b[0m\u001b[0;34m=\u001b[0m\u001b[0mdesc\u001b[0m \u001b[0;32mor\u001b[0m \u001b[0;34m\"Map\"\u001b[0m\u001b[0;34m,\u001b[0m\u001b[0;34m\u001b[0m\u001b[0;34m\u001b[0m\u001b[0m\n\u001b[1;32m   3003\u001b[0m                 ) as pbar:\n\u001b[0;32m-> 3004\u001b[0;31m                     \u001b[0;32mfor\u001b[0m \u001b[0mrank\u001b[0m\u001b[0;34m,\u001b[0m \u001b[0mdone\u001b[0m\u001b[0;34m,\u001b[0m \u001b[0mcontent\u001b[0m \u001b[0;32min\u001b[0m \u001b[0mDataset\u001b[0m\u001b[0;34m.\u001b[0m\u001b[0m_map_single\u001b[0m\u001b[0;34m(\u001b[0m\u001b[0;34m**\u001b[0m\u001b[0mdataset_kwargs\u001b[0m\u001b[0;34m)\u001b[0m\u001b[0;34m:\u001b[0m\u001b[0;34m\u001b[0m\u001b[0;34m\u001b[0m\u001b[0m\n\u001b[0m\u001b[1;32m   3005\u001b[0m                         \u001b[0;32mif\u001b[0m \u001b[0mdone\u001b[0m\u001b[0;34m:\u001b[0m\u001b[0;34m\u001b[0m\u001b[0;34m\u001b[0m\u001b[0m\n\u001b[1;32m   3006\u001b[0m                             \u001b[0mshards_done\u001b[0m \u001b[0;34m+=\u001b[0m \u001b[0;36m1\u001b[0m\u001b[0;34m\u001b[0m\u001b[0;34m\u001b[0m\u001b[0m\n",
      "\u001b[0;32m/usr/local/lib/python3.9/dist-packages/datasets/arrow_dataset.py\u001b[0m in \u001b[0;36m_map_single\u001b[0;34m(shard, function, with_indices, with_rank, input_columns, batched, batch_size, drop_last_batch, remove_columns, keep_in_memory, cache_file_name, writer_batch_size, features, disable_nullable, fn_kwargs, new_fingerprint, rank, offset)\u001b[0m\n\u001b[1;32m   3356\u001b[0m                     \u001b[0m_time\u001b[0m \u001b[0;34m=\u001b[0m \u001b[0mtime\u001b[0m\u001b[0;34m.\u001b[0m\u001b[0mtime\u001b[0m\u001b[0;34m(\u001b[0m\u001b[0;34m)\u001b[0m\u001b[0;34m\u001b[0m\u001b[0;34m\u001b[0m\u001b[0m\n\u001b[1;32m   3357\u001b[0m                     \u001b[0;32mfor\u001b[0m \u001b[0mi\u001b[0m\u001b[0;34m,\u001b[0m \u001b[0mexample\u001b[0m \u001b[0;32min\u001b[0m \u001b[0mshard_iterable\u001b[0m\u001b[0;34m:\u001b[0m\u001b[0;34m\u001b[0m\u001b[0;34m\u001b[0m\u001b[0m\n\u001b[0;32m-> 3358\u001b[0;31m                         \u001b[0mexample\u001b[0m \u001b[0;34m=\u001b[0m \u001b[0mapply_function_on_filtered_inputs\u001b[0m\u001b[0;34m(\u001b[0m\u001b[0mexample\u001b[0m\u001b[0;34m,\u001b[0m \u001b[0mi\u001b[0m\u001b[0;34m,\u001b[0m \u001b[0moffset\u001b[0m\u001b[0;34m=\u001b[0m\u001b[0moffset\u001b[0m\u001b[0;34m)\u001b[0m\u001b[0;34m\u001b[0m\u001b[0;34m\u001b[0m\u001b[0m\n\u001b[0m\u001b[1;32m   3359\u001b[0m                         \u001b[0;32mif\u001b[0m \u001b[0mupdate_data\u001b[0m\u001b[0;34m:\u001b[0m\u001b[0;34m\u001b[0m\u001b[0;34m\u001b[0m\u001b[0m\n\u001b[1;32m   3360\u001b[0m                             \u001b[0;32mif\u001b[0m \u001b[0mi\u001b[0m \u001b[0;34m==\u001b[0m \u001b[0;36m0\u001b[0m\u001b[0;34m:\u001b[0m\u001b[0;34m\u001b[0m\u001b[0;34m\u001b[0m\u001b[0m\n",
      "\u001b[0;32m/usr/local/lib/python3.9/dist-packages/datasets/arrow_dataset.py\u001b[0m in \u001b[0;36mapply_function_on_filtered_inputs\u001b[0;34m(pa_inputs, indices, check_same_num_examples, offset)\u001b[0m\n\u001b[1;32m   3259\u001b[0m             \u001b[0;32mif\u001b[0m \u001b[0mwith_rank\u001b[0m\u001b[0;34m:\u001b[0m\u001b[0;34m\u001b[0m\u001b[0;34m\u001b[0m\u001b[0m\n\u001b[1;32m   3260\u001b[0m                 \u001b[0madditional_args\u001b[0m \u001b[0;34m+=\u001b[0m \u001b[0;34m(\u001b[0m\u001b[0mrank\u001b[0m\u001b[0;34m,\u001b[0m\u001b[0;34m)\u001b[0m\u001b[0;34m\u001b[0m\u001b[0;34m\u001b[0m\u001b[0m\n\u001b[0;32m-> 3261\u001b[0;31m             \u001b[0mprocessed_inputs\u001b[0m \u001b[0;34m=\u001b[0m \u001b[0mfunction\u001b[0m\u001b[0;34m(\u001b[0m\u001b[0;34m*\u001b[0m\u001b[0mfn_args\u001b[0m\u001b[0;34m,\u001b[0m \u001b[0;34m*\u001b[0m\u001b[0madditional_args\u001b[0m\u001b[0;34m,\u001b[0m \u001b[0;34m**\u001b[0m\u001b[0mfn_kwargs\u001b[0m\u001b[0;34m)\u001b[0m\u001b[0;34m\u001b[0m\u001b[0;34m\u001b[0m\u001b[0m\n\u001b[0m\u001b[1;32m   3262\u001b[0m             \u001b[0;32mif\u001b[0m \u001b[0misinstance\u001b[0m\u001b[0;34m(\u001b[0m\u001b[0mprocessed_inputs\u001b[0m\u001b[0;34m,\u001b[0m \u001b[0mLazyDict\u001b[0m\u001b[0;34m)\u001b[0m\u001b[0;34m:\u001b[0m\u001b[0;34m\u001b[0m\u001b[0;34m\u001b[0m\u001b[0m\n\u001b[1;32m   3263\u001b[0m                 processed_inputs = {\n",
      "\u001b[0;32m<ipython-input-137-832ca9a6657e>\u001b[0m in \u001b[0;36mmap_rank\u001b[0;34m(example)\u001b[0m\n\u001b[1;32m      2\u001b[0m \u001b[0;34m\u001b[0m\u001b[0m\n\u001b[1;32m      3\u001b[0m \u001b[0;32mdef\u001b[0m \u001b[0mmap_rank\u001b[0m\u001b[0;34m(\u001b[0m\u001b[0mexample\u001b[0m\u001b[0;34m)\u001b[0m\u001b[0;34m:\u001b[0m\u001b[0;34m\u001b[0m\u001b[0;34m\u001b[0m\u001b[0m\n\u001b[0;32m----> 4\u001b[0;31m     res = openai.ChatCompletion.create(\n\u001b[0m\u001b[1;32m      5\u001b[0m         \u001b[0mmodel\u001b[0m\u001b[0;34m=\u001b[0m\u001b[0;34m'gpt-4'\u001b[0m\u001b[0;34m,\u001b[0m\u001b[0;34m\u001b[0m\u001b[0;34m\u001b[0m\u001b[0m\n\u001b[1;32m      6\u001b[0m         \u001b[0mmessages\u001b[0m\u001b[0;34m=\u001b[0m\u001b[0;34m[\u001b[0m\u001b[0mcharacter_message\u001b[0m\u001b[0;34m,\u001b[0m \u001b[0mget_user_message\u001b[0m\u001b[0;34m(\u001b[0m\u001b[0mexample\u001b[0m\u001b[0;34m)\u001b[0m\u001b[0;34m]\u001b[0m\u001b[0;34m,\u001b[0m\u001b[0;34m\u001b[0m\u001b[0;34m\u001b[0m\u001b[0m\n",
      "\u001b[0;32m/usr/local/lib/python3.9/dist-packages/openai/api_resources/chat_completion.py\u001b[0m in \u001b[0;36mcreate\u001b[0;34m(cls, *args, **kwargs)\u001b[0m\n\u001b[1;32m     23\u001b[0m         \u001b[0;32mwhile\u001b[0m \u001b[0;32mTrue\u001b[0m\u001b[0;34m:\u001b[0m\u001b[0;34m\u001b[0m\u001b[0;34m\u001b[0m\u001b[0m\n\u001b[1;32m     24\u001b[0m             \u001b[0;32mtry\u001b[0m\u001b[0;34m:\u001b[0m\u001b[0;34m\u001b[0m\u001b[0;34m\u001b[0m\u001b[0m\n\u001b[0;32m---> 25\u001b[0;31m                 \u001b[0;32mreturn\u001b[0m \u001b[0msuper\u001b[0m\u001b[0;34m(\u001b[0m\u001b[0;34m)\u001b[0m\u001b[0;34m.\u001b[0m\u001b[0mcreate\u001b[0m\u001b[0;34m(\u001b[0m\u001b[0;34m*\u001b[0m\u001b[0margs\u001b[0m\u001b[0;34m,\u001b[0m \u001b[0;34m**\u001b[0m\u001b[0mkwargs\u001b[0m\u001b[0;34m)\u001b[0m\u001b[0;34m\u001b[0m\u001b[0;34m\u001b[0m\u001b[0m\n\u001b[0m\u001b[1;32m     26\u001b[0m             \u001b[0;32mexcept\u001b[0m \u001b[0mTryAgain\u001b[0m \u001b[0;32mas\u001b[0m \u001b[0me\u001b[0m\u001b[0;34m:\u001b[0m\u001b[0;34m\u001b[0m\u001b[0;34m\u001b[0m\u001b[0m\n\u001b[1;32m     27\u001b[0m                 \u001b[0;32mif\u001b[0m \u001b[0mtimeout\u001b[0m \u001b[0;32mis\u001b[0m \u001b[0;32mnot\u001b[0m \u001b[0;32mNone\u001b[0m \u001b[0;32mand\u001b[0m \u001b[0mtime\u001b[0m\u001b[0;34m.\u001b[0m\u001b[0mtime\u001b[0m\u001b[0;34m(\u001b[0m\u001b[0;34m)\u001b[0m \u001b[0;34m>\u001b[0m \u001b[0mstart\u001b[0m \u001b[0;34m+\u001b[0m \u001b[0mtimeout\u001b[0m\u001b[0;34m:\u001b[0m\u001b[0;34m\u001b[0m\u001b[0;34m\u001b[0m\u001b[0m\n",
      "\u001b[0;32m/usr/local/lib/python3.9/dist-packages/openai/api_resources/abstract/engine_api_resource.py\u001b[0m in \u001b[0;36mcreate\u001b[0;34m(cls, api_key, api_base, api_type, request_id, api_version, organization, **params)\u001b[0m\n\u001b[1;32m    151\u001b[0m         )\n\u001b[1;32m    152\u001b[0m \u001b[0;34m\u001b[0m\u001b[0m\n\u001b[0;32m--> 153\u001b[0;31m         response, _, api_key = requestor.request(\n\u001b[0m\u001b[1;32m    154\u001b[0m             \u001b[0;34m\"post\"\u001b[0m\u001b[0;34m,\u001b[0m\u001b[0;34m\u001b[0m\u001b[0;34m\u001b[0m\u001b[0m\n\u001b[1;32m    155\u001b[0m             \u001b[0murl\u001b[0m\u001b[0;34m,\u001b[0m\u001b[0;34m\u001b[0m\u001b[0;34m\u001b[0m\u001b[0m\n",
      "\u001b[0;32m/usr/local/lib/python3.9/dist-packages/openai/api_requestor.py\u001b[0m in \u001b[0;36mrequest\u001b[0;34m(self, method, url, params, headers, files, stream, request_id, request_timeout)\u001b[0m\n\u001b[1;32m    224\u001b[0m             \u001b[0mrequest_timeout\u001b[0m\u001b[0;34m=\u001b[0m\u001b[0mrequest_timeout\u001b[0m\u001b[0;34m,\u001b[0m\u001b[0;34m\u001b[0m\u001b[0;34m\u001b[0m\u001b[0m\n\u001b[1;32m    225\u001b[0m         )\n\u001b[0;32m--> 226\u001b[0;31m         \u001b[0mresp\u001b[0m\u001b[0;34m,\u001b[0m \u001b[0mgot_stream\u001b[0m \u001b[0;34m=\u001b[0m \u001b[0mself\u001b[0m\u001b[0;34m.\u001b[0m\u001b[0m_interpret_response\u001b[0m\u001b[0;34m(\u001b[0m\u001b[0mresult\u001b[0m\u001b[0;34m,\u001b[0m \u001b[0mstream\u001b[0m\u001b[0;34m)\u001b[0m\u001b[0;34m\u001b[0m\u001b[0;34m\u001b[0m\u001b[0m\n\u001b[0m\u001b[1;32m    227\u001b[0m         \u001b[0;32mreturn\u001b[0m \u001b[0mresp\u001b[0m\u001b[0;34m,\u001b[0m \u001b[0mgot_stream\u001b[0m\u001b[0;34m,\u001b[0m \u001b[0mself\u001b[0m\u001b[0;34m.\u001b[0m\u001b[0mapi_key\u001b[0m\u001b[0;34m\u001b[0m\u001b[0;34m\u001b[0m\u001b[0m\n\u001b[1;32m    228\u001b[0m \u001b[0;34m\u001b[0m\u001b[0m\n",
      "\u001b[0;32m/usr/local/lib/python3.9/dist-packages/openai/api_requestor.py\u001b[0m in \u001b[0;36m_interpret_response\u001b[0;34m(self, result, stream)\u001b[0m\n\u001b[1;32m    618\u001b[0m         \u001b[0;32melse\u001b[0m\u001b[0;34m:\u001b[0m\u001b[0;34m\u001b[0m\u001b[0;34m\u001b[0m\u001b[0m\n\u001b[1;32m    619\u001b[0m             return (\n\u001b[0;32m--> 620\u001b[0;31m                 self._interpret_response_line(\n\u001b[0m\u001b[1;32m    621\u001b[0m                     \u001b[0mresult\u001b[0m\u001b[0;34m.\u001b[0m\u001b[0mcontent\u001b[0m\u001b[0;34m.\u001b[0m\u001b[0mdecode\u001b[0m\u001b[0;34m(\u001b[0m\u001b[0;34m\"utf-8\"\u001b[0m\u001b[0;34m)\u001b[0m\u001b[0;34m,\u001b[0m\u001b[0;34m\u001b[0m\u001b[0;34m\u001b[0m\u001b[0m\n\u001b[1;32m    622\u001b[0m                     \u001b[0mresult\u001b[0m\u001b[0;34m.\u001b[0m\u001b[0mstatus_code\u001b[0m\u001b[0;34m,\u001b[0m\u001b[0;34m\u001b[0m\u001b[0;34m\u001b[0m\u001b[0m\n",
      "\u001b[0;32m/usr/local/lib/python3.9/dist-packages/openai/api_requestor.py\u001b[0m in \u001b[0;36m_interpret_response_line\u001b[0;34m(self, rbody, rcode, rheaders, stream)\u001b[0m\n\u001b[1;32m    681\u001b[0m         \u001b[0mstream_error\u001b[0m \u001b[0;34m=\u001b[0m \u001b[0mstream\u001b[0m \u001b[0;32mand\u001b[0m \u001b[0;34m\"error\"\u001b[0m \u001b[0;32min\u001b[0m \u001b[0mresp\u001b[0m\u001b[0;34m.\u001b[0m\u001b[0mdata\u001b[0m\u001b[0;34m\u001b[0m\u001b[0;34m\u001b[0m\u001b[0m\n\u001b[1;32m    682\u001b[0m         \u001b[0;32mif\u001b[0m \u001b[0mstream_error\u001b[0m \u001b[0;32mor\u001b[0m \u001b[0;32mnot\u001b[0m \u001b[0;36m200\u001b[0m \u001b[0;34m<=\u001b[0m \u001b[0mrcode\u001b[0m \u001b[0;34m<\u001b[0m \u001b[0;36m300\u001b[0m\u001b[0;34m:\u001b[0m\u001b[0;34m\u001b[0m\u001b[0;34m\u001b[0m\u001b[0m\n\u001b[0;32m--> 683\u001b[0;31m             raise self.handle_error_response(\n\u001b[0m\u001b[1;32m    684\u001b[0m                 \u001b[0mrbody\u001b[0m\u001b[0;34m,\u001b[0m \u001b[0mrcode\u001b[0m\u001b[0;34m,\u001b[0m \u001b[0mresp\u001b[0m\u001b[0;34m.\u001b[0m\u001b[0mdata\u001b[0m\u001b[0;34m,\u001b[0m \u001b[0mrheaders\u001b[0m\u001b[0;34m,\u001b[0m \u001b[0mstream_error\u001b[0m\u001b[0;34m=\u001b[0m\u001b[0mstream_error\u001b[0m\u001b[0;34m\u001b[0m\u001b[0;34m\u001b[0m\u001b[0m\n\u001b[1;32m    685\u001b[0m             )\n",
      "\u001b[0;31mInvalidRequestError\u001b[0m: The model: `gpt-4` does not exist"
     ]
    }
   ],
   "source": [
    "ds['train'].select(range(1)).map(map_rank)['model_answer']"
   ]
  },
  {
   "attachments": {},
   "cell_type": "markdown",
   "metadata": {},
   "source": [
    "You are a human that rank orders mnemonics. The mnemonics have been constructed to help students learn Japanese Kanji and are based on its component meanings such that the Kanji meaning can be recalled easily. You are given four different mnemonics and you have to order them from most memorable to least memorable.\n",
    "Output the ordered numbers separated by commas. E.g. 4,2,1,3\n",
    "\n",
    "\n",
    "Component meanings: moon,power\\nKanji meaning: armpit\\nMnemonics:\\n\n",
    "[1] It's been armpit time for a while now, but moon power has finally arrived in the form of solar panels that can be installed on your home or business. The technology is called photovoltaics (PV), and it works by harnessing sunlight to generate electricity from light-emitting diodes known as PV cells\\n\n",
    "[2] Once upon a time there was a man who lived on the moon. He was so powerful that he could lift a car with one arm. He was so strong that his armpit could hold the weight of a small planet. He used his moon powers to help people in need and the people of the moon were grateful.\\n\n",
    "[3] The moon has a mysterious power that can be felt in the armpit of the night. As we gaze upon its beauty, we can't help but feel a sense of awe and wonder. The moon has an undeniable power that can be seen in its ability to light up the darkness and bring us peace.\\n\n",
    "[4] The moon has a lot of power that is power it gets from the power of every armpit of every human on earth! Why does your armpit smell? It’s because the moon is draining the power from your armpit. The moon saps power from your armpit and that power is sucked up into the sky where the moon collects the power for its own devices. Imagine an aura of stinky power traveling from your armpit to the moon. Feel the power leaving you as the moon saps your power through your armpits.\\n\n",
    "\n",
    "\n",
    "Based on my analysis of the given mnemonics, the ordered numbers from most memorable to least memorable are: 2, 3, 1, 4.\n",
    "\n",
    "Here's why I think so:\n",
    "\n",
    "Mnemonic [2] personifies the Kanji by creating a story of a powerful man living on the moon, whose armpit is strong enough to hold a planet. This creates a vivid and engaging image that's easy to remember, making it the most memorable of the four.\n",
    "\n",
    "Mnemonic [3] also makes use of imagery and connects the power of the moon with the feeling in one's armpit at night. This association is unique and interesting, making it the second most memorable mnemonic.\n",
    "\n",
    "Mnemonic [1] explains the meaning of the Kanji using technical terminology, photovoltaics, which may be difficult for some students to remember. However, it does create a clear and logical connection between the Kanji meaning and the component meanings of moon and power. This makes it the third most memorable mnemonic.\n",
    "\n",
    "Mnemonic [4] connects the moon's power with the smell of one's armpit, which may not be the most appealing association. Additionally, the explanation provided for the Kanji meaning is not as clear or memorable as the other mnemonics. Therefore, it's the least memorable of the four.\n",
    "\n",
    "GPT 4\n",
    "\n",
    "[2] Ranked 1st: This mnemonic creates a vivid and engaging story about a man who lived on the moon with incredible power. It directly relates the component meanings (moon and power) to the Kanji meaning (armpit) by stating that the man's armpit could hold the weight of a small planet. The imagery of the man's strength and the connection to the moon make this mnemonic memorable.\n",
    "\n",
    "[3] Ranked 2nd: This mnemonic ties the component meanings to the Kanji meaning by using poetic language and creating an atmosphere of awe and wonder. It describes the moon's power as something that can be felt in the \"armpit of the night,\" making the connection to the Kanji meaning. While it may not be as striking as the story in mnemonic 2, it is still memorable because of its poetic nature.\n",
    "\n",
    "[4] Ranked 3rd: This mnemonic takes a humorous approach, suggesting that the moon draws its power from the armpits of humans on Earth. The concept of \"stinky power\" being sapped from one's armpit creates a quirky image that can help with memorization. However, the direct connection between the component meanings and the Kanji meaning is not as strong as in the first two mnemonics.\n",
    "\n",
    "[1] Ranked 4th: This mnemonic primarily focuses on solar panels and photovoltaics, which are unrelated to the Kanji meaning (armpit) and the component meanings (moon, power). The phrase \"armpit time\" is used, but it does not make a strong connection between the component meanings and the Kanji meaning. As a result, this mnemonic is the least memorable of the four."
   ]
  },
  {
   "cell_type": "markdown",
   "metadata": {},
   "source": []
  }
 ],
 "metadata": {
  "kernelspec": {
   "display_name": "Python 3",
   "language": "python",
   "name": "python3"
  },
  "language_info": {
   "codemirror_mode": {
    "name": "ipython",
    "version": 3
   },
   "file_extension": ".py",
   "mimetype": "text/x-python",
   "name": "python",
   "nbconvert_exporter": "python",
   "pygments_lexer": "ipython3",
   "version": "3.9.16"
  },
  "orig_nbformat": 4
 },
 "nbformat": 4,
 "nbformat_minor": 2
}
