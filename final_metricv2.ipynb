{
 "cells": [
  {
   "cell_type": "code",
   "execution_count": 1,
   "metadata": {},
   "outputs": [
    {
     "name": "stdout",
     "output_type": "stream",
     "text": [
      "\u001b[2K     \u001b[90m━━━━━━━━━━━━━━━━━━━━━━━━━━━━━━━━━━━━━━\u001b[0m \u001b[32m468.7/468.7 kB\u001b[0m \u001b[31m25.2 MB/s\u001b[0m eta \u001b[36m0:00:00\u001b[0m\n",
      "\u001b[2K     \u001b[90m━━━━━━━━━━━━━━━━━━━━━━━━━━━━━━━━━━━━━━━━\u001b[0m \u001b[32m7.0/7.0 MB\u001b[0m \u001b[31m75.2 MB/s\u001b[0m eta \u001b[36m0:00:00\u001b[0m:00:01\u001b[0m00:01\u001b[0m\n",
      "\u001b[2K     \u001b[90m━━━━━━━━━━━━━━━━━━━━━━━━━━━━━━━━━━━━━━\u001b[0m \u001b[32m110.5/110.5 kB\u001b[0m \u001b[31m14.8 MB/s\u001b[0m eta \u001b[36m0:00:00\u001b[0m\n",
      "\u001b[2K     \u001b[90m━━━━━━━━━━━━━━━━━━━━━━━━━━━━━━━━━━━━━━\u001b[0m \u001b[32m200.1/200.1 kB\u001b[0m \u001b[31m23.4 MB/s\u001b[0m eta \u001b[36m0:00:00\u001b[0m\n",
      "\u001b[2K     \u001b[90m━━━━━━━━━━━━━━━━━━━━━━━━━━━━━━━━━━━━━━\u001b[0m \u001b[32m212.2/212.2 kB\u001b[0m \u001b[31m12.6 MB/s\u001b[0m eta \u001b[36m0:00:00\u001b[0m\n",
      "\u001b[2K     \u001b[90m━━━━━━━━━━━━━━━━━━━━━━━━━━━━━━━━━━━━━━\u001b[0m \u001b[32m132.9/132.9 kB\u001b[0m \u001b[31m15.5 MB/s\u001b[0m eta \u001b[36m0:00:00\u001b[0m\n",
      "\u001b[2K     \u001b[90m━━━━━━━━━━━━━━━━━━━━━━━━━━━━━━━━━━━━━━━━\u001b[0m \u001b[32m1.0/1.0 MB\u001b[0m \u001b[31m47.9 MB/s\u001b[0m eta \u001b[36m0:00:00\u001b[0m\n",
      "\u001b[2K     \u001b[90m━━━━━━━━━━━━━━━━━━━━━━━━━━━━━━━━━━━━━━━━\u001b[0m \u001b[32m7.8/7.8 MB\u001b[0m \u001b[31m83.5 MB/s\u001b[0m eta \u001b[36m0:00:00\u001b[0m:00:01\u001b[0m00:01\u001b[0m\n",
      "\u001b[2K     \u001b[90m━━━━━━━━━━━━━━━━━━━━━━━━━━━━━━━━━━━━━━\u001b[0m \u001b[32m158.8/158.8 kB\u001b[0m \u001b[31m16.9 MB/s\u001b[0m eta \u001b[36m0:00:00\u001b[0m\n",
      "\u001b[2K     \u001b[90m━━━━━━━━━━━━━━━━━━━━━━━━━━━━━━━━━━━━━━\u001b[0m \u001b[32m264.6/264.6 kB\u001b[0m \u001b[31m29.1 MB/s\u001b[0m eta \u001b[36m0:00:00\u001b[0m\n",
      "\u001b[2K     \u001b[90m━━━━━━━━━━━━━━━━━━━━━━━━━━━━━━━━━━━━━━━\u001b[0m \u001b[32m114.2/114.2 kB\u001b[0m \u001b[31m9.1 MB/s\u001b[0m eta \u001b[36m0:00:00\u001b[0m\n",
      "\u001b[?25h"
     ]
    }
   ],
   "source": [
    "%pip install -q datasets transformers"
   ]
  },
  {
   "cell_type": "code",
   "execution_count": 2,
   "metadata": {},
   "outputs": [
    {
     "data": {
      "application/vnd.jupyter.widget-view+json": {
       "model_id": "4de6b928608e4d63ac61fa5295a5f3d2",
       "version_major": 2,
       "version_minor": 0
      },
      "text/plain": [
       "Downloading readme:   0%|          | 0.00/131 [00:00<?, ?B/s]"
      ]
     },
     "metadata": {},
     "output_type": "display_data"
    },
    {
     "name": "stdout",
     "output_type": "stream",
     "text": [
      "Downloading and preparing dataset json/martingrzzler--mnemonics_benchmark to /root/.cache/huggingface/datasets/martingrzzler___json/martingrzzler--mnemonics_benchmark-6cc75b71b93e3c15/0.0.0/fe5dd6ea2639a6df622901539cb550cf8797e5a6b2dd7af1cf934bed8e233e6e...\n"
     ]
    },
    {
     "data": {
      "application/vnd.jupyter.widget-view+json": {
       "model_id": "200d1ab101124b79aaf598378d09597b",
       "version_major": 2,
       "version_minor": 0
      },
      "text/plain": [
       "Downloading data files:   0%|          | 0/1 [00:00<?, ?it/s]"
      ]
     },
     "metadata": {},
     "output_type": "display_data"
    },
    {
     "data": {
      "application/vnd.jupyter.widget-view+json": {
       "model_id": "eef94e4bcb8748dfa4a37af3e1b71761",
       "version_major": 2,
       "version_minor": 0
      },
      "text/plain": [
       "Downloading data:   0%|          | 0.00/274k [00:00<?, ?B/s]"
      ]
     },
     "metadata": {},
     "output_type": "display_data"
    },
    {
     "data": {
      "application/vnd.jupyter.widget-view+json": {
       "model_id": "e49cd28aebe4410ea90539c566874f4a",
       "version_major": 2,
       "version_minor": 0
      },
      "text/plain": [
       "Extracting data files:   0%|          | 0/1 [00:00<?, ?it/s]"
      ]
     },
     "metadata": {},
     "output_type": "display_data"
    },
    {
     "data": {
      "application/vnd.jupyter.widget-view+json": {
       "model_id": "75f737af4cab44f7b127b0ed2e6cc423",
       "version_major": 2,
       "version_minor": 0
      },
      "text/plain": [
       "Generating train split: 0 examples [00:00, ? examples/s]"
      ]
     },
     "metadata": {},
     "output_type": "display_data"
    },
    {
     "name": "stdout",
     "output_type": "stream",
     "text": [
      "Dataset json downloaded and prepared to /root/.cache/huggingface/datasets/martingrzzler___json/martingrzzler--mnemonics_benchmark-6cc75b71b93e3c15/0.0.0/fe5dd6ea2639a6df622901539cb550cf8797e5a6b2dd7af1cf934bed8e233e6e. Subsequent calls will reuse this data.\n"
     ]
    },
    {
     "data": {
      "application/vnd.jupyter.widget-view+json": {
       "model_id": "478fee00c7814ecaa8e5834d6404f625",
       "version_major": 2,
       "version_minor": 0
      },
      "text/plain": [
       "  0%|          | 0/1 [00:00<?, ?it/s]"
      ]
     },
     "metadata": {},
     "output_type": "display_data"
    }
   ],
   "source": [
    "from datasets import load_dataset\n",
    "\n",
    "ds = load_dataset('martingrzzler/mnemonics_benchmark')"
   ]
  },
  {
   "cell_type": "code",
   "execution_count": 3,
   "metadata": {},
   "outputs": [
    {
     "name": "stdout",
     "output_type": "stream",
     "text": [
      "Looking in indexes: https://pypi.org/simple, https://us-python.pkg.dev/colab-wheels/public/simple/\n",
      "Collecting git+https://github.com/boudinfl/pke.git\n",
      "  Cloning https://github.com/boudinfl/pke.git to /tmp/pip-req-build-ygtzlnvd\n",
      "  Running command git clone --filter=blob:none --quiet https://github.com/boudinfl/pke.git /tmp/pip-req-build-ygtzlnvd\n",
      "  Resolved https://github.com/boudinfl/pke.git to commit f2d4f5d2252c64d23defccd32fdac8809cfd7ce0\n",
      "  Preparing metadata (setup.py) ... \u001b[?25l\u001b[?25hdone\n",
      "Requirement already satisfied: nltk in /usr/local/lib/python3.9/dist-packages (from pke==2.0.0) (3.8.1)\n",
      "Requirement already satisfied: networkx in /usr/local/lib/python3.9/dist-packages (from pke==2.0.0) (3.1)\n",
      "Requirement already satisfied: numpy in /usr/local/lib/python3.9/dist-packages (from pke==2.0.0) (1.22.4)\n",
      "Requirement already satisfied: scipy in /usr/local/lib/python3.9/dist-packages (from pke==2.0.0) (1.10.1)\n",
      "Requirement already satisfied: scikit-learn in /usr/local/lib/python3.9/dist-packages (from pke==2.0.0) (1.2.2)\n",
      "Collecting unidecode\n",
      "  Downloading Unidecode-1.3.6-py3-none-any.whl (235 kB)\n",
      "\u001b[2K     \u001b[90m━━━━━━━━━━━━━━━━━━━━━━━━━━━━━━━━━━━━━━\u001b[0m \u001b[32m235.9/235.9 kB\u001b[0m \u001b[31m14.1 MB/s\u001b[0m eta \u001b[36m0:00:00\u001b[0m\n",
      "\u001b[?25hRequirement already satisfied: future in /usr/local/lib/python3.9/dist-packages (from pke==2.0.0) (0.18.3)\n",
      "Requirement already satisfied: joblib in /usr/local/lib/python3.9/dist-packages (from pke==2.0.0) (1.2.0)\n",
      "Requirement already satisfied: spacy>=3.2.3 in /usr/local/lib/python3.9/dist-packages (from pke==2.0.0) (3.5.2)\n",
      "Requirement already satisfied: jinja2 in /usr/local/lib/python3.9/dist-packages (from spacy>=3.2.3->pke==2.0.0) (3.1.2)\n",
      "Requirement already satisfied: langcodes<4.0.0,>=3.2.0 in /usr/local/lib/python3.9/dist-packages (from spacy>=3.2.3->pke==2.0.0) (3.3.0)\n",
      "Requirement already satisfied: preshed<3.1.0,>=3.0.2 in /usr/local/lib/python3.9/dist-packages (from spacy>=3.2.3->pke==2.0.0) (3.0.8)\n",
      "Requirement already satisfied: setuptools in /usr/local/lib/python3.9/dist-packages (from spacy>=3.2.3->pke==2.0.0) (67.6.1)\n",
      "Requirement already satisfied: spacy-legacy<3.1.0,>=3.0.11 in /usr/local/lib/python3.9/dist-packages (from spacy>=3.2.3->pke==2.0.0) (3.0.12)\n",
      "Requirement already satisfied: pathy>=0.10.0 in /usr/local/lib/python3.9/dist-packages (from spacy>=3.2.3->pke==2.0.0) (0.10.1)\n",
      "Requirement already satisfied: requests<3.0.0,>=2.13.0 in /usr/local/lib/python3.9/dist-packages (from spacy>=3.2.3->pke==2.0.0) (2.27.1)\n",
      "Requirement already satisfied: srsly<3.0.0,>=2.4.3 in /usr/local/lib/python3.9/dist-packages (from spacy>=3.2.3->pke==2.0.0) (2.4.6)\n",
      "Requirement already satisfied: smart-open<7.0.0,>=5.2.1 in /usr/local/lib/python3.9/dist-packages (from spacy>=3.2.3->pke==2.0.0) (6.3.0)\n",
      "Requirement already satisfied: pydantic!=1.8,!=1.8.1,<1.11.0,>=1.7.4 in /usr/local/lib/python3.9/dist-packages (from spacy>=3.2.3->pke==2.0.0) (1.10.7)\n",
      "Requirement already satisfied: murmurhash<1.1.0,>=0.28.0 in /usr/local/lib/python3.9/dist-packages (from spacy>=3.2.3->pke==2.0.0) (1.0.9)\n",
      "Requirement already satisfied: cymem<2.1.0,>=2.0.2 in /usr/local/lib/python3.9/dist-packages (from spacy>=3.2.3->pke==2.0.0) (2.0.7)\n",
      "Requirement already satisfied: wasabi<1.2.0,>=0.9.1 in /usr/local/lib/python3.9/dist-packages (from spacy>=3.2.3->pke==2.0.0) (1.1.1)\n",
      "Requirement already satisfied: thinc<8.2.0,>=8.1.8 in /usr/local/lib/python3.9/dist-packages (from spacy>=3.2.3->pke==2.0.0) (8.1.9)\n",
      "Requirement already satisfied: catalogue<2.1.0,>=2.0.6 in /usr/local/lib/python3.9/dist-packages (from spacy>=3.2.3->pke==2.0.0) (2.0.8)\n",
      "Requirement already satisfied: typer<0.8.0,>=0.3.0 in /usr/local/lib/python3.9/dist-packages (from spacy>=3.2.3->pke==2.0.0) (0.7.0)\n",
      "Requirement already satisfied: packaging>=20.0 in /usr/local/lib/python3.9/dist-packages (from spacy>=3.2.3->pke==2.0.0) (23.1)\n",
      "Requirement already satisfied: tqdm<5.0.0,>=4.38.0 in /usr/local/lib/python3.9/dist-packages (from spacy>=3.2.3->pke==2.0.0) (4.65.0)\n",
      "Requirement already satisfied: spacy-loggers<2.0.0,>=1.0.0 in /usr/local/lib/python3.9/dist-packages (from spacy>=3.2.3->pke==2.0.0) (1.0.4)\n",
      "Requirement already satisfied: click in /usr/local/lib/python3.9/dist-packages (from nltk->pke==2.0.0) (8.1.3)\n",
      "Requirement already satisfied: regex>=2021.8.3 in /usr/local/lib/python3.9/dist-packages (from nltk->pke==2.0.0) (2022.10.31)\n",
      "Requirement already satisfied: threadpoolctl>=2.0.0 in /usr/local/lib/python3.9/dist-packages (from scikit-learn->pke==2.0.0) (3.1.0)\n",
      "Requirement already satisfied: typing-extensions>=4.2.0 in /usr/local/lib/python3.9/dist-packages (from pydantic!=1.8,!=1.8.1,<1.11.0,>=1.7.4->spacy>=3.2.3->pke==2.0.0) (4.5.0)\n",
      "Requirement already satisfied: idna<4,>=2.5 in /usr/local/lib/python3.9/dist-packages (from requests<3.0.0,>=2.13.0->spacy>=3.2.3->pke==2.0.0) (3.4)\n",
      "Requirement already satisfied: urllib3<1.27,>=1.21.1 in /usr/local/lib/python3.9/dist-packages (from requests<3.0.0,>=2.13.0->spacy>=3.2.3->pke==2.0.0) (1.26.15)\n",
      "Requirement already satisfied: certifi>=2017.4.17 in /usr/local/lib/python3.9/dist-packages (from requests<3.0.0,>=2.13.0->spacy>=3.2.3->pke==2.0.0) (2022.12.7)\n",
      "Requirement already satisfied: charset-normalizer~=2.0.0 in /usr/local/lib/python3.9/dist-packages (from requests<3.0.0,>=2.13.0->spacy>=3.2.3->pke==2.0.0) (2.0.12)\n",
      "Requirement already satisfied: confection<1.0.0,>=0.0.1 in /usr/local/lib/python3.9/dist-packages (from thinc<8.2.0,>=8.1.8->spacy>=3.2.3->pke==2.0.0) (0.0.4)\n",
      "Requirement already satisfied: blis<0.8.0,>=0.7.8 in /usr/local/lib/python3.9/dist-packages (from thinc<8.2.0,>=8.1.8->spacy>=3.2.3->pke==2.0.0) (0.7.9)\n",
      "Requirement already satisfied: MarkupSafe>=2.0 in /usr/local/lib/python3.9/dist-packages (from jinja2->spacy>=3.2.3->pke==2.0.0) (2.1.2)\n",
      "Building wheels for collected packages: pke\n",
      "  Building wheel for pke (setup.py) ... \u001b[?25l\u001b[?25hdone\n",
      "  Created wheel for pke: filename=pke-2.0.0-py3-none-any.whl size=6160676 sha256=d230506d9aa48c49841348b844738a1d711fc3d79b9ec9827d521046b39864a5\n",
      "  Stored in directory: /tmp/pip-ephem-wheel-cache-bowsnfu5/wheels/d5/46/97/85535b5b449f70b6a3c8d1138ce8587345876891e25bfe7954\n",
      "Successfully built pke\n",
      "Installing collected packages: unidecode, pke\n",
      "Successfully installed pke-2.0.0 unidecode-1.3.6\n",
      "2023-04-19 19:07:49.642818: I tensorflow/core/platform/cpu_feature_guard.cc:182] This TensorFlow binary is optimized to use available CPU instructions in performance-critical operations.\n",
      "To enable the following instructions: AVX2 FMA, in other operations, rebuild TensorFlow with the appropriate compiler flags.\n",
      "2023-04-19 19:07:51.392459: W tensorflow/compiler/tf2tensorrt/utils/py_utils.cc:38] TF-TRT Warning: Could not find TensorRT\n",
      "Looking in indexes: https://pypi.org/simple, https://us-python.pkg.dev/colab-wheels/public/simple/\n",
      "Collecting en-core-web-sm==3.5.0\n",
      "  Downloading https://github.com/explosion/spacy-models/releases/download/en_core_web_sm-3.5.0/en_core_web_sm-3.5.0-py3-none-any.whl (12.8 MB)\n",
      "\u001b[2K     \u001b[90m━━━━━━━━━━━━━━━━━━━━━━━━━━━━━━━━━━━━━━━━\u001b[0m \u001b[32m12.8/12.8 MB\u001b[0m \u001b[31m78.3 MB/s\u001b[0m eta \u001b[36m0:00:00\u001b[0m00:01\u001b[0m00:01\u001b[0m\n",
      "\u001b[?25hRequirement already satisfied: spacy<3.6.0,>=3.5.0 in /usr/local/lib/python3.9/dist-packages (from en-core-web-sm==3.5.0) (3.5.2)\n",
      "Requirement already satisfied: pydantic!=1.8,!=1.8.1,<1.11.0,>=1.7.4 in /usr/local/lib/python3.9/dist-packages (from spacy<3.6.0,>=3.5.0->en-core-web-sm==3.5.0) (1.10.7)\n",
      "Requirement already satisfied: cymem<2.1.0,>=2.0.2 in /usr/local/lib/python3.9/dist-packages (from spacy<3.6.0,>=3.5.0->en-core-web-sm==3.5.0) (2.0.7)\n",
      "Requirement already satisfied: smart-open<7.0.0,>=5.2.1 in /usr/local/lib/python3.9/dist-packages (from spacy<3.6.0,>=3.5.0->en-core-web-sm==3.5.0) (6.3.0)\n",
      "Requirement already satisfied: murmurhash<1.1.0,>=0.28.0 in /usr/local/lib/python3.9/dist-packages (from spacy<3.6.0,>=3.5.0->en-core-web-sm==3.5.0) (1.0.9)\n",
      "Requirement already satisfied: jinja2 in /usr/local/lib/python3.9/dist-packages (from spacy<3.6.0,>=3.5.0->en-core-web-sm==3.5.0) (3.1.2)\n",
      "Requirement already satisfied: preshed<3.1.0,>=3.0.2 in /usr/local/lib/python3.9/dist-packages (from spacy<3.6.0,>=3.5.0->en-core-web-sm==3.5.0) (3.0.8)\n",
      "Requirement already satisfied: srsly<3.0.0,>=2.4.3 in /usr/local/lib/python3.9/dist-packages (from spacy<3.6.0,>=3.5.0->en-core-web-sm==3.5.0) (2.4.6)\n",
      "Requirement already satisfied: langcodes<4.0.0,>=3.2.0 in /usr/local/lib/python3.9/dist-packages (from spacy<3.6.0,>=3.5.0->en-core-web-sm==3.5.0) (3.3.0)\n",
      "Requirement already satisfied: thinc<8.2.0,>=8.1.8 in /usr/local/lib/python3.9/dist-packages (from spacy<3.6.0,>=3.5.0->en-core-web-sm==3.5.0) (8.1.9)\n",
      "Requirement already satisfied: numpy>=1.15.0 in /usr/local/lib/python3.9/dist-packages (from spacy<3.6.0,>=3.5.0->en-core-web-sm==3.5.0) (1.22.4)\n",
      "Requirement already satisfied: spacy-legacy<3.1.0,>=3.0.11 in /usr/local/lib/python3.9/dist-packages (from spacy<3.6.0,>=3.5.0->en-core-web-sm==3.5.0) (3.0.12)\n",
      "Requirement already satisfied: spacy-loggers<2.0.0,>=1.0.0 in /usr/local/lib/python3.9/dist-packages (from spacy<3.6.0,>=3.5.0->en-core-web-sm==3.5.0) (1.0.4)\n",
      "Requirement already satisfied: tqdm<5.0.0,>=4.38.0 in /usr/local/lib/python3.9/dist-packages (from spacy<3.6.0,>=3.5.0->en-core-web-sm==3.5.0) (4.65.0)\n",
      "Requirement already satisfied: requests<3.0.0,>=2.13.0 in /usr/local/lib/python3.9/dist-packages (from spacy<3.6.0,>=3.5.0->en-core-web-sm==3.5.0) (2.27.1)\n",
      "Requirement already satisfied: catalogue<2.1.0,>=2.0.6 in /usr/local/lib/python3.9/dist-packages (from spacy<3.6.0,>=3.5.0->en-core-web-sm==3.5.0) (2.0.8)\n",
      "Requirement already satisfied: wasabi<1.2.0,>=0.9.1 in /usr/local/lib/python3.9/dist-packages (from spacy<3.6.0,>=3.5.0->en-core-web-sm==3.5.0) (1.1.1)\n",
      "Requirement already satisfied: setuptools in /usr/local/lib/python3.9/dist-packages (from spacy<3.6.0,>=3.5.0->en-core-web-sm==3.5.0) (67.6.1)\n",
      "Requirement already satisfied: packaging>=20.0 in /usr/local/lib/python3.9/dist-packages (from spacy<3.6.0,>=3.5.0->en-core-web-sm==3.5.0) (23.1)\n",
      "Requirement already satisfied: typer<0.8.0,>=0.3.0 in /usr/local/lib/python3.9/dist-packages (from spacy<3.6.0,>=3.5.0->en-core-web-sm==3.5.0) (0.7.0)\n",
      "Requirement already satisfied: pathy>=0.10.0 in /usr/local/lib/python3.9/dist-packages (from spacy<3.6.0,>=3.5.0->en-core-web-sm==3.5.0) (0.10.1)\n",
      "Requirement already satisfied: typing-extensions>=4.2.0 in /usr/local/lib/python3.9/dist-packages (from pydantic!=1.8,!=1.8.1,<1.11.0,>=1.7.4->spacy<3.6.0,>=3.5.0->en-core-web-sm==3.5.0) (4.5.0)\n",
      "Requirement already satisfied: charset-normalizer~=2.0.0 in /usr/local/lib/python3.9/dist-packages (from requests<3.0.0,>=2.13.0->spacy<3.6.0,>=3.5.0->en-core-web-sm==3.5.0) (2.0.12)\n",
      "Requirement already satisfied: certifi>=2017.4.17 in /usr/local/lib/python3.9/dist-packages (from requests<3.0.0,>=2.13.0->spacy<3.6.0,>=3.5.0->en-core-web-sm==3.5.0) (2022.12.7)\n",
      "Requirement already satisfied: idna<4,>=2.5 in /usr/local/lib/python3.9/dist-packages (from requests<3.0.0,>=2.13.0->spacy<3.6.0,>=3.5.0->en-core-web-sm==3.5.0) (3.4)\n",
      "Requirement already satisfied: urllib3<1.27,>=1.21.1 in /usr/local/lib/python3.9/dist-packages (from requests<3.0.0,>=2.13.0->spacy<3.6.0,>=3.5.0->en-core-web-sm==3.5.0) (1.26.15)\n",
      "Requirement already satisfied: confection<1.0.0,>=0.0.1 in /usr/local/lib/python3.9/dist-packages (from thinc<8.2.0,>=8.1.8->spacy<3.6.0,>=3.5.0->en-core-web-sm==3.5.0) (0.0.4)\n",
      "Requirement already satisfied: blis<0.8.0,>=0.7.8 in /usr/local/lib/python3.9/dist-packages (from thinc<8.2.0,>=8.1.8->spacy<3.6.0,>=3.5.0->en-core-web-sm==3.5.0) (0.7.9)\n",
      "Requirement already satisfied: click<9.0.0,>=7.1.1 in /usr/local/lib/python3.9/dist-packages (from typer<0.8.0,>=0.3.0->spacy<3.6.0,>=3.5.0->en-core-web-sm==3.5.0) (8.1.3)\n",
      "Requirement already satisfied: MarkupSafe>=2.0 in /usr/local/lib/python3.9/dist-packages (from jinja2->spacy<3.6.0,>=3.5.0->en-core-web-sm==3.5.0) (2.1.2)\n",
      "\u001b[38;5;2m✔ Download and installation successful\u001b[0m\n",
      "You can now load the package via spacy.load('en_core_web_sm')\n"
     ]
    }
   ],
   "source": [
    "%pip install git+https://github.com/boudinfl/pke.git\n",
    "!python -m spacy download en_core_web_sm"
   ]
  },
  {
   "cell_type": "code",
   "execution_count": 4,
   "metadata": {},
   "outputs": [],
   "source": [
    "import pke\n",
    "import string\n",
    "import re\n",
    "\n",
    "stoplist = list(string.punctuation)\n",
    "stoplist += pke.lang.stopwords.get('en')\n",
    "\n",
    "def multi_partite_rank_extract(text, n):\n",
    "    text = re.sub(r'<.*?>', '', text)\n",
    "    multi_partite_rank = pke.unsupervised.MultipartiteRank()\n",
    "    multi_partite_rank.load_document(input=text, language='en', stoplist=stoplist)\n",
    "    pos = {'NOUN', 'PROPN', 'ADJ', 'VERB'}\n",
    "    multi_partite_rank.candidate_selection(pos=pos)\n",
    "    multi_partite_rank.candidate_weighting()\n",
    "    return multi_partite_rank.get_n_best(n=n)"
   ]
  },
  {
   "cell_type": "code",
   "execution_count": 5,
   "metadata": {},
   "outputs": [],
   "source": [
    "import nltk\n",
    "stemmer = nltk.stem.PorterStemmer()\n",
    "\n",
    "def any_in(keyphrase, input_words):\n",
    "    input_stems = set([stemmer.stem(word) for word in input_words])\n",
    "    keyphrase_stems = set([stemmer.stem(word) for word in keyphrase.split()])\n",
    "\n",
    "    return len(input_stems & keyphrase_stems) > 0 "
   ]
  },
  {
   "cell_type": "code",
   "execution_count": 6,
   "metadata": {},
   "outputs": [],
   "source": [
    "keys = ['gpt2xl_mnemonic', 'gpt3_mnemonic', 'gpt3_paragraph', 'wanikani_mnemonic']"
   ]
  },
  {
   "cell_type": "code",
   "execution_count": 7,
   "metadata": {},
   "outputs": [],
   "source": [
    "def map_keywords_and_scores(example):\n",
    "    for key in keys:\n",
    "        keywords = multi_partite_rank_extract(example[key], n=10)\n",
    "        example[key + '_keywords'] = [keyword for keyword, weight in keywords]\n",
    "        example[key + '_keyword_scores'] = [weight for keyword, weight in keywords]\n",
    "\n",
    "    return example"
   ]
  },
  {
   "cell_type": "code",
   "execution_count": 8,
   "metadata": {},
   "outputs": [
    {
     "data": {
      "application/vnd.jupyter.widget-view+json": {
       "model_id": "65e4df1716a94a44bad033f05b819f36",
       "version_major": 2,
       "version_minor": 0
      },
      "text/plain": [
       "Map:   0%|          | 0/190 [00:00<?, ? examples/s]"
      ]
     },
     "metadata": {},
     "output_type": "display_data"
    }
   ],
   "source": [
    "ds_keywords = ds.map(map_keywords_and_scores)"
   ]
  },
  {
   "cell_type": "code",
   "execution_count": 77,
   "metadata": {},
   "outputs": [],
   "source": [
    "sample = ds_keywords['train'][122]\n",
    "input_words = [sample['kanji_meaning']] + sample['component_meanings'].split(',')"
   ]
  },
  {
   "cell_type": "code",
   "execution_count": 110,
   "metadata": {},
   "outputs": [],
   "source": [
    "import numpy as np\n",
    "\n",
    "def map_f1_scores(example):\n",
    "    input_words = [example['kanji_meaning']] + example['component_meanings'].split(',')\n",
    "    for key in keys:\n",
    "        percentage = 0\n",
    "        input_stems = set([stemmer.stem(word) for word in input_words])\n",
    "        keywords_with_scores = list(zip(example[key + '_keywords'], example[key + '_keyword_scores']))\n",
    "        for keyword, weight in keywords_with_scores[:len(input_words)]:\n",
    "            if len(input_stems) == 0:\n",
    "                break\n",
    "            keyword_stems = set([stemmer.stem(word) for word in keyword.split()])\n",
    "            for stem in keyword_stems:\n",
    "                if stem in input_stems:\n",
    "                    percentage += 1   \n",
    "                    input_stems.remove(stem)\n",
    "                    break\n",
    "        if key == 'wanikani_mnemonic' and percentage/len(input_words) < 0.05:\n",
    "            print(input_words)\n",
    "            print(keywords_with_scores)\n",
    "        example[key + '_score'] = percentage / len(input_words)\n",
    "    return example"
   ]
  },
  {
   "cell_type": "code",
   "execution_count": 111,
   "metadata": {},
   "outputs": [
    {
     "data": {
      "application/vnd.jupyter.widget-view+json": {
       "model_id": "f2ef9aeaf53c404c8fad7846dec6f216",
       "version_major": 2,
       "version_minor": 0
      },
      "text/plain": [
       "Map:   0%|          | 0/190 [00:00<?, ? examples/s]"
      ]
     },
     "metadata": {},
     "output_type": "display_data"
    },
    {
     "name": "stdout",
     "output_type": "stream",
     "text": [
      "['woman', 'woman']\n",
      "[('know', 0.2645136522790331), ('radical', 0.24981500866959327), ('means', 0.2337486109745342), ('woman', 0.17238380418114313), ('swell', 0.07953892389569639)]\n",
      "['from', 'stairs']\n",
      "[('place', 0.22450958539820004), ('picture', 0.17456973275493587), ('stairs', 0.15499627600196586), ('room', 0.13785001924165205), ('climbing stairs', 0.09893911923079596), ('picture going', 0.09053930021228185), ('way', 0.07277426677586267), ('want', 0.04582170038430562)]\n",
      "['dragon', 'dragon']\n",
      "[('know', 0.37748681170581977), ('radicals', 0.27751573963705295), ('dragon radical', 0.21910279309516373), ('dragon', 0.12589465556196397)]\n",
      "['street', 'street']\n",
      "[('radical', 0.2769765582158278), ('look', 0.21940826145178227), ('know', 0.21651074473859275), ('street', 0.16622908319842558), ('radical street', 0.12087535239537173)]\n",
      "['sunlight', 'triceratops', 'pi']\n",
      "[('absorb', 0.08093911774290558), ('light', 0.05906103635238351), ('round', 0.05688279366735407), ('pi shaped', 0.05017442622529271), ('shadow', 0.034558941961904864), ('imagine', 0.034212001414940345), ('evolved', 0.03416732512084352), ('want', 0.03403306441439514), ('natural', 0.03362626885319657), ('sun', 0.03303461564720855)]\n",
      "['both', 'ground', 'head', 'mountain']\n",
      "[('great finds', 0.17420111519663356), ('found', 0.13794334013298493), ('strange things', 0.10947231902614865), ('find', 0.10481398213919171), ('mountain', 0.06730489573255444), ('head', 0.06390758147828156), ('things', 0.056648350200878), ('dug', 0.05565840960623808), ('want', 0.049343093915701075), ('focus', 0.04704409439948515)]\n",
      "['blade', 'blade']\n",
      "[('know', 0.3534563270004184), ('radicals', 0.3300039001519909), ('radical blade', 0.21050739046538217), ('blade', 0.10603238238220819)]\n"
     ]
    }
   ],
   "source": [
    "ds_scores = ds_keywords.map(map_scores)"
   ]
  },
  {
   "cell_type": "code",
   "execution_count": 112,
   "metadata": {},
   "outputs": [],
   "source": [
    "from scipy.stats import f_oneway\n",
    "def anova(ds, feature):\n",
    "    f, p = f_oneway(*[ds[key+'_'+feature] for key in keys])\n",
    "    return f, p"
   ]
  },
  {
   "cell_type": "code",
   "execution_count": 113,
   "metadata": {},
   "outputs": [
    {
     "data": {
      "text/plain": [
       "(130.90599618115883, 2.692954856488103e-68)"
      ]
     },
     "execution_count": 113,
     "metadata": {},
     "output_type": "execute_result"
    }
   ],
   "source": [
    "anova(ds_scores['train'], 'score')"
   ]
  },
  {
   "cell_type": "code",
   "execution_count": 107,
   "metadata": {},
   "outputs": [],
   "source": [
    "import matplotlib.pyplot as plt\n",
    "import numpy as np\n",
    "\n",
    "def box_plot(ds,title, feature, labels=['GPT-2','GPT-3 (mnemonic)','GPT-3 (paragraph)','WaniKani']):\n",
    "    fig, ax = plt.subplots(figsize=(8, 6))\n",
    "    ax.set_title(title)\n",
    "    ax.boxplot([ds[key+'_'+feature] for key in keys], labels=labels, showmeans=True, showfliers=False)\n",
    "    plt.show()"
   ]
  },
  {
   "cell_type": "code",
   "execution_count": 126,
   "metadata": {},
   "outputs": [
    {
     "data": {
      "image/png": "[encoded data removed]",
      "text/plain": [
       "<Figure size 800x600 with 1 Axes>"
      ]
     },
     "metadata": {},
     "output_type": "display_data"
    }
   ],
   "source": [
    "box_plot(ds_scores['train'], 'Recall', 'score')"
   ]
  },
  {
   "cell_type": "code",
   "execution_count": 71,
   "metadata": {},
   "outputs": [],
   "source": [
    "from scipy.stats import tukey_hsd\n",
    "\n",
    "def tukey(ds, feature):\n",
    "    data = [ds[key+'_'+feature] for key in keys]\n",
    "    res = tukey_hsd(*data)\n",
    "    print(res)"
   ]
  },
  {
   "cell_type": "code",
   "execution_count": 115,
   "metadata": {},
   "outputs": [
    {
     "name": "stdout",
     "output_type": "stream",
     "text": [
      "Tukey's HSD Pairwise Group Comparisons (95.0% Confidence Interval)\n",
      "Comparison  Statistic  p-value  Lower CI  Upper CI\n",
      " (0 - 1)     -0.324     0.000    -0.388    -0.259\n",
      " (0 - 2)     -0.186     0.000    -0.250    -0.121\n",
      " (0 - 3)     -0.476     0.000    -0.540    -0.411\n",
      " (1 - 0)      0.324     0.000     0.259     0.388\n",
      " (1 - 2)      0.138     0.000     0.073     0.202\n",
      " (1 - 3)     -0.152     0.000    -0.217    -0.088\n",
      " (2 - 0)      0.186     0.000     0.121     0.250\n",
      " (2 - 1)     -0.138     0.000    -0.202    -0.073\n",
      " (2 - 3)     -0.290     0.000    -0.355    -0.226\n",
      " (3 - 0)      0.476     0.000     0.411     0.540\n",
      " (3 - 1)      0.152     0.000     0.088     0.217\n",
      " (3 - 2)      0.290     0.000     0.226     0.355\n",
      "\n"
     ]
    }
   ],
   "source": [
    "tukey(ds_scores['train'], 'score')"
   ]
  },
  {
   "cell_type": "code",
   "execution_count": 41,
   "metadata": {},
   "outputs": [],
   "source": [
    "def mean_std(ds, feature):\n",
    "    return [(key, np.mean(ds[key+'_'+feature]), np.std(ds[key+'_'+feature])) for key in keys]"
   ]
  },
  {
   "cell_type": "code",
   "execution_count": 117,
   "metadata": {},
   "outputs": [
    {
     "data": {
      "text/plain": [
       "[('gpt2xl_mnemonic', 0.18491228070175433, 0.2216310310916583),\n",
       " ('gpt3_mnemonic', 0.5084210526315789, 0.25099653645254283),\n",
       " ('gpt3_paragraph', 0.37061403508771934, 0.24099677907041528),\n",
       " ('wanikani_mnemonic', 0.6607894736842105, 0.2580441893007605)]"
      ]
     },
     "execution_count": 117,
     "metadata": {},
     "output_type": "execute_result"
    }
   ],
   "source": [
    "mean_std(ds_scores['train'], 'score')"
   ]
  },
  {
   "cell_type": "code",
   "execution_count": 125,
   "metadata": {},
   "outputs": [
    {
     "data": {
      "text/plain": [
       "<Axes: >"
      ]
     },
     "execution_count": 125,
     "metadata": {},
     "output_type": "execute_result"
    },
    {
     "data": {
      "image/png": "[encoded data removed]",
      "text/plain": [
       "<Figure size 640x480 with 1 Axes>"
      ]
     },
     "metadata": {},
     "output_type": "display_data"
    }
   ],
   "source": [
    "ds_scores['train'].to_pandas()[keys[3]+'_score'].hist()"
   ]
  },
  {
   "cell_type": "code",
   "execution_count": 119,
   "metadata": {},
   "outputs": [
    {
     "data": {
      "text/html": [
       "\n",
       "  <div id=\"df-69020dad-2ab2-4968-9ca9-f373d86bdca1\">\n",
       "    <div class=\"colab-df-container\">\n",
       "      <div>\n",
       "<style scoped>\n",
       "    .dataframe tbody tr th:only-of-type {\n",
       "        vertical-align: middle;\n",
       "    }\n",
       "\n",
       "    .dataframe tbody tr th {\n",
       "        vertical-align: top;\n",
       "    }\n",
       "\n",
       "    .dataframe thead th {\n",
       "        text-align: right;\n",
       "    }\n",
       "</style>\n",
       "<table border=\"1\" class=\"dataframe\">\n",
       "  <thead>\n",
       "    <tr style=\"text-align: right;\">\n",
       "      <th></th>\n",
       "      <th>kanji_id</th>\n",
       "      <th>component_meanings</th>\n",
       "      <th>wanikani_mnemonic</th>\n",
       "      <th>kanji_meaning</th>\n",
       "      <th>gpt2xl_mnemonic</th>\n",
       "      <th>gpt3_paragraph</th>\n",
       "      <th>gpt3_mnemonic</th>\n",
       "      <th>gpt2xl_mnemonic_keywords</th>\n",
       "      <th>gpt2xl_mnemonic_keyword_scores</th>\n",
       "      <th>gpt3_mnemonic_keywords</th>\n",
       "      <th>gpt3_mnemonic_keyword_scores</th>\n",
       "      <th>gpt3_paragraph_keywords</th>\n",
       "      <th>gpt3_paragraph_keyword_scores</th>\n",
       "      <th>wanikani_mnemonic_keywords</th>\n",
       "      <th>wanikani_mnemonic_keyword_scores</th>\n",
       "      <th>gpt2xl_mnemonic_score</th>\n",
       "      <th>gpt3_mnemonic_score</th>\n",
       "      <th>gpt3_paragraph_score</th>\n",
       "      <th>wanikani_mnemonic_score</th>\n",
       "    </tr>\n",
       "  </thead>\n",
       "  <tbody>\n",
       "    <tr>\n",
       "      <th>98</th>\n",
       "      <td>1873</td>\n",
       "      <td>dragon</td>\n",
       "      <td>The &lt;radical&gt;dragon&lt;/radical&gt; radical is the s...</td>\n",
       "      <td>dragon</td>\n",
       "      <td>This is a rush transcript. Copy may not be in ...</td>\n",
       "      <td>Once upon a time, there lived a powerful drago...</td>\n",
       "      <td>Once upon a time, there were two dragons, one ...</td>\n",
       "      <td>[dragon, head, eyes, subscribe, future work, n...</td>\n",
       "      <td>[0.1377566832446005, 0.1122739135609404, 0.097...</td>\n",
       "      <td>[day, dragons, loved, friends, fly, explore ne...</td>\n",
       "      <td>[0.08275113444490478, 0.07208218368920868, 0.0...</td>\n",
       "      <td>[powerful dragon, gold, lived, breathed fire, ...</td>\n",
       "      <td>[0.11106870780658809, 0.07320079527159133, 0.0...</td>\n",
       "      <td>[know, radicals, dragon radical, dragon]</td>\n",
       "      <td>[0.37748681170581977, 0.27751573963705295, 0.2...</td>\n",
       "      <td>0.5</td>\n",
       "      <td>0.5</td>\n",
       "      <td>0.500000</td>\n",
       "      <td>0.0</td>\n",
       "    </tr>\n",
       "    <tr>\n",
       "      <th>163</th>\n",
       "      <td>1877</td>\n",
       "      <td>blade</td>\n",
       "      <td>The radical &lt;radical&gt;blade&lt;/radical&gt; and the k...</td>\n",
       "      <td>blade</td>\n",
       "      <td>It's been a long time coming, but it looks lik...</td>\n",
       "      <td>The blade of the sword was razor sharp, glinti...</td>\n",
       "      <td>Once upon a time there was a brave knight name...</td>\n",
       "      <td>[star wars, big screen, episode vii, blade run...</td>\n",
       "      <td>[0.12782858367661173, 0.11728663484579328, 0.1...</td>\n",
       "      <td>[blades, kingdom, battle, evil forces, threate...</td>\n",
       "      <td>[0.17268500855653454, 0.0752699200769746, 0.07...</td>\n",
       "      <td>[razor sharp, blade, sword, glinting, utmost c...</td>\n",
       "      <td>[0.1273355102201708, 0.12248438707274768, 0.11...</td>\n",
       "      <td>[know, radicals, radical blade, blade]</td>\n",
       "      <td>[0.3534563270004184, 0.3300039001519909, 0.210...</td>\n",
       "      <td>0.0</td>\n",
       "      <td>0.5</td>\n",
       "      <td>0.500000</td>\n",
       "      <td>0.0</td>\n",
       "    </tr>\n",
       "    <tr>\n",
       "      <th>122</th>\n",
       "      <td>567</td>\n",
       "      <td>triceratops,pi</td>\n",
       "      <td>You see a &lt;radical&gt;triceratops&lt;/radical&gt; in th...</td>\n",
       "      <td>sunlight</td>\n",
       "      <td>It's been triceratops time for a while now, an...</td>\n",
       "      <td>The triceratops lived in the Mesozoic era, a t...</td>\n",
       "      <td>Once upon a time, there was a triceratops name...</td>\n",
       "      <td>[jurassic park, résistance, trespasser, pièce,...</td>\n",
       "      <td>[0.13016797801420946, 0.08610052887804845, 0.0...</td>\n",
       "      <td>[walk, explore, rays, sun, day, sunshine, pi d...</td>\n",
       "      <td>[0.06812058406951411, 0.04386016946820342, 0.0...</td>\n",
       "      <td>[triceratops lived, time, mesozoic era, length...</td>\n",
       "      <td>[0.06564683710394531, 0.05725550051584591, 0.0...</td>\n",
       "      <td>[absorb, light, round, pi shaped, shadow, imag...</td>\n",
       "      <td>[0.08093911774290558, 0.05906103635238351, 0.0...</td>\n",
       "      <td>0.0</td>\n",
       "      <td>0.0</td>\n",
       "      <td>0.333333</td>\n",
       "      <td>0.0</td>\n",
       "    </tr>\n",
       "  </tbody>\n",
       "</table>\n",
       "</div>\n",
       "      <button class=\"colab-df-convert\" onclick=\"convertToInteractive('df-69020dad-2ab2-4968-9ca9-f373d86bdca1')\"\n",
       "              title=\"Convert this dataframe to an interactive table.\"\n",
       "              style=\"display:none;\">\n",
       "        \n",
       "  <svg xmlns=\"http://www.w3.org/2000/svg\" height=\"24px\"viewBox=\"0 0 24 24\"\n",
       "       width=\"24px\">\n",
       "    <path d=\"M0 0h24v24H0V0z\" fill=\"none\"/>\n",
       "    <path d=\"M18.56 5.44l.94 2.06.94-2.06 2.06-.94-2.06-.94-.94-2.06-.94 2.06-2.06.94zm-11 1L8.5 8.5l.94-2.06 2.06-.94-2.06-.94L8.5 2.5l-.94 2.06-2.06.94zm10 10l.94 2.06.94-2.06 2.06-.94-2.06-.94-.94-2.06-.94 2.06-2.06.94z\"/><path d=\"M17.41 7.96l-1.37-1.37c-.4-.4-.92-.59-1.43-.59-.52 0-1.04.2-1.43.59L10.3 9.45l-7.72 7.72c-.78.78-.78 2.05 0 2.83L4 21.41c.39.39.9.59 1.41.59.51 0 1.02-.2 1.41-.59l7.78-7.78 2.81-2.81c.8-.78.8-2.07 0-2.86zM5.41 20L4 18.59l7.72-7.72 1.47 1.35L5.41 20z\"/>\n",
       "  </svg>\n",
       "      </button>\n",
       "      \n",
       "  <style>\n",
       "    .colab-df-container {\n",
       "      display:flex;\n",
       "      flex-wrap:wrap;\n",
       "      gap: 12px;\n",
       "    }\n",
       "\n",
       "    .colab-df-convert {\n",
       "      background-color: #E8F0FE;\n",
       "      border: none;\n",
       "      border-radius: 50%;\n",
       "      cursor: pointer;\n",
       "      display: none;\n",
       "      fill: #1967D2;\n",
       "      height: 32px;\n",
       "      padding: 0 0 0 0;\n",
       "      width: 32px;\n",
       "    }\n",
       "\n",
       "    .colab-df-convert:hover {\n",
       "      background-color: #E2EBFA;\n",
       "      box-shadow: 0px 1px 2px rgba(60, 64, 67, 0.3), 0px 1px 3px 1px rgba(60, 64, 67, 0.15);\n",
       "      fill: #174EA6;\n",
       "    }\n",
       "\n",
       "    [theme=dark] .colab-df-convert {\n",
       "      background-color: #3B4455;\n",
       "      fill: #D2E3FC;\n",
       "    }\n",
       "\n",
       "    [theme=dark] .colab-df-convert:hover {\n",
       "      background-color: #434B5C;\n",
       "      box-shadow: 0px 1px 3px 1px rgba(0, 0, 0, 0.15);\n",
       "      filter: drop-shadow(0px 1px 2px rgba(0, 0, 0, 0.3));\n",
       "      fill: #FFFFFF;\n",
       "    }\n",
       "  </style>\n",
       "\n",
       "      <script>\n",
       "        const buttonEl =\n",
       "          document.querySelector('#df-69020dad-2ab2-4968-9ca9-f373d86bdca1 button.colab-df-convert');\n",
       "        buttonEl.style.display =\n",
       "          google.colab.kernel.accessAllowed ? 'block' : 'none';\n",
       "\n",
       "        async function convertToInteractive(key) {\n",
       "          const element = document.querySelector('#df-69020dad-2ab2-4968-9ca9-f373d86bdca1');\n",
       "          const dataTable =\n",
       "            await google.colab.kernel.invokeFunction('convertToInteractive',\n",
       "                                                     [key], {});\n",
       "          if (!dataTable) return;\n",
       "\n",
       "          const docLinkHtml = 'Like what you see? Visit the ' +\n",
       "            '<a target=\"_blank\" href=https://colab.research.google.com/notebooks/data_table.ipynb>data table notebook</a>'\n",
       "            + ' to learn more about interactive tables.';\n",
       "          element.innerHTML = '';\n",
       "          dataTable['output_type'] = 'display_data';\n",
       "          await google.colab.output.renderOutput(dataTable, element);\n",
       "          const docLink = document.createElement('div');\n",
       "          docLink.innerHTML = docLinkHtml;\n",
       "          element.appendChild(docLink);\n",
       "        }\n",
       "      </script>\n",
       "    </div>\n",
       "  </div>\n",
       "  "
      ],
      "text/plain": [
       "     kanji_id component_meanings  \\\n",
       "98       1873             dragon   \n",
       "163      1877              blade   \n",
       "122       567     triceratops,pi   \n",
       "\n",
       "                                     wanikani_mnemonic kanji_meaning  \\\n",
       "98   The <radical>dragon</radical> radical is the s...        dragon   \n",
       "163  The radical <radical>blade</radical> and the k...         blade   \n",
       "122  You see a <radical>triceratops</radical> in th...      sunlight   \n",
       "\n",
       "                                       gpt2xl_mnemonic  \\\n",
       "98   This is a rush transcript. Copy may not be in ...   \n",
       "163  It's been a long time coming, but it looks lik...   \n",
       "122  It's been triceratops time for a while now, an...   \n",
       "\n",
       "                                        gpt3_paragraph  \\\n",
       "98   Once upon a time, there lived a powerful drago...   \n",
       "163  The blade of the sword was razor sharp, glinti...   \n",
       "122  The triceratops lived in the Mesozoic era, a t...   \n",
       "\n",
       "                                         gpt3_mnemonic  \\\n",
       "98   Once upon a time, there were two dragons, one ...   \n",
       "163  Once upon a time there was a brave knight name...   \n",
       "122  Once upon a time, there was a triceratops name...   \n",
       "\n",
       "                              gpt2xl_mnemonic_keywords  \\\n",
       "98   [dragon, head, eyes, subscribe, future work, n...   \n",
       "163  [star wars, big screen, episode vii, blade run...   \n",
       "122  [jurassic park, résistance, trespasser, pièce,...   \n",
       "\n",
       "                        gpt2xl_mnemonic_keyword_scores  \\\n",
       "98   [0.1377566832446005, 0.1122739135609404, 0.097...   \n",
       "163  [0.12782858367661173, 0.11728663484579328, 0.1...   \n",
       "122  [0.13016797801420946, 0.08610052887804845, 0.0...   \n",
       "\n",
       "                                gpt3_mnemonic_keywords  \\\n",
       "98   [day, dragons, loved, friends, fly, explore ne...   \n",
       "163  [blades, kingdom, battle, evil forces, threate...   \n",
       "122  [walk, explore, rays, sun, day, sunshine, pi d...   \n",
       "\n",
       "                          gpt3_mnemonic_keyword_scores  \\\n",
       "98   [0.08275113444490478, 0.07208218368920868, 0.0...   \n",
       "163  [0.17268500855653454, 0.0752699200769746, 0.07...   \n",
       "122  [0.06812058406951411, 0.04386016946820342, 0.0...   \n",
       "\n",
       "                               gpt3_paragraph_keywords  \\\n",
       "98   [powerful dragon, gold, lived, breathed fire, ...   \n",
       "163  [razor sharp, blade, sword, glinting, utmost c...   \n",
       "122  [triceratops lived, time, mesozoic era, length...   \n",
       "\n",
       "                         gpt3_paragraph_keyword_scores  \\\n",
       "98   [0.11106870780658809, 0.07320079527159133, 0.0...   \n",
       "163  [0.1273355102201708, 0.12248438707274768, 0.11...   \n",
       "122  [0.06564683710394531, 0.05725550051584591, 0.0...   \n",
       "\n",
       "                            wanikani_mnemonic_keywords  \\\n",
       "98            [know, radicals, dragon radical, dragon]   \n",
       "163             [know, radicals, radical blade, blade]   \n",
       "122  [absorb, light, round, pi shaped, shadow, imag...   \n",
       "\n",
       "                      wanikani_mnemonic_keyword_scores  gpt2xl_mnemonic_score  \\\n",
       "98   [0.37748681170581977, 0.27751573963705295, 0.2...                    0.5   \n",
       "163  [0.3534563270004184, 0.3300039001519909, 0.210...                    0.0   \n",
       "122  [0.08093911774290558, 0.05906103635238351, 0.0...                    0.0   \n",
       "\n",
       "     gpt3_mnemonic_score  gpt3_paragraph_score  wanikani_mnemonic_score  \n",
       "98                   0.5              0.500000                      0.0  \n",
       "163                  0.5              0.500000                      0.0  \n",
       "122                  0.0              0.333333                      0.0  "
      ]
     },
     "execution_count": 119,
     "metadata": {},
     "output_type": "execute_result"
    }
   ],
   "source": [
    "ds_scores['train'].to_pandas().sort_values(by=keys[3]+'_score', ascending=True)[:3]"
   ]
  },
  {
   "cell_type": "code",
   "execution_count": 120,
   "metadata": {},
   "outputs": [
    {
     "data": {
      "text/plain": [
       "<Axes: >"
      ]
     },
     "execution_count": 120,
     "metadata": {},
     "output_type": "execute_result"
    },
    {
     "data": {
      "image/png": "[encoded data removed]",
      "text/plain": [
       "<Figure size 640x480 with 1 Axes>"
      ]
     },
     "metadata": {},
     "output_type": "display_data"
    }
   ],
   "source": [
    "ds_scores['train'].to_pandas()[keys[0]+'_score'].hist()"
   ]
  },
  {
   "cell_type": "code",
   "execution_count": 45,
   "metadata": {},
   "outputs": [],
   "source": [
    "import numpy as np\n",
    "\n",
    "def group_variance(ds, score_name):\n",
    "    within_group_vars = [np.var(ds[key+'_'+score_name]) for key in keys]\n",
    "    total_mean = np.mean([score for key in keys for score in ds[key+'_'+score_name]])\n",
    "    between_group_var = np.sum([(np.mean(ds[key+'_'+score_name]) - total_mean) ** 2 for key in keys]) / (len(keys) - 1)\n",
    "    return within_group_vars, between_group_var"
   ]
  },
  {
   "cell_type": "code",
   "execution_count": 121,
   "metadata": {},
   "outputs": [
    {
     "data": {
      "text/plain": [
       "([0.049120313942751605,\n",
       "  0.06299926131117267,\n",
       "  0.05807944752231455,\n",
       "  0.06658680363188674],\n",
       " 0.041000905406791834)"
      ]
     },
     "execution_count": 121,
     "metadata": {},
     "output_type": "execute_result"
    }
   ],
   "source": [
    "group_variance(ds_scores['train'], 'score')"
   ]
  },
  {
   "cell_type": "code",
   "execution_count": 122,
   "metadata": {},
   "outputs": [],
   "source": [
    "def print_mnemonic(key):\n",
    "    def inner(x):\n",
    "        print(x['kanji_meaning'], x['component_meanings'])\n",
    "        print(x[key+'_keywords'])\n",
    "        print(x[key])\n",
    "        print()\n",
    "    return inner"
   ]
  },
  {
   "cell_type": "code",
   "execution_count": 124,
   "metadata": {},
   "outputs": [
    {
     "name": "stdout",
     "output_type": "stream",
     "text": [
      "pillar tree,east\n",
      "['tree' 'pillar' 'east' 'looks' 'tall' 'straight' 'branches' 'leaves'\n",
      " 'happens' 'alive']\n",
      "There’s a <radical>tree</radical> in the <radical>east</radical> that looks like a <kanji>pillar</kanji>. The tree is tall and straight and does not have any leaves or branches. The tree is basically a big wooden pillar that just happens to be alive still. Look at this big tree pillar over in the east. You always know where east is because of it.\n",
      "\n",
      "excellent leader,dirt\n",
      "['dirt' 'leader gets' 'excellent' 'build' 'took' 'skilled' 'great'\n",
      " 'leading' 'house' 'imagine']\n",
      "A <radical>leader</radical> gets double the <radical>dirt</radical> to build on if he's the most <kanji>excellent</kanji> and most <kanji>skilled</kanji> of all the leaders. You don't think dirt is so great? Well what if I took the dirt you own away from you? Your house is on that dirt. It's mine now. Get outta here. Imagine being so excellent at leading, that you get double the dirt that everyone else gets.\n",
      "\n"
     ]
    },
    {
     "data": {
      "text/plain": [
       "95    None\n",
       "40    None\n",
       "dtype: object"
      ]
     },
     "execution_count": 124,
     "metadata": {},
     "output_type": "execute_result"
    }
   ],
   "source": [
    "ds_scores['train'].to_pandas().sort_values('wanikani_mnemonic_score', ascending=False).iloc[:2].apply(print_mnemonic('wanikani_mnemonic'), axis=1)"
   ]
  },
  {
   "attachments": {},
   "cell_type": "markdown",
   "metadata": {},
   "source": [
    "woman, catapult, recreation\n",
    "\n",
    "prediction = woman, wellness, garbage\n",
    "\n",
    "recall = TP / (TP + FN)\n",
    "recall = "
   ]
  }
 ],
 "metadata": {
  "kernelspec": {
   "display_name": "Python 3",
   "language": "python",
   "name": "python3"
  },
  "language_info": {
   "codemirror_mode": {
    "name": "ipython",
    "version": 3
   },
   "file_extension": ".py",
   "mimetype": "text/x-python",
   "name": "python",
   "nbconvert_exporter": "python",
   "pygments_lexer": "ipython3",
   "version": "3.9.16"
  },
  "orig_nbformat": 4
 },
 "nbformat": 4,
 "nbformat_minor": 2
}
