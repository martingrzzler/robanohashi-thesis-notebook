{
 "cells": [
  {
   "cell_type": "code",
   "execution_count": 1,
   "metadata": {},
   "outputs": [],
   "source": [
    "%pip install pytextrank -q"
   ]
  },
  {
   "cell_type": "code",
   "execution_count": 2,
   "metadata": {},
   "outputs": [
    {
     "name": "stdout",
     "output_type": "stream",
     "text": [
      "\u001b[2K     \u001b[90m━━━━━━━━━━━━━━━━━━━━━━━━━━━━━━━━━━━━━━\u001b[0m \u001b[32m468.7/468.7 KB\u001b[0m \u001b[31m29.8 MB/s\u001b[0m eta \u001b[36m0:00:00\u001b[0m\n",
      "\u001b[2K     \u001b[90m━━━━━━━━━━━━━━━━━━━━━━━━━━━━━━━━━━━━━━━━\u001b[0m \u001b[32m6.8/6.8 MB\u001b[0m \u001b[31m72.0 MB/s\u001b[0m eta \u001b[36m0:00:00\u001b[0m:00:01\u001b[0m00:01\u001b[0m\n",
      "\u001b[2K     \u001b[90m━━━━━━━━━━━━━━━━━━━━━━━━━━━━━━━━━━━━━━━━\u001b[0m \u001b[32m1.0/1.0 MB\u001b[0m \u001b[31m66.2 MB/s\u001b[0m eta \u001b[36m0:00:00\u001b[0m\n",
      "\u001b[2K     \u001b[90m━━━━━━━━━━━━━━━━━━━━━━━━━━━━━━━━━━━━━━\u001b[0m \u001b[32m212.2/212.2 KB\u001b[0m \u001b[31m28.8 MB/s\u001b[0m eta \u001b[36m0:00:00\u001b[0m\n",
      "\u001b[2K     \u001b[90m━━━━━━━━━━━━━━━━━━━━━━━━━━━━━━━━━━━━━━\u001b[0m \u001b[32m110.5/110.5 KB\u001b[0m \u001b[31m15.7 MB/s\u001b[0m eta \u001b[36m0:00:00\u001b[0m\n",
      "\u001b[2K     \u001b[90m━━━━━━━━━━━━━━━━━━━━━━━━━━━━━━━━━━━━━━\u001b[0m \u001b[32m132.9/132.9 KB\u001b[0m \u001b[31m18.3 MB/s\u001b[0m eta \u001b[36m0:00:00\u001b[0m\n",
      "\u001b[2K     \u001b[90m━━━━━━━━━━━━━━━━━━━━━━━━━━━━━━━━━━━━━━\u001b[0m \u001b[32m200.1/200.1 KB\u001b[0m \u001b[31m24.5 MB/s\u001b[0m eta \u001b[36m0:00:00\u001b[0m\n",
      "\u001b[2K     \u001b[90m━━━━━━━━━━━━━━━━━━━━━━━━━━━━━━━━━━━━━━━━\u001b[0m \u001b[32m7.8/7.8 MB\u001b[0m \u001b[31m108.8 MB/s\u001b[0m eta \u001b[36m0:00:00\u001b[0m00:01\u001b[0m00:01\u001b[0m\n",
      "\u001b[2K     \u001b[90m━━━━━━━━━━━━━━━━━━━━━━━━━━━━━━━━━━━━━━\u001b[0m \u001b[32m158.8/158.8 KB\u001b[0m \u001b[31m21.3 MB/s\u001b[0m eta \u001b[36m0:00:00\u001b[0m\n",
      "\u001b[2K     \u001b[90m━━━━━━━━━━━━━━━━━━━━━━━━━━━━━━━━━━━━━━\u001b[0m \u001b[32m114.2/114.2 KB\u001b[0m \u001b[31m17.0 MB/s\u001b[0m eta \u001b[36m0:00:00\u001b[0m\n",
      "\u001b[2K     \u001b[90m━━━━━━━━━━━━━━━━━━━━━━━━━━━━━━━━━━━━━━\u001b[0m \u001b[32m264.6/264.6 KB\u001b[0m \u001b[31m17.1 MB/s\u001b[0m eta \u001b[36m0:00:00\u001b[0m\n",
      "\u001b[?25h"
     ]
    }
   ],
   "source": [
    "%pip install datasets transformers -q"
   ]
  },
  {
   "cell_type": "code",
   "execution_count": 3,
   "metadata": {},
   "outputs": [
    {
     "name": "stdout",
     "output_type": "stream",
     "text": [
      "  Preparing metadata (setup.py) ... \u001b[?25l\u001b[?25hdone\n",
      "\u001b[2K     \u001b[90m━━━━━━━━━━━━━━━━━━━━━━━━━━━━━━━━━━━━━━━━\u001b[0m \u001b[32m1.2/1.2 MB\u001b[0m \u001b[31m69.0 MB/s\u001b[0m eta \u001b[36m0:00:00\u001b[0m\n",
      "\u001b[?25h  Building wheel for yake (setup.py) ... \u001b[?25l\u001b[?25hdone\n"
     ]
    }
   ],
   "source": [
    "%pip install pip install git+https://github.com/LIAAD/yake -q"
   ]
  },
  {
   "cell_type": "code",
   "execution_count": 4,
   "metadata": {},
   "outputs": [
    {
     "data": {
      "application/vnd.jupyter.widget-view+json": {
       "model_id": "184a181f38494736b6921c13f87d3e4d",
       "version_major": 2,
       "version_minor": 0
      },
      "text/plain": [
       "Downloading readme:   0%|          | 0.00/131 [00:00<?, ?B/s]"
      ]
     },
     "metadata": {},
     "output_type": "display_data"
    },
    {
     "name": "stdout",
     "output_type": "stream",
     "text": [
      "Downloading and preparing dataset json/martingrzzler--mnemonics_benchmark to /root/.cache/huggingface/datasets/martingrzzler___json/martingrzzler--mnemonics_benchmark-6cc75b71b93e3c15/0.0.0/fe5dd6ea2639a6df622901539cb550cf8797e5a6b2dd7af1cf934bed8e233e6e...\n"
     ]
    },
    {
     "data": {
      "application/vnd.jupyter.widget-view+json": {
       "model_id": "5d3b0ae195b94d50a63e99d811de6242",
       "version_major": 2,
       "version_minor": 0
      },
      "text/plain": [
       "Downloading data files:   0%|          | 0/1 [00:00<?, ?it/s]"
      ]
     },
     "metadata": {},
     "output_type": "display_data"
    },
    {
     "data": {
      "application/vnd.jupyter.widget-view+json": {
       "model_id": "8f610feb0d794c82b3409f689ca0a70e",
       "version_major": 2,
       "version_minor": 0
      },
      "text/plain": [
       "Downloading data:   0%|          | 0.00/274k [00:00<?, ?B/s]"
      ]
     },
     "metadata": {},
     "output_type": "display_data"
    },
    {
     "data": {
      "application/vnd.jupyter.widget-view+json": {
       "model_id": "2a988021dd5a4faaa08ea084439e3049",
       "version_major": 2,
       "version_minor": 0
      },
      "text/plain": [
       "Extracting data files:   0%|          | 0/1 [00:00<?, ?it/s]"
      ]
     },
     "metadata": {},
     "output_type": "display_data"
    },
    {
     "data": {
      "application/vnd.jupyter.widget-view+json": {
       "model_id": "d709166f9c3043d381572048c8ac072d",
       "version_major": 2,
       "version_minor": 0
      },
      "text/plain": [
       "Generating train split: 0 examples [00:00, ? examples/s]"
      ]
     },
     "metadata": {},
     "output_type": "display_data"
    },
    {
     "name": "stdout",
     "output_type": "stream",
     "text": [
      "Dataset json downloaded and prepared to /root/.cache/huggingface/datasets/martingrzzler___json/martingrzzler--mnemonics_benchmark-6cc75b71b93e3c15/0.0.0/fe5dd6ea2639a6df622901539cb550cf8797e5a6b2dd7af1cf934bed8e233e6e. Subsequent calls will reuse this data.\n"
     ]
    },
    {
     "data": {
      "application/vnd.jupyter.widget-view+json": {
       "model_id": "1c83f5607d7542eb8204e4e0a5e22456",
       "version_major": 2,
       "version_minor": 0
      },
      "text/plain": [
       "  0%|          | 0/1 [00:00<?, ?it/s]"
      ]
     },
     "metadata": {},
     "output_type": "display_data"
    }
   ],
   "source": [
    "from datasets import load_dataset\n",
    "\n",
    "ds = load_dataset(\"martingrzzler/mnemonics_benchmark\")"
   ]
  },
  {
   "cell_type": "code",
   "execution_count": 5,
   "metadata": {},
   "outputs": [],
   "source": [
    "import torch\n",
    "\n",
    "device = \"cuda\" if torch.cuda.is_available() else \"cpu\""
   ]
  },
  {
   "cell_type": "code",
   "execution_count": 6,
   "metadata": {},
   "outputs": [
    {
     "data": {
      "application/vnd.jupyter.widget-view+json": {
       "model_id": "28f928189a704f92ad6ad82fe00dd175",
       "version_major": 2,
       "version_minor": 0
      },
      "text/plain": [
       "Downloading (…)solve/main/vocab.txt:   0%|          | 0.00/232k [00:00<?, ?B/s]"
      ]
     },
     "metadata": {},
     "output_type": "display_data"
    },
    {
     "data": {
      "application/vnd.jupyter.widget-view+json": {
       "model_id": "8cee49a0920041b38b33b64ed2cda1d7",
       "version_major": 2,
       "version_minor": 0
      },
      "text/plain": [
       "Downloading (…)okenizer_config.json:   0%|          | 0.00/28.0 [00:00<?, ?B/s]"
      ]
     },
     "metadata": {},
     "output_type": "display_data"
    },
    {
     "data": {
      "application/vnd.jupyter.widget-view+json": {
       "model_id": "2063f69c2c054728b20446eba01382eb",
       "version_major": 2,
       "version_minor": 0
      },
      "text/plain": [
       "Downloading (…)lve/main/config.json:   0%|          | 0.00/483 [00:00<?, ?B/s]"
      ]
     },
     "metadata": {},
     "output_type": "display_data"
    },
    {
     "data": {
      "application/vnd.jupyter.widget-view+json": {
       "model_id": "cb58efcb38eb437a921eb3f743f9a6ee",
       "version_major": 2,
       "version_minor": 0
      },
      "text/plain": [
       "Downloading (…)lve/main/config.json:   0%|          | 0.00/676 [00:00<?, ?B/s]"
      ]
     },
     "metadata": {},
     "output_type": "display_data"
    },
    {
     "data": {
      "application/vnd.jupyter.widget-view+json": {
       "model_id": "f8aaa58f97bc4917968ee1860d4afbae",
       "version_major": 2,
       "version_minor": 0
      },
      "text/plain": [
       "Downloading pytorch_model.bin:   0%|          | 0.00/268M [00:00<?, ?B/s]"
      ]
     },
     "metadata": {},
     "output_type": "display_data"
    }
   ],
   "source": [
    "from transformers import DistilBertTokenizer, DistilBertForSequenceClassification\n",
    "\n",
    "tokenizer = DistilBertTokenizer.from_pretrained(\"distilbert-base-uncased\")\n",
    "model = DistilBertForSequenceClassification.from_pretrained(\"martingrzzler/distilbert-phrase-word-concreteness\").to(device)"
   ]
  },
  {
   "cell_type": "code",
   "execution_count": 7,
   "metadata": {},
   "outputs": [],
   "source": [
    "def predict_concreteness(text):\n",
    "    inputs = tokenizer(text, return_tensors=\"pt\", truncation=True, padding='max_length', max_length=50).to(device)\n",
    "    inputs.to(device)\n",
    "    outputs = model(**inputs)\n",
    "    return outputs.logits.item()"
   ]
  },
  {
   "cell_type": "code",
   "execution_count": 8,
   "metadata": {},
   "outputs": [
    {
     "data": {
      "text/plain": [
       "['woman', 'catapult', 'recreation']"
      ]
     },
     "execution_count": 8,
     "metadata": {},
     "output_type": "execute_result"
    }
   ],
   "source": [
    "input_words = ds['train'][0]['component_meanings'].split(',') + [ds['train'][0]['kanji_meaning']]\n",
    "input_words"
   ]
  },
  {
   "cell_type": "code",
   "execution_count": 11,
   "metadata": {},
   "outputs": [],
   "source": [
    "import nltk\n",
    "stemmer = nltk.stem.PorterStemmer()\n",
    "\n",
    "def input_in_keyphrase(input_words, keyphrase):\n",
    "    input_stems = set([stemmer.stem(word) for word in input_words])\n",
    "    keyphrase_stems = set([stemmer.stem(word) for word in keyphrase.split()])\n",
    "\n",
    "    return len(input_stems & keyphrase_stems) > 0 \n"
   ]
  },
  {
   "cell_type": "code",
   "execution_count": 41,
   "metadata": {},
   "outputs": [],
   "source": [
    "import re\n",
    "import spacy\n",
    "import pytextrank\n",
    "\n",
    "\n",
    "nlp = spacy.load(\"en_core_web_sm\")\n",
    "nlp.add_pipe(\"topicrank\")\n",
    "\n",
    "def get_keyphrases(text):\n",
    "    text = re.sub(r'<.*?>', '', text)\n",
    "    doc = nlp(text)\n",
    "    return [phrase.text for phrase in doc._.phrases ]"
   ]
  },
  {
   "cell_type": "code",
   "execution_count": 42,
   "metadata": {},
   "outputs": [],
   "source": [
    "import numpy as np\n",
    "def keyphrase_score(text, input_words):\n",
    "    keyphrases = get_keyphrases(text)\n",
    "    scores = []\n",
    "    for keyphrase in keyphrases:\n",
    "        scores.append(predict_concreteness(keyphrase) * .5 + int(input_in_keyphrase(input_words, keyphrase) * .5))\n",
    "\n",
    "    return np.average(scores, weights=1/np.arange(1, len(scores) + 1))"
   ]
  },
  {
   "cell_type": "code",
   "execution_count": 43,
   "metadata": {},
   "outputs": [],
   "source": [
    "sample_index = 14\n",
    "keys = ['gpt2xl_mnemonic', 'wanikani_mnemonic', 'gpt3_mnemonic', 'gpt3_paragraph']"
   ]
  },
  {
   "cell_type": "code",
   "execution_count": 44,
   "metadata": {},
   "outputs": [],
   "source": [
    "def get_input_words(sample_index):\n",
    "    return ds['train'][sample_index]['component_meanings'].split(',') + [ds['train'][sample_index]['kanji_meaning']]"
   ]
  },
  {
   "cell_type": "code",
   "execution_count": 45,
   "metadata": {},
   "outputs": [
    {
     "name": "stdout",
     "output_type": "stream",
     "text": [
      "['net', 'say', 'knife', 'penalty']\n",
      "gpt2xl_mnemonic 0.3701456932417546\n",
      "wanikani_mnemonic 0.3901765943748409\n",
      "gpt3_mnemonic 0.3370311691371576\n",
      "gpt3_paragraph 0.27503321766853334\n"
     ]
    }
   ],
   "source": [
    "print(get_input_words(sample_index))\n",
    "for key in keys:\n",
    "    print(key, keyphrase_score(ds['train'][sample_index][key], get_input_words(sample_index)))"
   ]
  },
  {
   "cell_type": "code",
   "execution_count": 46,
   "metadata": {},
   "outputs": [],
   "source": [
    "def keyword_overlap_score(text, input_words):\n",
    "    keyphrases = get_keyphrases(text)\n",
    "    scores = []\n",
    "    for keyphrase in keyphrases:\n",
    "        scores.append(int(input_in_keyphrase(input_words, keyphrase)))\n",
    "\n",
    "    return np.average(scores, weights=1/np.arange(1, len(scores) + 1))"
   ]
  },
  {
   "cell_type": "code",
   "execution_count": 47,
   "metadata": {},
   "outputs": [],
   "source": [
    "def map_keyword_overlap_score(example):\n",
    "    input_words = example['component_meanings'].split(',') + [example['kanji_meaning']]\n",
    "    for key in keys:\n",
    "        example[f'{key}_overlap_score'] = keyword_overlap_score(example[key], input_words)\n",
    "    return example"
   ]
  },
  {
   "cell_type": "code",
   "execution_count": 48,
   "metadata": {},
   "outputs": [
    {
     "data": {
      "application/vnd.jupyter.widget-view+json": {
       "model_id": "770e336273c245a39ecfb72fc93f8ef2",
       "version_major": 2,
       "version_minor": 0
      },
      "text/plain": [
       "Map:   0%|          | 0/190 [00:00<?, ? examples/s]"
      ]
     },
     "metadata": {},
     "output_type": "display_data"
    }
   ],
   "source": [
    "ds_overlap = ds['train'].map(map_keyword_overlap_score)"
   ]
  },
  {
   "cell_type": "code",
   "execution_count": 49,
   "metadata": {},
   "outputs": [
    {
     "data": {
      "image/png": "[encoded data removed]",
      "text/plain": [
       "<Figure size 640x480 with 1 Axes>"
      ]
     },
     "metadata": {},
     "output_type": "display_data"
    }
   ],
   "source": [
    "import matplotlib.pyplot as plt\n",
    "\n",
    "fig, ax = plt.subplots()\n",
    "ax.set_title('Keyword Overlap Score')\n",
    "ax.boxplot([ds_overlap[f'{key}_overlap_score'] for key in keys])\n",
    "ax.set_xticklabels(keys)\n",
    "plt.show()"
   ]
  },
  {
   "cell_type": "code",
   "execution_count": 50,
   "metadata": {},
   "outputs": [
    {
     "name": "stdout",
     "output_type": "stream",
     "text": [
      "129.71680141043842 8.701012880187904e-68\n"
     ]
    }
   ],
   "source": [
    "from scipy.stats import f_oneway\n",
    "\n",
    "f, p = f_oneway(*[ds_overlap[f'{key}_overlap_score'] for key in keys])\n",
    "print(f, p)"
   ]
  },
  {
   "cell_type": "code",
   "execution_count": 51,
   "metadata": {},
   "outputs": [
    {
     "name": "stdout",
     "output_type": "stream",
     "text": [
      "Tukey's HSD Pairwise Group Comparisons (95.0% Confidence Interval)\n",
      "Comparison  Statistic  p-value  Lower CI  Upper CI\n",
      " (0 - 1)     -0.420     0.000    -0.476    -0.363\n",
      " (0 - 2)     -0.290     0.000    -0.346    -0.234\n",
      " (0 - 3)     -0.246     0.000    -0.302    -0.190\n",
      " (1 - 0)      0.420     0.000     0.363     0.476\n",
      " (1 - 2)      0.129     0.000     0.073     0.185\n",
      " (1 - 3)      0.174     0.000     0.118     0.230\n",
      " (2 - 0)      0.290     0.000     0.234     0.346\n",
      " (2 - 1)     -0.129     0.000    -0.185    -0.073\n",
      " (2 - 3)      0.045     0.173    -0.012     0.101\n",
      " (3 - 0)      0.246     0.000     0.190     0.302\n",
      " (3 - 1)     -0.174     0.000    -0.230    -0.118\n",
      " (3 - 2)     -0.045     0.173    -0.101     0.012\n",
      "\n"
     ]
    }
   ],
   "source": [
    "from scipy.stats import tukey_hsd\n",
    "\n",
    "data = [ds_overlap[f'{key}_overlap_score'] for key in keys]\n",
    "\n",
    "res = tukey_hsd(*[ds_overlap[f'{key}_overlap_score'] for key in keys])\n",
    "print(res)"
   ]
  },
  {
   "cell_type": "code",
   "execution_count": 52,
   "metadata": {},
   "outputs": [],
   "source": [
    "def keyword_concreteness_score(text):\n",
    "    keyphrases = get_keyphrases(text)\n",
    "    scores = []\n",
    "    for keyphrase in keyphrases:\n",
    "        scores.append(predict_concreteness(keyphrase))\n",
    "\n",
    "    return np.average(scores, weights=1/np.arange(1, len(scores) + 1))"
   ]
  },
  {
   "cell_type": "code",
   "execution_count": 53,
   "metadata": {},
   "outputs": [],
   "source": [
    "def map_keyword_concreteness_score(example):\n",
    "    for key in keys:\n",
    "        example[f'{key}_concreteness_score'] = keyword_concreteness_score(example[key])\n",
    "    return example"
   ]
  },
  {
   "cell_type": "code",
   "execution_count": 54,
   "metadata": {},
   "outputs": [
    {
     "data": {
      "application/vnd.jupyter.widget-view+json": {
       "model_id": "7ab74be521c24eccb3154043ec41a9dd",
       "version_major": 2,
       "version_minor": 0
      },
      "text/plain": [
       "Map:   0%|          | 0/190 [00:00<?, ? examples/s]"
      ]
     },
     "metadata": {},
     "output_type": "display_data"
    }
   ],
   "source": [
    "ds_concreteness = ds['train'].map(map_keyword_concreteness_score)"
   ]
  },
  {
   "cell_type": "code",
   "execution_count": 55,
   "metadata": {},
   "outputs": [
    {
     "name": "stdout",
     "output_type": "stream",
     "text": [
      "20.41759020376404 9.918399912027405e-13\n"
     ]
    }
   ],
   "source": [
    "f, p = f_oneway(*[ds_concreteness[f'{key}_concreteness_score'] for key in keys])\n",
    "\n",
    "print(f, p)"
   ]
  },
  {
   "cell_type": "code",
   "execution_count": 56,
   "metadata": {},
   "outputs": [
    {
     "data": {
      "image/png": "[encoded data removed]",
      "text/plain": [
       "<Figure size 640x480 with 1 Axes>"
      ]
     },
     "metadata": {},
     "output_type": "display_data"
    }
   ],
   "source": [
    "fig, ax = plt.subplots()\n",
    "ax.set_title('Keyword Concreteness Score')\n",
    "ax.boxplot([ds_concreteness[f'{key}_concreteness_score'] for key in keys])\n",
    "ax.set_xticklabels(keys)\n",
    "plt.show()"
   ]
  },
  {
   "cell_type": "code",
   "execution_count": 57,
   "metadata": {},
   "outputs": [
    {
     "name": "stdout",
     "output_type": "stream",
     "text": [
      "Tukey's HSD Pairwise Group Comparisons (95.0% Confidence Interval)\n",
      "Comparison  Statistic  p-value  Lower CI  Upper CI\n",
      " (0 - 1)     -0.101     0.000    -0.135    -0.068\n",
      " (0 - 2)     -0.062     0.000    -0.096    -0.029\n",
      " (0 - 3)     -0.046     0.003    -0.080    -0.012\n",
      " (1 - 0)      0.101     0.000     0.068     0.135\n",
      " (1 - 2)      0.039     0.016     0.005     0.073\n",
      " (1 - 3)      0.056     0.000     0.022     0.090\n",
      " (2 - 0)      0.062     0.000     0.029     0.096\n",
      " (2 - 1)     -0.039     0.016    -0.073    -0.005\n",
      " (2 - 3)      0.017     0.586    -0.017     0.051\n",
      " (3 - 0)      0.046     0.003     0.012     0.080\n",
      " (3 - 1)     -0.056     0.000    -0.090    -0.022\n",
      " (3 - 2)     -0.017     0.586    -0.051     0.017\n",
      "\n"
     ]
    }
   ],
   "source": [
    "res = tukey_hsd(*[ds_concreteness[f'{key}_concreteness_score'] for key in keys])\n",
    "print(res)"
   ]
  },
  {
   "cell_type": "code",
   "execution_count": 58,
   "metadata": {},
   "outputs": [],
   "source": [
    "def map_keyword_score(example):\n",
    "    input_words = example['component_meanings'].split(',') + [example['kanji_meaning']]\n",
    "    for key in keys:\n",
    "        example[f'{key}_score'] = keyphrase_score(example[key], input_words)\n",
    "    return example"
   ]
  },
  {
   "cell_type": "code",
   "execution_count": 59,
   "metadata": {},
   "outputs": [
    {
     "data": {
      "application/vnd.jupyter.widget-view+json": {
       "model_id": "c49be1318a194508ab9418e278ecd7fa",
       "version_major": 2,
       "version_minor": 0
      },
      "text/plain": [
       "Map:   0%|          | 0/190 [00:00<?, ? examples/s]"
      ]
     },
     "metadata": {},
     "output_type": "display_data"
    }
   ],
   "source": [
    "ds_combined = ds['train'].map(map_keyword_score)"
   ]
  },
  {
   "cell_type": "code",
   "execution_count": 61,
   "metadata": {},
   "outputs": [
    {
     "name": "stdout",
     "output_type": "stream",
     "text": [
      "20.41759020376404 9.918399912027405e-13\n"
     ]
    }
   ],
   "source": [
    "f, p = f_oneway(*[ds_combined[f'{key}_score'] for key in keys])\n",
    "\n",
    "print(f, p)"
   ]
  },
  {
   "cell_type": "code",
   "execution_count": 62,
   "metadata": {},
   "outputs": [
    {
     "data": {
      "image/png": "[encoded data removed]",
      "text/plain": [
       "<Figure size 640x480 with 1 Axes>"
      ]
     },
     "metadata": {},
     "output_type": "display_data"
    }
   ],
   "source": [
    "fig, ax = plt.subplots()\n",
    "ax.set_title('Keyword Score')\n",
    "ax.boxplot([ds_combined[f'{key}_score'] for key in keys])\n",
    "ax.set_xticklabels(keys)\n",
    "plt.show()"
   ]
  },
  {
   "cell_type": "code",
   "execution_count": 63,
   "metadata": {},
   "outputs": [
    {
     "data": {
      "application/vnd.jupyter.widget-view+json": {
       "model_id": "273cb2a78bf847098c9279b66d2a4c4f",
       "version_major": 2,
       "version_minor": 0
      },
      "text/plain": [
       "Downloading (…)lve/main/config.json:   0%|          | 0.00/676 [00:00<?, ?B/s]"
      ]
     },
     "metadata": {},
     "output_type": "display_data"
    },
    {
     "data": {
      "application/vnd.jupyter.widget-view+json": {
       "model_id": "a028865c64f44e3f8d2fff46b00373ba",
       "version_major": 2,
       "version_minor": 0
      },
      "text/plain": [
       "Downloading pytorch_model.bin:   0%|          | 0.00/268M [00:00<?, ?B/s]"
      ]
     },
     "metadata": {},
     "output_type": "display_data"
    }
   ],
   "source": [
    "ser_model = DistilBertForSequenceClassification.from_pretrained(\"martingrzzler/distilbert-sensory-modality\").to(device)"
   ]
  },
  {
   "cell_type": "code",
   "execution_count": 64,
   "metadata": {},
   "outputs": [],
   "source": [
    "def predict_sensory_modality(text):\n",
    "    inputs = tokenizer(text, return_tensors=\"pt\", truncation=True, padding='max_length', max_length=10).to(device)\n",
    "    inputs.to(device)\n",
    "    outputs = ser_model(**inputs)\n",
    "    return outputs.logits.item()"
   ]
  },
  {
   "cell_type": "code",
   "execution_count": 79,
   "metadata": {},
   "outputs": [],
   "source": [
    "# this model was trained on single words\n",
    "def keyphrase_sensory_modality_score(text):\n",
    "    keyphrases = get_keyphrases(text)\n",
    "    scores = []\n",
    "    for keyphrase in keyphrases:\n",
    "        keywords = keyphrase.split(' ')\n",
    "        word_scores = [predict_sensory_modality(word.lower()) for word in keywords]\n",
    "\n",
    "        scores.append(np.mean(word_scores))\n",
    "\n",
    "    return np.average(scores, weights=1/np.arange(1, len(scores) + 1))"
   ]
  },
  {
   "cell_type": "code",
   "execution_count": 73,
   "metadata": {},
   "outputs": [],
   "source": [
    "def map_keyword_sensory_modality_score(example):\n",
    "    for key in keys:\n",
    "        example[f'{key}_sensory_modality_score'] = keyphrase_sensory_modality_score(example[key])\n",
    "    return example"
   ]
  },
  {
   "cell_type": "code",
   "execution_count": 80,
   "metadata": {},
   "outputs": [
    {
     "data": {
      "text/plain": [
       "{'kanji_id': 1885,\n",
       " 'component_meanings': 'woman,catapult',\n",
       " 'wanikani_mnemonic': \"A <radical>woman</radical> loves her <radical>catapult</radical> for some good ol' fashioned <kanji>recreation</kanji>. You ask the woman what she does for fun... for recreation. She says, she goes out and shoots her catapult.\",\n",
       " 'kanji_meaning': 'recreation',\n",
       " 'gpt2xl_mnemonic': \"This is a rush transcript. Copy may not be in its final form, recreation of woman being catapulted to her death has been edited out.)\\n\\n\\nAMY GOODMAN: We begin today's show with the shocking news that two women have died after jumping from an overpass near Los Angeles International Airport and landing on I-5 southbound just before\",\n",
       " 'gpt3_paragraph': 'A woman was using a catapult for recreation in her backyard. She was having a blast launching objects into the air and watching them fly. She was enjoying the peacefulness of the moment and the satisfaction of her successful shots.',\n",
       " 'gpt3_mnemonic': \"Once upon a time there was a woman who wanted to recreate her childhood memories of playing with a catapult. She went to the local store to buy one, but instead she found a cute little white cat that she just couldn't resist. She decided to take the cat home and name him Catapult. From then on, the woman and Catapult would have fun together playing games and recreating her childhood memories.\",\n",
       " 'gpt2xl_mnemonic_sensory_modality_score': 0.49322977700083376,\n",
       " 'wanikani_mnemonic_sensory_modality_score': 0.5286646920399074,\n",
       " 'gpt3_mnemonic_sensory_modality_score': 0.49482542647245925,\n",
       " 'gpt3_paragraph_sensory_modality_score': 0.5236228673866877}"
      ]
     },
     "execution_count": 80,
     "metadata": {},
     "output_type": "execute_result"
    }
   ],
   "source": [
    "map_keyword_sensory_modality_score(ds['train'][0])"
   ]
  },
  {
   "cell_type": "code",
   "execution_count": 81,
   "metadata": {},
   "outputs": [
    {
     "data": {
      "application/vnd.jupyter.widget-view+json": {
       "model_id": "f805d76e97f54089b4228bf7342f5dc2",
       "version_major": 2,
       "version_minor": 0
      },
      "text/plain": [
       "Map:   0%|          | 0/190 [00:00<?, ? examples/s]"
      ]
     },
     "metadata": {},
     "output_type": "display_data"
    }
   ],
   "source": [
    "ds_ser = ds['train'].map(map_keyword_sensory_modality_score)"
   ]
  },
  {
   "cell_type": "code",
   "execution_count": 82,
   "metadata": {},
   "outputs": [
    {
     "name": "stdout",
     "output_type": "stream",
     "text": [
      "8.70431005848819 1.1079841875245505e-05\n"
     ]
    }
   ],
   "source": [
    "f, p = f_oneway(*[ds_ser[f'{key}_sensory_modality_score'] for key in keys])\n",
    "\n",
    "print(f, p)"
   ]
  },
  {
   "cell_type": "code",
   "execution_count": 83,
   "metadata": {},
   "outputs": [
    {
     "data": {
      "image/png": "[encoded data removed]",
      "text/plain": [
       "<Figure size 640x480 with 1 Axes>"
      ]
     },
     "metadata": {},
     "output_type": "display_data"
    }
   ],
   "source": [
    "fig, ax = plt.subplots()\n",
    "ax.set_title('Keyword Sensory Modality Score')\n",
    "ax.boxplot([ds_ser[f'{key}_sensory_modality_score'] for key in keys])\n",
    "ax.set_xticklabels(keys)\n",
    "plt.show()"
   ]
  },
  {
   "cell_type": "code",
   "execution_count": 84,
   "metadata": {},
   "outputs": [
    {
     "data": {
      "application/vnd.jupyter.widget-view+json": {
       "model_id": "0a6a57acd1c04aca9f60170888698902",
       "version_major": 2,
       "version_minor": 0
      },
      "text/plain": [
       "Downloading (…)lve/main/config.json:   0%|          | 0.00/676 [00:00<?, ?B/s]"
      ]
     },
     "metadata": {},
     "output_type": "display_data"
    },
    {
     "data": {
      "application/vnd.jupyter.widget-view+json": {
       "model_id": "e84c40c1fba74a6ab562fb5f39d51323",
       "version_major": 2,
       "version_minor": 0
      },
      "text/plain": [
       "Downloading pytorch_model.bin:   0%|          | 0.00/268M [00:00<?, ?B/s]"
      ]
     },
     "metadata": {},
     "output_type": "display_data"
    }
   ],
   "source": [
    "img_model = DistilBertForSequenceClassification.from_pretrained(\"martingrzzler/distilbert-imageability\").to(device)"
   ]
  },
  {
   "cell_type": "code",
   "execution_count": 85,
   "metadata": {},
   "outputs": [],
   "source": [
    "def predict_imageability(text):\n",
    "    inputs = tokenizer(text, return_tensors=\"pt\", truncation=True, padding='max_length', max_length=10).to(device)\n",
    "    inputs.to(device)\n",
    "    outputs = img_model(**inputs)\n",
    "    return outputs.logits.item()"
   ]
  },
  {
   "cell_type": "code",
   "execution_count": 90,
   "metadata": {},
   "outputs": [],
   "source": [
    "def keyword_imageability_score(text):\n",
    "    keyphrases = get_keyphrases(text)\n",
    "    scores = []\n",
    "    for keyphrase in keyphrases:\n",
    "        keywords = keyphrase.split(' ')\n",
    "        word_scores = [predict_imageability(word.lower()) for word in keywords]\n",
    "\n",
    "        scores.append(np.mean(word_scores))\n",
    "\n",
    "    return np.average(scores, weights=1/np.arange(1, len(scores) + 1))"
   ]
  },
  {
   "cell_type": "code",
   "execution_count": 91,
   "metadata": {},
   "outputs": [],
   "source": [
    "def map_keyword_imageability_score(example):\n",
    "    for key in keys:\n",
    "        example[f'{key}_imageability_score'] = keyword_imageability_score(example[key])\n",
    "    return example"
   ]
  },
  {
   "cell_type": "code",
   "execution_count": 92,
   "metadata": {},
   "outputs": [
    {
     "data": {
      "text/plain": [
       "{'kanji_id': 1885,\n",
       " 'component_meanings': 'woman,catapult',\n",
       " 'wanikani_mnemonic': \"A <radical>woman</radical> loves her <radical>catapult</radical> for some good ol' fashioned <kanji>recreation</kanji>. You ask the woman what she does for fun... for recreation. She says, she goes out and shoots her catapult.\",\n",
       " 'kanji_meaning': 'recreation',\n",
       " 'gpt2xl_mnemonic': \"This is a rush transcript. Copy may not be in its final form, recreation of woman being catapulted to her death has been edited out.)\\n\\n\\nAMY GOODMAN: We begin today's show with the shocking news that two women have died after jumping from an overpass near Los Angeles International Airport and landing on I-5 southbound just before\",\n",
       " 'gpt3_paragraph': 'A woman was using a catapult for recreation in her backyard. She was having a blast launching objects into the air and watching them fly. She was enjoying the peacefulness of the moment and the satisfaction of her successful shots.',\n",
       " 'gpt3_mnemonic': \"Once upon a time there was a woman who wanted to recreate her childhood memories of playing with a catapult. She went to the local store to buy one, but instead she found a cute little white cat that she just couldn't resist. She decided to take the cat home and name him Catapult. From then on, the woman and Catapult would have fun together playing games and recreating her childhood memories.\",\n",
       " 'gpt2xl_mnemonic_imageability_score': 0.6651468609953172,\n",
       " 'wanikani_mnemonic_imageability_score': 0.7888990833158911,\n",
       " 'gpt3_mnemonic_imageability_score': 0.7628726093887135,\n",
       " 'gpt3_paragraph_imageability_score': 0.6622423263439042}"
      ]
     },
     "execution_count": 92,
     "metadata": {},
     "output_type": "execute_result"
    }
   ],
   "source": [
    "map_keyword_imageability_score(ds['train'][0])"
   ]
  },
  {
   "cell_type": "code",
   "execution_count": 93,
   "metadata": {},
   "outputs": [
    {
     "data": {
      "application/vnd.jupyter.widget-view+json": {
       "model_id": "78f1024c12334343973a3a2c923bf652",
       "version_major": 2,
       "version_minor": 0
      },
      "text/plain": [
       "Map:   0%|          | 0/190 [00:00<?, ? examples/s]"
      ]
     },
     "metadata": {},
     "output_type": "display_data"
    }
   ],
   "source": [
    "ds_img = ds['train'].map(map_keyword_imageability_score)"
   ]
  },
  {
   "cell_type": "code",
   "execution_count": 94,
   "metadata": {},
   "outputs": [],
   "source": [
    "f, p = f_oneway(*[ds_img[f'{key}_imageability_score'] for key in keys])"
   ]
  },
  {
   "cell_type": "code",
   "execution_count": 95,
   "metadata": {},
   "outputs": [
    {
     "data": {
      "image/png": "[encoded data removed]",
      "text/plain": [
       "<Figure size 640x480 with 1 Axes>"
      ]
     },
     "metadata": {},
     "output_type": "display_data"
    }
   ],
   "source": [
    "fig, ax = plt.subplots()\n",
    "ax.set_title('Keyword Imageability Score')\n",
    "ax.boxplot([ds_img[f'{key}_imageability_score'] for key in keys])\n",
    "ax.set_xticklabels(keys)\n",
    "plt.show()"
   ]
  },
  {
   "cell_type": "code",
   "execution_count": 137,
   "metadata": {},
   "outputs": [
    {
     "name": "stdout",
     "output_type": "stream",
     "text": [
      "Tukey's HSD Pairwise Group Comparisons (95.0% Confidence Interval)\n",
      "Comparison  Statistic  p-value  Lower CI  Upper CI\n",
      " (0 - 1)     -0.104     0.000    -0.128    -0.081\n",
      " (0 - 2)     -0.091     0.000    -0.115    -0.067\n",
      " (0 - 3)     -0.071     0.000    -0.095    -0.047\n",
      " (1 - 0)      0.104     0.000     0.081     0.128\n",
      " (1 - 2)      0.014     0.457    -0.010     0.037\n",
      " (1 - 3)      0.033     0.002     0.010     0.057\n",
      " (2 - 0)      0.091     0.000     0.067     0.115\n",
      " (2 - 1)     -0.014     0.457    -0.037     0.010\n",
      " (2 - 3)      0.020     0.135    -0.004     0.044\n",
      " (3 - 0)      0.071     0.000     0.047     0.095\n",
      " (3 - 1)     -0.033     0.002    -0.057    -0.010\n",
      " (3 - 2)     -0.020     0.135    -0.044     0.004\n",
      "\n"
     ]
    }
   ],
   "source": [
    "print(tukey_hsd(*[ds_img[f'{key}_imageability_score'] for key in keys]))"
   ]
  },
  {
   "cell_type": "code",
   "execution_count": 97,
   "metadata": {},
   "outputs": [],
   "source": [
    "import numpy as np\n",
    "def keyphrase_metric(text, input_words):\n",
    "    keyphrases = get_keyphrases(text)\n",
    "    scores = []\n",
    "    for keyphrase in keyphrases:\n",
    "        scores.append(predict_concreteness(keyphrase) * .5 + \\\n",
    "                       int(input_in_keyphrase(input_words, keyphrase) * .5/3) + \\\n",
    "                       np.mean([predict_sensory_modality(word.lower()) for word in keyphrase.split(' ')]) * .5/3 + \\\n",
    "                          np.mean([predict_imageability(word.lower()) for word in keyphrase.split(' ')]) * .5/3\n",
    "                      )\n",
    "\n",
    "    return np.average(scores, weights=1/np.arange(1, len(scores) + 1))"
   ]
  },
  {
   "cell_type": "code",
   "execution_count": 98,
   "metadata": {},
   "outputs": [],
   "source": [
    "def map_keyword_metric(example):\n",
    "    input_words = example['component_meanings'].split(',') + [example['kanji_meaning']]\n",
    "    for key in keys:\n",
    "        example[f'{key}_metric'] = keyphrase_metric(example[key], input_words)\n",
    "    return example"
   ]
  },
  {
   "cell_type": "code",
   "execution_count": 100,
   "metadata": {},
   "outputs": [
    {
     "data": {
      "application/vnd.jupyter.widget-view+json": {
       "model_id": "69760746fed54f22b1c3eb627785fe53",
       "version_major": 2,
       "version_minor": 0
      },
      "text/plain": [
       "Map:   0%|          | 0/190 [00:00<?, ? examples/s]"
      ]
     },
     "metadata": {},
     "output_type": "display_data"
    }
   ],
   "source": [
    "ds_metric = ds['train'].map(map_keyword_metric)"
   ]
  },
  {
   "cell_type": "code",
   "execution_count": 101,
   "metadata": {},
   "outputs": [],
   "source": [
    "f, p = f_oneway(*[ds_metric[f'{key}_metric'] for key in keys])"
   ]
  },
  {
   "cell_type": "code",
   "execution_count": 102,
   "metadata": {},
   "outputs": [
    {
     "data": {
      "image/png": "[encoded data removed]",
      "text/plain": [
       "<Figure size 640x480 with 1 Axes>"
      ]
     },
     "metadata": {},
     "output_type": "display_data"
    }
   ],
   "source": [
    "fig, ax = plt.subplots()\n",
    "ax.set_title('Keyword Metric')\n",
    "ax.boxplot([ds_metric[f'{key}_metric'] for key in keys])\n",
    "ax.set_xticklabels(keys)\n",
    "plt.show()"
   ]
  },
  {
   "cell_type": "code",
   "execution_count": 136,
   "metadata": {},
   "outputs": [
    {
     "name": "stdout",
     "output_type": "stream",
     "text": [
      "Tukey's HSD Pairwise Group Comparisons (95.0% Confidence Interval)\n",
      "Comparison  Statistic  p-value  Lower CI  Upper CI\n",
      " (0 - 1)     -0.076     0.000    -0.098    -0.054\n",
      " (0 - 2)     -0.052     0.000    -0.074    -0.029\n",
      " (0 - 3)     -0.039     0.000    -0.062    -0.017\n",
      " (1 - 0)      0.076     0.000     0.054     0.098\n",
      " (1 - 2)      0.024     0.026     0.002     0.047\n",
      " (1 - 3)      0.036     0.000     0.014     0.059\n",
      " (2 - 0)      0.052     0.000     0.029     0.074\n",
      " (2 - 1)     -0.024     0.026    -0.047    -0.002\n",
      " (2 - 3)      0.012     0.505    -0.010     0.034\n",
      " (3 - 0)      0.039     0.000     0.017     0.062\n",
      " (3 - 1)     -0.036     0.000    -0.059    -0.014\n",
      " (3 - 2)     -0.012     0.505    -0.034     0.010\n",
      "\n"
     ]
    }
   ],
   "source": [
    "print(tukey_hsd(*[ds_metric[f'{key}_metric'] for key in keys]))"
   ]
  },
  {
   "cell_type": "code",
   "execution_count": 129,
   "metadata": {},
   "outputs": [
    {
     "name": "stdout",
     "output_type": "stream",
     "text": [
      "You take a <radical>turkey</radical> and try to <radical>boil</radical> it but you <kanji>char</kanji> it instead. That's what happens when you throw meat into a pot on high with no water in there. You should know better than to try to boil something without water! Now what are you going to do with this raw, but charred turkey?!\n",
      "<radical>Flowers</radical> that you <radical>oversee</radical> are always <kanji>indigo</kanji>. You aren't sure why though... Imagine if every flower you were supposed to oversee was indigo. Indigo everywhere!\n",
      "A <radical>tsunami</radical> lifts all the <radical>trash</radical> out of the <radical>river</radical> and it <kanji>stream</kanji>s out onto the shores. As the tsunami recedes, watch as all of the trash comes streaming out of the river and crowds the bank.\n"
     ]
    },
    {
     "data": {
      "text/plain": [
       "46     None\n",
       "187    None\n",
       "105    None\n",
       "Name: wanikani_mnemonic, dtype: object"
      ]
     },
     "execution_count": 129,
     "metadata": {},
     "output_type": "execute_result"
    }
   ],
   "source": [
    "ds_metric.to_pandas().sort_values('wanikani_mnemonic_metric', ascending=False)['wanikani_mnemonic'][:3].apply(print)"
   ]
  },
  {
   "cell_type": "code",
   "execution_count": 131,
   "metadata": {},
   "outputs": [
    {
     "name": "stdout",
     "output_type": "stream",
     "text": [
      "recollection soul,idea\n",
      "limit building,root\n",
      "kindness mouth,big,heart\n",
      "The soul is a mysterious thing, and it can often hold onto ideas and recollections that one would have thought long forgotten. It is a powerful thing, and it can bring back memories and feelings that have been long buried, and can open up new possibilities and ideas.\n",
      "Building a strong foundation is essential for any successful endeavor, and the root of that foundation is to set limits. Having predetermined limits allows for better organization, planning, and goal setting.\n",
      "My big mouth has gotten me into trouble in the past, but I have a big heart to match it. I believe in the power of kindness and strive to treat others with respect and understanding.\n"
     ]
    },
    {
     "data": {
      "text/plain": [
       "86     None\n",
       "56     None\n",
       "138    None\n",
       "Name: gpt3_paragraph, dtype: object"
      ]
     },
     "execution_count": 131,
     "metadata": {},
     "output_type": "execute_result"
    }
   ],
   "source": [
    "ds_metric.to_pandas().sort_values('gpt3_paragraph_metric')[:3].apply(lambda x : print(x['kanji_meaning'], x['component_meanings']), axis=1)\n",
    "ds_metric.to_pandas().sort_values('gpt3_paragraph_metric')['gpt3_paragraph'][:3].apply(print)"
   ]
  },
  {
   "cell_type": "code",
   "execution_count": 134,
   "metadata": {},
   "outputs": [
    {
     "data": {
      "text/plain": [
       "0.27065905375120514"
      ]
     },
     "execution_count": 134,
     "metadata": {},
     "output_type": "execute_result"
    }
   ],
   "source": [
    "keyphrase_metric(ds['train']['gpt3_paragraph'][86], ['recollection', 'soul', 'idea'])"
   ]
  },
  {
   "cell_type": "code",
   "execution_count": 138,
   "metadata": {},
   "outputs": [
    {
     "data": {
      "text/plain": [
       "0.39502933464887785"
      ]
     },
     "execution_count": 138,
     "metadata": {},
     "output_type": "execute_result"
    }
   ],
   "source": [
    "t = 'In a bustling city, a towering skyscraper was intertwined with an ancient tree\\'s roots. The roots provided strength and support, but they had a limit. A wise old man warned that if the building grew too tall, the roots would give way and the skyscraper would crumble. This vivid image serves as a reminder: even the mightiest roots have a limit to their support.'\n",
    "keyphrase_metric(t, ['limit', 'building', 'root'])"
   ]
  },
  {
   "attachments": {},
   "cell_type": "markdown",
   "metadata": {},
   "source": [
    "These findings are promising but perhaps keywords aren't the best approach or insufficient. \n",
    "It may make sense to quantify the connection of the input words somehow. If the words are represented as a graph,\n",
    "it may be very useful to extract the edges between the input words."
   ]
  },
  {
   "cell_type": "code",
   "execution_count": 139,
   "metadata": {},
   "outputs": [
    {
     "data": {
      "text/plain": [
       "['ancient trees roots',\n",
       " 'support',\n",
       " 'limit',\n",
       " 'towering skyscraper',\n",
       " 'strength',\n",
       " 'way',\n",
       " 'wise old man',\n",
       " 'vivid image',\n",
       " 'reminder',\n",
       " 'building',\n",
       " 'bustling city']"
      ]
     },
     "execution_count": 139,
     "metadata": {},
     "output_type": "execute_result"
    }
   ],
   "source": [
    "get_keyphrases(t)"
   ]
  }
 ],
 "metadata": {
  "kernelspec": {
   "display_name": "Python 3",
   "language": "python",
   "name": "python3"
  },
  "language_info": {
   "codemirror_mode": {
    "name": "ipython",
    "version": 3
   },
   "file_extension": ".py",
   "mimetype": "text/x-python",
   "name": "python",
   "nbconvert_exporter": "python",
   "pygments_lexer": "ipython3",
   "version": "3.9.16"
  },
  "orig_nbformat": 4
 },
 "nbformat": 4,
 "nbformat_minor": 2
}
