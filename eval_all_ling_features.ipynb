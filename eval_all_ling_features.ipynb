{
 "cells": [
  {
   "cell_type": "code",
   "execution_count": null,
   "metadata": {},
   "outputs": [],
   "source": [
    "# load eval dataset\n",
    "# tokenize func for eval dataset\n",
    "# load all 3 models\n",
    "# three models predict\n",
    "# calculate all word scores for each model and each mnemonic and sort them + along with the token"
   ]
  },
  {
   "cell_type": "code",
   "execution_count": 1,
   "metadata": {},
   "outputs": [
    {
     "name": "stdout",
     "output_type": "stream",
     "text": [
      "\u001b[2K     \u001b[90m━━━━━━━━━━━━━━━━━━━━━━━━━━━━━━━━━━━━━━━━\u001b[0m \u001b[32m7.0/7.0 MB\u001b[0m \u001b[31m52.2 MB/s\u001b[0m eta \u001b[36m0:00:00\u001b[0m00:01\u001b[0m00:01\u001b[0m\n",
      "\u001b[2K     \u001b[90m━━━━━━━━━━━━━━━━━━━━━━━━━━━━━━━━━━━━━━\u001b[0m \u001b[32m468.7/468.7 kB\u001b[0m \u001b[31m47.2 MB/s\u001b[0m eta \u001b[36m0:00:00\u001b[0m\n",
      "\u001b[2K     \u001b[90m━━━━━━━━━━━━━━━━━━━━━━━━━━━━━━━━━━━━━━\u001b[0m \u001b[32m200.1/200.1 kB\u001b[0m \u001b[31m22.7 MB/s\u001b[0m eta \u001b[36m0:00:00\u001b[0m\n",
      "\u001b[2K     \u001b[90m━━━━━━━━━━━━━━━━━━━━━━━━━━━━━━━━━━━━━━━━\u001b[0m \u001b[32m7.8/7.8 MB\u001b[0m \u001b[31m91.2 MB/s\u001b[0m eta \u001b[36m0:00:00\u001b[0m:00:01\u001b[0m00:01\u001b[0m\n",
      "\u001b[2K     \u001b[90m━━━━━━━━━━━━━━━━━━━━━━━━━━━━━━━━━━━━━━━━\u001b[0m \u001b[32m1.0/1.0 MB\u001b[0m \u001b[31m70.1 MB/s\u001b[0m eta \u001b[36m0:00:00\u001b[0m\n",
      "\u001b[2K     \u001b[90m━━━━━━━━━━━━━━━━━━━━━━━━━━━━━━━━━━━━━━\u001b[0m \u001b[32m212.2/212.2 kB\u001b[0m \u001b[31m23.9 MB/s\u001b[0m eta \u001b[36m0:00:00\u001b[0m\n",
      "\u001b[2K     \u001b[90m━━━━━━━━━━━━━━━━━━━━━━━━━━━━━━━━━━━━━━\u001b[0m \u001b[32m132.9/132.9 kB\u001b[0m \u001b[31m15.4 MB/s\u001b[0m eta \u001b[36m0:00:00\u001b[0m\n",
      "\u001b[2K     \u001b[90m━━━━━━━━━━━━━━━━━━━━━━━━━━━━━━━━━━━━━━\u001b[0m \u001b[32m110.5/110.5 kB\u001b[0m \u001b[31m13.2 MB/s\u001b[0m eta \u001b[36m0:00:00\u001b[0m\n",
      "\u001b[2K     \u001b[90m━━━━━━━━━━━━━━━━━━━━━━━━━━━━━━━━━━━━━━\u001b[0m \u001b[32m158.8/158.8 kB\u001b[0m \u001b[31m19.2 MB/s\u001b[0m eta \u001b[36m0:00:00\u001b[0m\n",
      "\u001b[2K     \u001b[90m━━━━━━━━━━━━━━━━━━━━━━━━━━━━━━━━━━━━━━\u001b[0m \u001b[32m264.6/264.6 kB\u001b[0m \u001b[31m27.4 MB/s\u001b[0m eta \u001b[36m0:00:00\u001b[0m\n",
      "\u001b[2K     \u001b[90m━━━━━━━━━━━━━━━━━━━━━━━━━━━━━━━━━━━━━━\u001b[0m \u001b[32m114.2/114.2 kB\u001b[0m \u001b[31m12.6 MB/s\u001b[0m eta \u001b[36m0:00:00\u001b[0m\n",
      "\u001b[?25h"
     ]
    }
   ],
   "source": [
    "%pip install -q transformers datasets"
   ]
  },
  {
   "cell_type": "code",
   "execution_count": 2,
   "metadata": {},
   "outputs": [
    {
     "data": {
      "application/vnd.jupyter.widget-view+json": {
       "model_id": "2077672cb2054fc7853d634cf2851cc3",
       "version_major": 2,
       "version_minor": 0
      },
      "text/plain": [
       "Downloading readme:   0%|          | 0.00/131 [00:00<?, ?B/s]"
      ]
     },
     "metadata": {},
     "output_type": "display_data"
    },
    {
     "name": "stdout",
     "output_type": "stream",
     "text": [
      "Downloading and preparing dataset json/martingrzzler--mnemonics_benchmark to /root/.cache/huggingface/datasets/martingrzzler___json/martingrzzler--mnemonics_benchmark-6cc75b71b93e3c15/0.0.0/fe5dd6ea2639a6df622901539cb550cf8797e5a6b2dd7af1cf934bed8e233e6e...\n"
     ]
    },
    {
     "data": {
      "application/vnd.jupyter.widget-view+json": {
       "model_id": "366f8ec1506740eb93ec3862818544ce",
       "version_major": 2,
       "version_minor": 0
      },
      "text/plain": [
       "Downloading data files:   0%|          | 0/1 [00:00<?, ?it/s]"
      ]
     },
     "metadata": {},
     "output_type": "display_data"
    },
    {
     "data": {
      "application/vnd.jupyter.widget-view+json": {
       "model_id": "d7db62488a8b44d6a3f4c818023eeffd",
       "version_major": 2,
       "version_minor": 0
      },
      "text/plain": [
       "Downloading data:   0%|          | 0.00/274k [00:00<?, ?B/s]"
      ]
     },
     "metadata": {},
     "output_type": "display_data"
    },
    {
     "data": {
      "application/vnd.jupyter.widget-view+json": {
       "model_id": "02ba9d38c81344cab808615c34d2148f",
       "version_major": 2,
       "version_minor": 0
      },
      "text/plain": [
       "Extracting data files:   0%|          | 0/1 [00:00<?, ?it/s]"
      ]
     },
     "metadata": {},
     "output_type": "display_data"
    },
    {
     "data": {
      "application/vnd.jupyter.widget-view+json": {
       "model_id": "cae361dfc2b54c5d9b075bd9f0dcfcb3",
       "version_major": 2,
       "version_minor": 0
      },
      "text/plain": [
       "Generating train split: 0 examples [00:00, ? examples/s]"
      ]
     },
     "metadata": {},
     "output_type": "display_data"
    },
    {
     "name": "stdout",
     "output_type": "stream",
     "text": [
      "Dataset json downloaded and prepared to /root/.cache/huggingface/datasets/martingrzzler___json/martingrzzler--mnemonics_benchmark-6cc75b71b93e3c15/0.0.0/fe5dd6ea2639a6df622901539cb550cf8797e5a6b2dd7af1cf934bed8e233e6e. Subsequent calls will reuse this data.\n"
     ]
    },
    {
     "data": {
      "application/vnd.jupyter.widget-view+json": {
       "model_id": "21e03748ab774c2781d663993c32f437",
       "version_major": 2,
       "version_minor": 0
      },
      "text/plain": [
       "  0%|          | 0/1 [00:00<?, ?it/s]"
      ]
     },
     "metadata": {},
     "output_type": "display_data"
    }
   ],
   "source": [
    "from datasets import load_dataset\n",
    "\n",
    "ds = load_dataset('martingrzzler/mnemonics_benchmark')"
   ]
  },
  {
   "cell_type": "code",
   "execution_count": 3,
   "metadata": {},
   "outputs": [
    {
     "name": "stderr",
     "output_type": "stream",
     "text": [
      "[nltk_data] Downloading package punkt to /root/nltk_data...\n",
      "[nltk_data]   Unzipping tokenizers/punkt.zip.\n",
      "[nltk_data] Downloading package stopwords to /root/nltk_data...\n",
      "[nltk_data]   Unzipping corpora/stopwords.zip.\n"
     ]
    },
    {
     "data": {
      "text/plain": [
       "True"
      ]
     },
     "execution_count": 3,
     "metadata": {},
     "output_type": "execute_result"
    }
   ],
   "source": [
    "import nltk\n",
    "\n",
    "nltk.download('punkt')\n",
    "nltk.download('stopwords')"
   ]
  },
  {
   "cell_type": "code",
   "execution_count": 143,
   "metadata": {},
   "outputs": [],
   "source": [
    "import re\n",
    "from nltk import word_tokenize\n",
    "from nltk.corpus import stopwords\n",
    "\n",
    "sw = set(stopwords.words('english'))\n",
    "\n",
    "def tokenize(text):\n",
    "    text = re.sub('<.*?>', '', text)\n",
    "    tokens = word_tokenize(text)\n",
    "    filtered_tokens = [w.lower() for w in tokens if w.isalpha()]\n",
    "    filtered_tokens = [w.lower() for w in filtered_tokens if w.lower() not in sw]\n",
    "\n",
    "    return filtered_tokens"
   ]
  },
  {
   "cell_type": "code",
   "execution_count": 144,
   "metadata": {},
   "outputs": [],
   "source": [
    "import torch\n",
    "\n",
    "device = torch.device('cuda' if torch.cuda.is_available() else 'cpu')"
   ]
  },
  {
   "cell_type": "code",
   "execution_count": 12,
   "metadata": {},
   "outputs": [
    {
     "data": {
      "application/vnd.jupyter.widget-view+json": {
       "model_id": "9edf3f0e020e4b9f925c721b1f974130",
       "version_major": 2,
       "version_minor": 0
      },
      "text/plain": [
       "Downloading (…)solve/main/vocab.txt:   0%|          | 0.00/232k [00:00<?, ?B/s]"
      ]
     },
     "metadata": {},
     "output_type": "display_data"
    },
    {
     "data": {
      "application/vnd.jupyter.widget-view+json": {
       "model_id": "b674c34073214e0ea2f910b8a90ce96e",
       "version_major": 2,
       "version_minor": 0
      },
      "text/plain": [
       "Downloading (…)okenizer_config.json:   0%|          | 0.00/28.0 [00:00<?, ?B/s]"
      ]
     },
     "metadata": {},
     "output_type": "display_data"
    },
    {
     "data": {
      "application/vnd.jupyter.widget-view+json": {
       "model_id": "2d26dee533b34f56aa524e18c03bef2a",
       "version_major": 2,
       "version_minor": 0
      },
      "text/plain": [
       "Downloading (…)lve/main/config.json:   0%|          | 0.00/483 [00:00<?, ?B/s]"
      ]
     },
     "metadata": {},
     "output_type": "display_data"
    },
    {
     "data": {
      "application/vnd.jupyter.widget-view+json": {
       "model_id": "ab3082e52f2044e1bbbe4e4767ba8d4c",
       "version_major": 2,
       "version_minor": 0
      },
      "text/plain": [
       "Downloading (…)lve/main/config.json:   0%|          | 0.00/676 [00:00<?, ?B/s]"
      ]
     },
     "metadata": {},
     "output_type": "display_data"
    },
    {
     "data": {
      "application/vnd.jupyter.widget-view+json": {
       "model_id": "98e0460bce11475bbad243b86bee726a",
       "version_major": 2,
       "version_minor": 0
      },
      "text/plain": [
       "Downloading pytorch_model.bin:   0%|          | 0.00/268M [00:00<?, ?B/s]"
      ]
     },
     "metadata": {},
     "output_type": "display_data"
    },
    {
     "data": {
      "application/vnd.jupyter.widget-view+json": {
       "model_id": "06d9a08c1406404db1df1ed0f8135fab",
       "version_major": 2,
       "version_minor": 0
      },
      "text/plain": [
       "Downloading (…)lve/main/config.json:   0%|          | 0.00/676 [00:00<?, ?B/s]"
      ]
     },
     "metadata": {},
     "output_type": "display_data"
    },
    {
     "data": {
      "application/vnd.jupyter.widget-view+json": {
       "model_id": "ad316d738aa34ad3a149720903ef6066",
       "version_major": 2,
       "version_minor": 0
      },
      "text/plain": [
       "Downloading pytorch_model.bin:   0%|          | 0.00/268M [00:00<?, ?B/s]"
      ]
     },
     "metadata": {},
     "output_type": "display_data"
    },
    {
     "data": {
      "application/vnd.jupyter.widget-view+json": {
       "model_id": "85a26d9926c24aea8a27270b2228f866",
       "version_major": 2,
       "version_minor": 0
      },
      "text/plain": [
       "Downloading (…)lve/main/config.json:   0%|          | 0.00/676 [00:00<?, ?B/s]"
      ]
     },
     "metadata": {},
     "output_type": "display_data"
    },
    {
     "data": {
      "application/vnd.jupyter.widget-view+json": {
       "model_id": "eca9e3a0ba1749579c903f0e24984592",
       "version_major": 2,
       "version_minor": 0
      },
      "text/plain": [
       "Downloading pytorch_model.bin:   0%|          | 0.00/268M [00:00<?, ?B/s]"
      ]
     },
     "metadata": {},
     "output_type": "display_data"
    }
   ],
   "source": [
    "from transformers import DistilBertTokenizer, DistilBertForSequenceClassification\n",
    "\n",
    "tokenizer = DistilBertTokenizer.from_pretrained('distilbert-base-uncased')\n",
    "ser_model = DistilBertForSequenceClassification.from_pretrained('martingrzzler/distilbert-sensory-modality').to(device)\n",
    "img_model = DistilBertForSequenceClassification.from_pretrained('martingrzzler/distilbert-imageability').to(device)\n",
    "concr_model = DistilBertForSequenceClassification.from_pretrained('martingrzzler/distilbert-phrase-word-concreteness').to(device)"
   ]
  },
  {
   "cell_type": "code",
   "execution_count": 145,
   "metadata": {},
   "outputs": [],
   "source": [
    "def predict(token,model):\n",
    "    inputs = tokenizer(token, return_tensors='pt').to(device)\n",
    "    outputs = model(**inputs)\n",
    "    logits = outputs.logits\n",
    "    return logits.item()"
   ]
  },
  {
   "cell_type": "code",
   "execution_count": 146,
   "metadata": {},
   "outputs": [],
   "source": [
    "keys = ['gpt2xl_mnemonic', 'gpt3_mnemonic', 'gpt3_paragraph', 'wanikani_mnemonic']\n",
    "def map_tokens_to_scores(example):\n",
    "    for key in keys:\n",
    "        tokens = tokenize(example[key])\n",
    "        example[key+'_ser_scores'] = [predict(token,ser_model) for token in tokens]\n",
    "        example[key+'_img_scores'] = [predict(token,img_model) for token in tokens]\n",
    "        example[key+'_concr_scores'] = [predict(token,concr_model) for token in tokens]\n",
    "        example[key+'_tokens'] = tokens\n",
    "\n",
    "    return example\n"
   ]
  },
  {
   "cell_type": "code",
   "execution_count": 147,
   "metadata": {},
   "outputs": [
    {
     "data": {
      "application/vnd.jupyter.widget-view+json": {
       "model_id": "4fdb67a958d140e0b36ee9014b5d62f0",
       "version_major": 2,
       "version_minor": 0
      },
      "text/plain": [
       "Map:   0%|          | 0/190 [00:00<?, ? examples/s]"
      ]
     },
     "metadata": {},
     "output_type": "display_data"
    }
   ],
   "source": [
    "ds_scores = ds['train'].map(map_tokens_to_scores)"
   ]
  },
  {
   "cell_type": "code",
   "execution_count": 148,
   "metadata": {},
   "outputs": [
    {
     "data": {
      "text/plain": [
       "Dataset({\n",
       "    features: ['kanji_id', 'component_meanings', 'wanikani_mnemonic', 'kanji_meaning', 'gpt2xl_mnemonic', 'gpt3_paragraph', 'gpt3_mnemonic', 'gpt2xl_mnemonic_ser_scores', 'gpt2xl_mnemonic_img_scores', 'gpt2xl_mnemonic_concr_scores', 'gpt2xl_mnemonic_tokens', 'gpt3_mnemonic_ser_scores', 'gpt3_mnemonic_img_scores', 'gpt3_mnemonic_concr_scores', 'gpt3_mnemonic_tokens', 'gpt3_paragraph_ser_scores', 'gpt3_paragraph_img_scores', 'gpt3_paragraph_concr_scores', 'gpt3_paragraph_tokens', 'wanikani_mnemonic_ser_scores', 'wanikani_mnemonic_img_scores', 'wanikani_mnemonic_concr_scores', 'wanikani_mnemonic_tokens'],\n",
       "    num_rows: 190\n",
       "})"
      ]
     },
     "execution_count": 148,
     "metadata": {},
     "output_type": "execute_result"
    }
   ],
   "source": [
    "ds_scores"
   ]
  },
  {
   "cell_type": "code",
   "execution_count": 149,
   "metadata": {},
   "outputs": [],
   "source": [
    "def map_mean_scores(example):\n",
    "    for key in keys:\n",
    "        example[key+'_ser_mean'] = sum([score for score in example[key+'_ser_scores']])/len(example[key+'_ser_scores'])\n",
    "        example[key+'_img_mean'] = sum([score for score in example[key+'_img_scores']])/len(example[key+'_img_scores'])\n",
    "        example[key+'_concr_mean'] = sum([score for score in example[key+'_concr_scores']])/len(example[key+'_concr_scores'])\n",
    "\n",
    "    return example"
   ]
  },
  {
   "cell_type": "code",
   "execution_count": 150,
   "metadata": {},
   "outputs": [
    {
     "data": {
      "application/vnd.jupyter.widget-view+json": {
       "model_id": "9f2f9fe19de54a378f3678f61066d6fc",
       "version_major": 2,
       "version_minor": 0
      },
      "text/plain": [
       "Map:   0%|          | 0/190 [00:00<?, ? examples/s]"
      ]
     },
     "metadata": {},
     "output_type": "display_data"
    }
   ],
   "source": [
    "ds_mean_scores = ds_scores.map(map_mean_scores)"
   ]
  },
  {
   "cell_type": "code",
   "execution_count": 151,
   "metadata": {},
   "outputs": [],
   "source": [
    "from scipy.stats import f_oneway\n",
    "# features => (ser, img, concr)\n",
    "def anova(ds, feature, metric):\n",
    "    f, p = f_oneway(*[ds[key+'_'+feature+'_'+metric] for key in keys])\n",
    "    return f, p"
   ]
  },
  {
   "cell_type": "code",
   "execution_count": 152,
   "metadata": {},
   "outputs": [],
   "source": [
    "import matplotlib.pyplot as plt\n",
    "import numpy as np\n",
    "\n",
    "def box_plot(ds, feature, metric, title, labels=['GPT-2','GPT-3 (mnemonic)','GPT-3 (paragraph)','WaniKani']):\n",
    "    fig, ax = plt.subplots(figsize=(8, 6))\n",
    "    ax.set_title(title)\n",
    "    ax.boxplot([ds[key+'_'+feature+'_'+metric] for key in keys], labels=labels)\n",
    "    plt.show()"
   ]
  },
  {
   "cell_type": "code",
   "execution_count": 153,
   "metadata": {},
   "outputs": [],
   "source": [
    "from scipy.stats import tukey_hsd\n",
    "\n",
    "def tukey(ds, feature, metric):\n",
    "    data = [ds[key+'_'+feature+'_'+metric] for key in keys]\n",
    "    res = tukey_hsd(*data)\n",
    "    print(res)"
   ]
  },
  {
   "cell_type": "code",
   "execution_count": 154,
   "metadata": {},
   "outputs": [
    {
     "name": "stdout",
     "output_type": "stream",
     "text": [
      "(10.941983948015764, 4.855564038581046e-07)\n",
      "(8.20125113010938, 2.2388140462693895e-05)\n",
      "(7.841308202404871, 3.702913648533596e-05)\n"
     ]
    }
   ],
   "source": [
    "print(anova(ds_mean_scores, 'ser', 'mean'))\n",
    "print(anova(ds_mean_scores, 'img', 'mean'))\n",
    "print(anova(ds_mean_scores, 'concr', 'mean'))"
   ]
  },
  {
   "cell_type": "code",
   "execution_count": 182,
   "metadata": {},
   "outputs": [
    {
     "name": "stdout",
     "output_type": "stream",
     "text": [
      "gpt2xl_mnemonic: $0.337$ & $0.043$\n",
      "gpt3_mnemonic: $0.320$ & $0.055$\n",
      "gpt3_paragraph: $0.351$ & $0.065$\n",
      "wanikani_mnemonic: $0.347$ & $0.063$\n"
     ]
    }
   ],
   "source": [
    "def mean_std(ds, feature, metric):\n",
    "    means = [np.mean(ds[key+'_'+feature+'_'+metric]) for key in keys]\n",
    "    stds = [np.std(ds[key+'_'+feature+'_'+metric]) for key in keys]\n",
    "    return means, stds\n",
    "\n",
    "means, stds = mean_std(ds_mean_scores, 'ser', 'mean')\n",
    "\n",
    "for i in range(len(means)):\n",
    "    print(f\"{keys[i]}: ${means[i]:.3f}$ & ${stds[i]:.3f}$\")"
   ]
  },
  {
   "cell_type": "code",
   "execution_count": 184,
   "metadata": {},
   "outputs": [
    {
     "name": "stdout",
     "output_type": "stream",
     "text": [
      "gpt2xl_mnemonic: $0.558$ & $0.043$\n",
      "gpt3_mnemonic: $0.569$ & $0.054$\n",
      "gpt3_paragraph: $0.583$ & $0.065$\n",
      "wanikani_mnemonic: $0.582$ & $0.063$\n"
     ]
    }
   ],
   "source": [
    "means, stds = mean_std(ds_mean_scores, 'img', 'mean')\n",
    "\n",
    "for i in range(len(means)):\n",
    "    print(f\"{keys[i]}: ${means[i]:.3f}$ & ${stds[i]:.3f}$\")\n",
    "    "
   ]
  },
  {
   "cell_type": "code",
   "execution_count": 177,
   "metadata": {},
   "outputs": [
    {
     "name": "stdout",
     "output_type": "stream",
     "text": [
      "gpt2xl_mnemonic 0.5842873810109682 0.06372737315687135\n",
      "gpt3_mnemonic 0.5536525571212032 0.07269158927053873\n",
      "gpt3_paragraph 0.5740868576598408 0.08788197523906087\n",
      "wanikani_mnemonic 0.588881082152854 0.08100371290779294\n"
     ]
    }
   ],
   "source": [
    "means, stds = mean_std(ds_mean_scores, 'concr', 'mean')\n",
    "\n",
    "for i in range(len(means)):\n",
    "    print(keys[i], means[i], stds[i])"
   ]
  },
  {
   "cell_type": "code",
   "execution_count": 155,
   "metadata": {},
   "outputs": [
    {
     "name": "stdout",
     "output_type": "stream",
     "text": [
      "Tukey's HSD Pairwise Group Comparisons (95.0% Confidence Interval)\n",
      "Comparison  Statistic  p-value  Lower CI  Upper CI\n",
      " (0 - 1)      0.017     0.018     0.002     0.032\n",
      " (0 - 2)     -0.014     0.099    -0.029     0.002\n",
      " (0 - 3)     -0.010     0.345    -0.025     0.005\n",
      " (1 - 0)     -0.017     0.018    -0.032    -0.002\n",
      " (1 - 2)     -0.031     0.000    -0.046    -0.016\n",
      " (1 - 3)     -0.027     0.000    -0.042    -0.012\n",
      " (2 - 0)      0.014     0.099    -0.002     0.029\n",
      " (2 - 1)      0.031     0.000     0.016     0.046\n",
      " (2 - 3)      0.004     0.919    -0.011     0.019\n",
      " (3 - 0)      0.010     0.345    -0.005     0.025\n",
      " (3 - 1)      0.027     0.000     0.012     0.042\n",
      " (3 - 2)     -0.004     0.919    -0.019     0.011\n",
      "\n"
     ]
    }
   ],
   "source": [
    "tukey(ds_mean_scores, 'ser', 'mean')"
   ]
  },
  {
   "cell_type": "code",
   "execution_count": 156,
   "metadata": {},
   "outputs": [
    {
     "name": "stdout",
     "output_type": "stream",
     "text": [
      "Tukey's HSD Pairwise Group Comparisons (95.0% Confidence Interval)\n",
      "Comparison  Statistic  p-value  Lower CI  Upper CI\n",
      " (0 - 1)     -0.011     0.213    -0.026     0.004\n",
      " (0 - 2)     -0.025     0.000    -0.040    -0.010\n",
      " (0 - 3)     -0.024     0.000    -0.039    -0.009\n",
      " (1 - 0)      0.011     0.213    -0.004     0.026\n",
      " (1 - 2)     -0.013     0.100    -0.028     0.002\n",
      " (1 - 3)     -0.013     0.118    -0.028     0.002\n",
      " (2 - 0)      0.025     0.000     0.010     0.040\n",
      " (2 - 1)      0.013     0.100    -0.002     0.028\n",
      " (2 - 3)      0.000     1.000    -0.015     0.015\n",
      " (3 - 0)      0.024     0.000     0.009     0.039\n",
      " (3 - 1)      0.013     0.118    -0.002     0.028\n",
      " (3 - 2)     -0.000     1.000    -0.015     0.015\n",
      "\n"
     ]
    }
   ],
   "source": [
    "tukey(ds_mean_scores, 'img', 'mean')"
   ]
  },
  {
   "cell_type": "code",
   "execution_count": 157,
   "metadata": {},
   "outputs": [
    {
     "name": "stdout",
     "output_type": "stream",
     "text": [
      "Tukey's HSD Pairwise Group Comparisons (95.0% Confidence Interval)\n",
      "Comparison  Statistic  p-value  Lower CI  Upper CI\n",
      " (0 - 1)      0.031     0.001     0.010     0.051\n",
      " (0 - 2)      0.010     0.569    -0.010     0.031\n",
      " (0 - 3)     -0.005     0.938    -0.025     0.016\n",
      " (1 - 0)     -0.031     0.001    -0.051    -0.010\n",
      " (1 - 2)     -0.020     0.049    -0.041    -0.000\n",
      " (1 - 3)     -0.035     0.000    -0.056    -0.015\n",
      " (2 - 0)     -0.010     0.569    -0.031     0.010\n",
      " (2 - 1)      0.020     0.049     0.000     0.041\n",
      " (2 - 3)     -0.015     0.241    -0.035     0.006\n",
      " (3 - 0)      0.005     0.938    -0.016     0.025\n",
      " (3 - 1)      0.035     0.000     0.015     0.056\n",
      " (3 - 2)      0.015     0.241    -0.006     0.035\n",
      "\n"
     ]
    }
   ],
   "source": [
    "tukey(ds_mean_scores, 'concr', 'mean')"
   ]
  },
  {
   "cell_type": "code",
   "execution_count": 158,
   "metadata": {},
   "outputs": [
    {
     "data": {
      "image/png": "[encoded data removed]",
      "text/plain": [
       "<Figure size 800x600 with 1 Axes>"
      ]
     },
     "metadata": {},
     "output_type": "display_data"
    }
   ],
   "source": [
    "box_plot(ds_mean_scores, 'ser', 'mean', 'Sensory Modality')"
   ]
  },
  {
   "cell_type": "code",
   "execution_count": 159,
   "metadata": {},
   "outputs": [
    {
     "data": {
      "image/png": "[encoded data removed]",
      "text/plain": [
       "<Figure size 800x600 with 1 Axes>"
      ]
     },
     "metadata": {},
     "output_type": "display_data"
    }
   ],
   "source": [
    "box_plot(ds_mean_scores, 'img', 'mean', 'Imageability')"
   ]
  },
  {
   "cell_type": "code",
   "execution_count": 160,
   "metadata": {},
   "outputs": [
    {
     "data": {
      "image/png": "[encoded data removed]",
      "text/plain": [
       "<Figure size 800x600 with 1 Axes>"
      ]
     },
     "metadata": {},
     "output_type": "display_data"
    }
   ],
   "source": [
    "box_plot(ds_mean_scores, 'concr', 'mean', 'Concreteness')"
   ]
  },
  {
   "cell_type": "code",
   "execution_count": 161,
   "metadata": {},
   "outputs": [],
   "source": [
    "token2scores = {}\n",
    "\n",
    "for key in keys:\n",
    "    for i in range(len(ds_scores[key+'_tokens'])):\n",
    "        for j, token in enumerate(ds_scores[key+'_tokens'][i]):\n",
    "            if token.lower() not in token2scores:\n",
    "                token2scores[token.lower()] = {'ser': ds_scores[key+'_ser_scores'][i][j], 'img':ds_scores[key+'_img_scores'][i][j], 'concr': ds_scores[key+'_concr_scores'][i][j]}\n",
    "\n",
    "import pandas as pd\n",
    "\n",
    "df = pd.DataFrame.from_dict(token2scores, orient='index')"
   ]
  },
  {
   "cell_type": "code",
   "execution_count": 162,
   "metadata": {},
   "outputs": [
    {
     "data": {
      "text/html": [
       "\n",
       "  <div id=\"df-cf21f6b2-5d57-4cfe-9bd9-d3f4f91f2cfe\">\n",
       "    <div class=\"colab-df-container\">\n",
       "      <div>\n",
       "<style scoped>\n",
       "    .dataframe tbody tr th:only-of-type {\n",
       "        vertical-align: middle;\n",
       "    }\n",
       "\n",
       "    .dataframe tbody tr th {\n",
       "        vertical-align: top;\n",
       "    }\n",
       "\n",
       "    .dataframe thead th {\n",
       "        text-align: right;\n",
       "    }\n",
       "</style>\n",
       "<table border=\"1\" class=\"dataframe\">\n",
       "  <thead>\n",
       "    <tr style=\"text-align: right;\">\n",
       "      <th></th>\n",
       "      <th>ser</th>\n",
       "      <th>img</th>\n",
       "      <th>concr</th>\n",
       "    </tr>\n",
       "  </thead>\n",
       "  <tbody>\n",
       "    <tr>\n",
       "      <th>rush</th>\n",
       "      <td>0.438121</td>\n",
       "      <td>0.522701</td>\n",
       "      <td>0.509134</td>\n",
       "    </tr>\n",
       "    <tr>\n",
       "      <th>transcript</th>\n",
       "      <td>0.276047</td>\n",
       "      <td>0.607741</td>\n",
       "      <td>0.785303</td>\n",
       "    </tr>\n",
       "    <tr>\n",
       "      <th>copy</th>\n",
       "      <td>0.256791</td>\n",
       "      <td>0.655190</td>\n",
       "      <td>0.773511</td>\n",
       "    </tr>\n",
       "    <tr>\n",
       "      <th>may</th>\n",
       "      <td>0.292725</td>\n",
       "      <td>0.432765</td>\n",
       "      <td>0.425876</td>\n",
       "    </tr>\n",
       "    <tr>\n",
       "      <th>final</th>\n",
       "      <td>0.349879</td>\n",
       "      <td>0.546163</td>\n",
       "      <td>0.350708</td>\n",
       "    </tr>\n",
       "  </tbody>\n",
       "</table>\n",
       "</div>\n",
       "      <button class=\"colab-df-convert\" onclick=\"convertToInteractive('df-cf21f6b2-5d57-4cfe-9bd9-d3f4f91f2cfe')\"\n",
       "              title=\"Convert this dataframe to an interactive table.\"\n",
       "              style=\"display:none;\">\n",
       "        \n",
       "  <svg xmlns=\"http://www.w3.org/2000/svg\" height=\"24px\"viewBox=\"0 0 24 24\"\n",
       "       width=\"24px\">\n",
       "    <path d=\"M0 0h24v24H0V0z\" fill=\"none\"/>\n",
       "    <path d=\"M18.56 5.44l.94 2.06.94-2.06 2.06-.94-2.06-.94-.94-2.06-.94 2.06-2.06.94zm-11 1L8.5 8.5l.94-2.06 2.06-.94-2.06-.94L8.5 2.5l-.94 2.06-2.06.94zm10 10l.94 2.06.94-2.06 2.06-.94-2.06-.94-.94-2.06-.94 2.06-2.06.94z\"/><path d=\"M17.41 7.96l-1.37-1.37c-.4-.4-.92-.59-1.43-.59-.52 0-1.04.2-1.43.59L10.3 9.45l-7.72 7.72c-.78.78-.78 2.05 0 2.83L4 21.41c.39.39.9.59 1.41.59.51 0 1.02-.2 1.41-.59l7.78-7.78 2.81-2.81c.8-.78.8-2.07 0-2.86zM5.41 20L4 18.59l7.72-7.72 1.47 1.35L5.41 20z\"/>\n",
       "  </svg>\n",
       "      </button>\n",
       "      \n",
       "  <style>\n",
       "    .colab-df-container {\n",
       "      display:flex;\n",
       "      flex-wrap:wrap;\n",
       "      gap: 12px;\n",
       "    }\n",
       "\n",
       "    .colab-df-convert {\n",
       "      background-color: #E8F0FE;\n",
       "      border: none;\n",
       "      border-radius: 50%;\n",
       "      cursor: pointer;\n",
       "      display: none;\n",
       "      fill: #1967D2;\n",
       "      height: 32px;\n",
       "      padding: 0 0 0 0;\n",
       "      width: 32px;\n",
       "    }\n",
       "\n",
       "    .colab-df-convert:hover {\n",
       "      background-color: #E2EBFA;\n",
       "      box-shadow: 0px 1px 2px rgba(60, 64, 67, 0.3), 0px 1px 3px 1px rgba(60, 64, 67, 0.15);\n",
       "      fill: #174EA6;\n",
       "    }\n",
       "\n",
       "    [theme=dark] .colab-df-convert {\n",
       "      background-color: #3B4455;\n",
       "      fill: #D2E3FC;\n",
       "    }\n",
       "\n",
       "    [theme=dark] .colab-df-convert:hover {\n",
       "      background-color: #434B5C;\n",
       "      box-shadow: 0px 1px 3px 1px rgba(0, 0, 0, 0.15);\n",
       "      filter: drop-shadow(0px 1px 2px rgba(0, 0, 0, 0.3));\n",
       "      fill: #FFFFFF;\n",
       "    }\n",
       "  </style>\n",
       "\n",
       "      <script>\n",
       "        const buttonEl =\n",
       "          document.querySelector('#df-cf21f6b2-5d57-4cfe-9bd9-d3f4f91f2cfe button.colab-df-convert');\n",
       "        buttonEl.style.display =\n",
       "          google.colab.kernel.accessAllowed ? 'block' : 'none';\n",
       "\n",
       "        async function convertToInteractive(key) {\n",
       "          const element = document.querySelector('#df-cf21f6b2-5d57-4cfe-9bd9-d3f4f91f2cfe');\n",
       "          const dataTable =\n",
       "            await google.colab.kernel.invokeFunction('convertToInteractive',\n",
       "                                                     [key], {});\n",
       "          if (!dataTable) return;\n",
       "\n",
       "          const docLinkHtml = 'Like what you see? Visit the ' +\n",
       "            '<a target=\"_blank\" href=https://colab.research.google.com/notebooks/data_table.ipynb>data table notebook</a>'\n",
       "            + ' to learn more about interactive tables.';\n",
       "          element.innerHTML = '';\n",
       "          dataTable['output_type'] = 'display_data';\n",
       "          await google.colab.output.renderOutput(dataTable, element);\n",
       "          const docLink = document.createElement('div');\n",
       "          docLink.innerHTML = docLinkHtml;\n",
       "          element.appendChild(docLink);\n",
       "        }\n",
       "      </script>\n",
       "    </div>\n",
       "  </div>\n",
       "  "
      ],
      "text/plain": [
       "                 ser       img     concr\n",
       "rush        0.438121  0.522701  0.509134\n",
       "transcript  0.276047  0.607741  0.785303\n",
       "copy        0.256791  0.655190  0.773511\n",
       "may         0.292725  0.432765  0.425876\n",
       "final       0.349879  0.546163  0.350708"
      ]
     },
     "execution_count": 162,
     "metadata": {},
     "output_type": "execute_result"
    }
   ],
   "source": [
    "df.head()"
   ]
  },
  {
   "cell_type": "code",
   "execution_count": 163,
   "metadata": {},
   "outputs": [],
   "source": [
    "def print_lowest_highest(df, feature, n=10):\n",
    "    print('Lowest:')\n",
    "    print(df.sort_values(feature)[:n][feature])\n",
    "    print('Highest:')\n",
    "    print(df.sort_values(feature, ascending=False)[:n][feature])"
   ]
  },
  {
   "cell_type": "code",
   "execution_count": 164,
   "metadata": {},
   "outputs": [
    {
     "name": "stdout",
     "output_type": "stream",
     "text": [
      "Lowest:\n",
      "yet       -0.026684\n",
      "et         0.009462\n",
      "since      0.011650\n",
      "puts       0.012203\n",
      "thus       0.014405\n",
      "put        0.016692\n",
      "exactly    0.020111\n",
      "way        0.021824\n",
      "part       0.024008\n",
      "would      0.025337\n",
      "Name: ser, dtype: float64\n",
      "Highest:\n",
      "water        0.998184\n",
      "winter       0.983266\n",
      "music        0.948102\n",
      "river        0.940014\n",
      "ocean        0.911884\n",
      "rapids       0.880970\n",
      "dragon       0.880138\n",
      "rotten       0.879988\n",
      "lightning    0.864573\n",
      "tiger        0.857666\n",
      "Name: ser, dtype: float64\n"
     ]
    }
   ],
   "source": [
    "print_lowest_highest(df, 'ser')"
   ]
  },
  {
   "cell_type": "code",
   "execution_count": 165,
   "metadata": {},
   "outputs": [
    {
     "name": "stdout",
     "output_type": "stream",
     "text": [
      "Lowest:\n",
      "ismaaiyl    0.094362\n",
      "zeya        0.097017\n",
      "fadiman     0.116099\n",
      "could       0.120124\n",
      "adnani      0.129697\n",
      "farhad      0.131669\n",
      "else        0.134640\n",
      "rehm        0.135384\n",
      "probably    0.140623\n",
      "exactly     0.142518\n",
      "Name: img, dtype: float64\n",
      "Highest:\n",
      "sunshine    0.985232\n",
      "father      0.981055\n",
      "sunset      0.980327\n",
      "beach       0.978376\n",
      "sun         0.976522\n",
      "mother      0.974842\n",
      "winter      0.974217\n",
      "lake        0.974084\n",
      "summer      0.972648\n",
      "car         0.966286\n",
      "Name: img, dtype: float64\n"
     ]
    }
   ],
   "source": [
    "print_lowest_highest(df, 'img')"
   ]
  },
  {
   "cell_type": "code",
   "execution_count": 166,
   "metadata": {},
   "outputs": [
    {
     "name": "stdout",
     "output_type": "stream",
     "text": [
      "Lowest:\n",
      "although    0.066866\n",
      "thus        0.068167\n",
      "whenever    0.076857\n",
      "though      0.080742\n",
      "wherever    0.093482\n",
      "since       0.113371\n",
      "someday     0.115476\n",
      "whatever    0.116226\n",
      "whose       0.117127\n",
      "anyway      0.118002\n",
      "Name: concr, dtype: float64\n",
      "Highest:\n",
      "shoe           1.024361\n",
      "gun            1.023046\n",
      "knife          1.022977\n",
      "nails          1.018435\n",
      "finger         1.017980\n",
      "fingers        1.017658\n",
      "nose           1.017338\n",
      "sword          1.016938\n",
      "fingernails    1.016718\n",
      "spider         1.016492\n",
      "Name: concr, dtype: float64\n"
     ]
    }
   ],
   "source": [
    "print_lowest_highest(df, 'concr')"
   ]
  },
  {
   "cell_type": "code",
   "execution_count": 167,
   "metadata": {},
   "outputs": [],
   "source": [
    "def map_median_scores(example):\n",
    "    for key in keys:\n",
    "        example[key+'_ser_median'] = np.median(example[key+'_ser_scores'])\n",
    "        example[key+'_img_median'] = np.median(example[key+'_img_scores'])\n",
    "        example[key+'_concr_median'] = np.median(example[key+'_concr_scores'])\n",
    "\n",
    "    return example"
   ]
  },
  {
   "cell_type": "code",
   "execution_count": 168,
   "metadata": {},
   "outputs": [
    {
     "data": {
      "application/vnd.jupyter.widget-view+json": {
       "model_id": "baf57add53024416a443fd792df4aeaa",
       "version_major": 2,
       "version_minor": 0
      },
      "text/plain": [
       "Map:   0%|          | 0/190 [00:00<?, ? examples/s]"
      ]
     },
     "metadata": {},
     "output_type": "display_data"
    }
   ],
   "source": [
    "ds_median_scores = ds_scores.map(map_median_scores)"
   ]
  },
  {
   "cell_type": "code",
   "execution_count": 169,
   "metadata": {},
   "outputs": [
    {
     "name": "stdout",
     "output_type": "stream",
     "text": [
      "(8.954146881762611, 7.812824626592677e-06)\n",
      "(6.627367579131862, 0.00020172525172357182)\n",
      "(11.15433761530528, 3.609784771627332e-07)\n"
     ]
    }
   ],
   "source": [
    "print(anova(ds_median_scores, 'ser', 'median'))\n",
    "print(anova(ds_median_scores, 'img', 'median'))\n",
    "print(anova(ds_median_scores, 'concr', 'median'))"
   ]
  },
  {
   "cell_type": "code",
   "execution_count": 170,
   "metadata": {},
   "outputs": [
    {
     "data": {
      "image/png": "[encoded data removed]",
      "text/plain": [
       "<Figure size 800x600 with 1 Axes>"
      ]
     },
     "metadata": {},
     "output_type": "display_data"
    }
   ],
   "source": [
    "box_plot(ds_median_scores, 'ser', 'median', 'Sensory Modality (Median)')"
   ]
  },
  {
   "cell_type": "code",
   "execution_count": 171,
   "metadata": {},
   "outputs": [
    {
     "data": {
      "image/png": "[encoded data removed]",
      "text/plain": [
       "<Figure size 800x600 with 1 Axes>"
      ]
     },
     "metadata": {},
     "output_type": "display_data"
    }
   ],
   "source": [
    "box_plot(ds_median_scores, 'img', 'median', 'Imageability (Median)')"
   ]
  },
  {
   "cell_type": "code",
   "execution_count": 172,
   "metadata": {},
   "outputs": [
    {
     "data": {
      "image/png": "[encoded data removed]",
      "text/plain": [
       "<Figure size 800x600 with 1 Axes>"
      ]
     },
     "metadata": {},
     "output_type": "display_data"
    }
   ],
   "source": [
    "box_plot(ds_median_scores, 'concr', 'median', 'Concreteness (Median)')"
   ]
  }
 ],
 "metadata": {
  "kernelspec": {
   "display_name": "Python 3",
   "language": "python",
   "name": "python3"
  },
  "orig_nbformat": 4
 },
 "nbformat": 4,
 "nbformat_minor": 2
}
