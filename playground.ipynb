{
 "cells": [
  {
   "cell_type": "code",
   "execution_count": 1,
   "metadata": {},
   "outputs": [
    {
     "name": "stdout",
     "output_type": "stream",
     "text": [
      "\u001b[2K     \u001b[90m━━━━━━━━━━━━━━━━━━━━━━━━━━━━━━━━━━━━━━\u001b[0m \u001b[32m468.7/468.7 kB\u001b[0m \u001b[31m18.3 MB/s\u001b[0m eta \u001b[36m0:00:00\u001b[0m\n",
      "\u001b[2K     \u001b[90m━━━━━━━━━━━━━━━━━━━━━━━━━━━━━━━━━━━━━━\u001b[0m \u001b[32m110.5/110.5 kB\u001b[0m \u001b[31m12.3 MB/s\u001b[0m eta \u001b[36m0:00:00\u001b[0m\n",
      "\u001b[2K     \u001b[90m━━━━━━━━━━━━━━━━━━━━━━━━━━━━━━━━━━━━━━\u001b[0m \u001b[32m132.9/132.9 kB\u001b[0m \u001b[31m13.8 MB/s\u001b[0m eta \u001b[36m0:00:00\u001b[0m\n",
      "\u001b[2K     \u001b[90m━━━━━━━━━━━━━━━━━━━━━━━━━━━━━━━━━━━━━━━━\u001b[0m \u001b[32m1.0/1.0 MB\u001b[0m \u001b[31m69.0 MB/s\u001b[0m eta \u001b[36m0:00:00\u001b[0m\n",
      "\u001b[2K     \u001b[90m━━━━━━━━━━━━━━━━━━━━━━━━━━━━━━━━━━━━━━\u001b[0m \u001b[32m212.2/212.2 kB\u001b[0m \u001b[31m23.0 MB/s\u001b[0m eta \u001b[36m0:00:00\u001b[0m\n",
      "\u001b[2K     \u001b[90m━━━━━━━━━━━━━━━━━━━━━━━━━━━━━━━━━━━━━━\u001b[0m \u001b[32m200.1/200.1 kB\u001b[0m \u001b[31m24.7 MB/s\u001b[0m eta \u001b[36m0:00:00\u001b[0m\n",
      "\u001b[2K     \u001b[90m━━━━━━━━━━━━━━━━━━━━━━━━━━━━━━━━━━━━━━\u001b[0m \u001b[32m158.8/158.8 kB\u001b[0m \u001b[31m18.3 MB/s\u001b[0m eta \u001b[36m0:00:00\u001b[0m\n",
      "\u001b[2K     \u001b[90m━━━━━━━━━━━━━━━━━━━━━━━━━━━━━━━━━━━━━━\u001b[0m \u001b[32m114.2/114.2 kB\u001b[0m \u001b[31m12.3 MB/s\u001b[0m eta \u001b[36m0:00:00\u001b[0m\n",
      "\u001b[2K     \u001b[90m━━━━━━━━━━━━━━━━━━━━━━━━━━━━━━━━━━━━━━\u001b[0m \u001b[32m264.6/264.6 kB\u001b[0m \u001b[31m24.6 MB/s\u001b[0m eta \u001b[36m0:00:00\u001b[0m\n",
      "\u001b[?25h"
     ]
    }
   ],
   "source": [
    "%pip install datasets -q"
   ]
  },
  {
   "cell_type": "code",
   "execution_count": 3,
   "metadata": {},
   "outputs": [
    {
     "data": {
      "application/vnd.jupyter.widget-view+json": {
       "model_id": "bdf415154c8540b4a99aa80cab419788",
       "version_major": 2,
       "version_minor": 0
      },
      "text/plain": [
       "Downloading readme:   0%|          | 0.00/131 [00:00<?, ?B/s]"
      ]
     },
     "metadata": {},
     "output_type": "display_data"
    },
    {
     "name": "stdout",
     "output_type": "stream",
     "text": [
      "Downloading and preparing dataset json/martingrzzler--mnemonics_benchmark to /root/.cache/huggingface/datasets/martingrzzler___json/martingrzzler--mnemonics_benchmark-6cc75b71b93e3c15/0.0.0/fe5dd6ea2639a6df622901539cb550cf8797e5a6b2dd7af1cf934bed8e233e6e...\n"
     ]
    },
    {
     "data": {
      "application/vnd.jupyter.widget-view+json": {
       "model_id": "7176952d94e640a09981bc6cd2fc67dc",
       "version_major": 2,
       "version_minor": 0
      },
      "text/plain": [
       "Downloading data files:   0%|          | 0/1 [00:00<?, ?it/s]"
      ]
     },
     "metadata": {},
     "output_type": "display_data"
    },
    {
     "data": {
      "application/vnd.jupyter.widget-view+json": {
       "model_id": "4c7374014b39453bb6750ecb003fa049",
       "version_major": 2,
       "version_minor": 0
      },
      "text/plain": [
       "Downloading data:   0%|          | 0.00/274k [00:00<?, ?B/s]"
      ]
     },
     "metadata": {},
     "output_type": "display_data"
    },
    {
     "data": {
      "application/vnd.jupyter.widget-view+json": {
       "model_id": "643fd9bff88f403eb3b23090a2dc76d6",
       "version_major": 2,
       "version_minor": 0
      },
      "text/plain": [
       "Extracting data files:   0%|          | 0/1 [00:00<?, ?it/s]"
      ]
     },
     "metadata": {},
     "output_type": "display_data"
    },
    {
     "data": {
      "application/vnd.jupyter.widget-view+json": {
       "model_id": "ef780d737839451d98bc10affc99e78e",
       "version_major": 2,
       "version_minor": 0
      },
      "text/plain": [
       "Generating train split: 0 examples [00:00, ? examples/s]"
      ]
     },
     "metadata": {},
     "output_type": "display_data"
    },
    {
     "name": "stdout",
     "output_type": "stream",
     "text": [
      "Dataset json downloaded and prepared to /root/.cache/huggingface/datasets/martingrzzler___json/martingrzzler--mnemonics_benchmark-6cc75b71b93e3c15/0.0.0/fe5dd6ea2639a6df622901539cb550cf8797e5a6b2dd7af1cf934bed8e233e6e. Subsequent calls will reuse this data.\n"
     ]
    },
    {
     "data": {
      "application/vnd.jupyter.widget-view+json": {
       "model_id": "7b0a06e361484ad4a0a3082f43311cdb",
       "version_major": 2,
       "version_minor": 0
      },
      "text/plain": [
       "  0%|          | 0/1 [00:00<?, ?it/s]"
      ]
     },
     "metadata": {},
     "output_type": "display_data"
    }
   ],
   "source": [
    "from datasets import load_dataset\n",
    "\n",
    "ds = load_dataset('martingrzzler/mnemonics_benchmark')"
   ]
  },
  {
   "cell_type": "code",
   "execution_count": 14,
   "metadata": {},
   "outputs": [
    {
     "name": "stdout",
     "output_type": "stream",
     "text": [
      "Kanji meaning:  peach\n",
      "Component meanings:  tree,omen\n",
      "Wanikani:  The <radical>tree</radical> has an <radical>omen</radical> growing from it, one single <kanji>peach</kanji> that is the size of a house. Inside is a child who will save the village from demons. Of course, this tree omen of a <kanji>peach</kanji> refers to momotaro, the little boy who was born from a peach (you should look it up if you don't know this children's story).\n",
      "GPT-2:  This is a omen of things to come. The peach tree (Prunus persica) has long been used as an ornamental plant in the United States, but now it's being targeted for destruction by urban sprawl and invasive species like Asian longhorned beetles that have infested its branches with fruit-destroying fungal diseases\n",
      "GPT-3 Paragraph: The old tree was an omen of good fortune, as it bore an abundance of ripe peaches. The sweet smell of the peaches filled the air, and the people rejoiced at the sight of the tree's bounty.\n",
      "GPT-3 Mnemonic: Once upon a time, there was a wise old tree that was said to have the power to give omens. One day, a young traveler came upon the tree and found a peach growing from its branches. The traveler took the peach as a sign of good luck, and it was said that the tree's omen had come true.\n"
     ]
    }
   ],
   "source": [
    "import numpy as np\n",
    "sampleIdx = np.random.randint(0, len(ds['train']))\n",
    "\n",
    "print('Kanji meaning: ', ds['train'][sampleIdx]['kanji_meaning'])\n",
    "print('Component meanings: ', ds['train'][sampleIdx]['component_meanings'])\n",
    "\n",
    "print('Wanikani: ', ds['train'][sampleIdx]['wanikani_mnemonic'])\n",
    "print('GPT-2: ', ds['train'][sampleIdx]['gpt2xl_mnemonic'])\n",
    "print('GPT-3 Paragraph:', ds['train'][sampleIdx]['gpt3_paragraph'])\n",
    "print('GPT-3 Mnemonic:', ds['train'][sampleIdx]['gpt3_mnemonic'])"
   ]
  },
  {
   "cell_type": "code",
   "execution_count": 21,
   "metadata": {},
   "outputs": [
    {
     "name": "stdout",
     "output_type": "stream",
     "text": [
      "Kanji meaning:  doubt\n",
      "Component meanings:  spoon,mama,arrow,coat rack\n",
      "Wanikani:  When you get home from school, your <radical>mama</radical> says to hang your <radical>spoon</radical>s and <radical>arrow</radical>s on the <radical>coat rack</radical>. That doesn't sound like something your mama would say, and you begin to <kanji>doubt</kanji> that she's your mama at all! She usually takes them and washes them in the sink. You doubt you could hang them on the coat rack even if you tried. Your mama is acting weird. You doubt she's really your mama. What are you going to do?\n",
      "GPT-2:  \"I'm mama's boy, and coat rack is my man spoon.\" ― doubt arrow [src]\n",
      "\n",
      "\n",
      "Doubt Arrow was a Force-sensitive male Twi'lek Jedi Master who lived during the Clone Wars. He served as an instructor to Padawan Ahsoka Tano on Coruscant in 22 BBY.[\n",
      "GPT-3 Paragraph: Mama was stirring the pot with her spoon, her eyes on the arrow that was hanging from the coat rack. She had no doubt that it would bring her luck.\n",
      "GPT-3 Mnemonic: Once upon a time, Mama had a doubt about where she had placed her spoon. She searched high and low, even looking behind the coat rack, but still couldn't find it. Suddenly, an arrow on the wall caught her eye, pointing to the spoon that had been hiding in plain sight all along. Mama smiled, relieved that her spoon had been found.\n"
     ]
    }
   ],
   "source": [
    "import numpy as np\n",
    "sampleIdx = np.random.randint(0, len(ds['train']))\n",
    "\n",
    "print('Kanji meaning: ', ds['train'][sampleIdx]['kanji_meaning'])\n",
    "print('Component meanings: ', ds['train'][sampleIdx]['component_meanings'])\n",
    "\n",
    "print('Wanikani: ', ds['train'][sampleIdx]['wanikani_mnemonic'])\n",
    "print('GPT-2: ', ds['train'][sampleIdx]['gpt2xl_mnemonic'])\n",
    "print('GPT-3 Paragraph:', ds['train'][sampleIdx]['gpt3_paragraph'])\n",
    "print('GPT-3 Mnemonic:', ds['train'][sampleIdx]['gpt3_mnemonic'])"
   ]
  },
  {
   "cell_type": "code",
   "execution_count": 23,
   "metadata": {},
   "outputs": [
    {
     "name": "stdout",
     "output_type": "stream",
     "text": [
      "Kanji meaning:  planting\n",
      "Component meanings:  plow,drunkard\n",
      "Wanikani:  A <radical>drunkard</radical> gets his hands on a <radical>plow</radical> and starts <kanji>planting</kanji> right away. Drunk people are surprisingly good at planting, especially when they have machines to help them do it. Picture a drunk guy laughing and plowing a field and planting seeds. He wouldn't do this if he was sober, but drunk people can't help themselves.\n",
      "GPT-2:  This is a plow drunkard's guide to planting trees in your yard. If you don't know what I'm talking about, check out my previous post on the subject: How To Plant A Tree In Your Backyard (And Why You Should Do It). This time we'll be looking at different types of tree species and how they can\n",
      "GPT-3 Paragraph: The drunkard stumbled out of the bar and made his way to the nearby farm, where he began to plow the fields for the upcoming planting season. He worked tirelessly for hours, his mind foggy with alcohol, until the fields were ready for the planting.\n",
      "GPT-3 Mnemonic: Once upon a time, there was a drunkard who stumbled into a field with a plow in hand. He decided to plant some seeds he had found in his pocket, and with a few clumsy swipes of the plow, he was able to make some furrows in the field. With a satisfied smile, he watched as the seeds he planted took root.\n"
     ]
    }
   ],
   "source": [
    "import numpy as np\n",
    "sampleIdx = np.random.randint(0, len(ds['train']))\n",
    "\n",
    "print('Kanji meaning: ', ds['train'][sampleIdx]['kanji_meaning'])\n",
    "print('Component meanings: ', ds['train'][sampleIdx]['component_meanings'])\n",
    "\n",
    "print('Wanikani: ', ds['train'][sampleIdx]['wanikani_mnemonic'])\n",
    "print('GPT-2: ', ds['train'][sampleIdx]['gpt2xl_mnemonic'])\n",
    "print('GPT-3 Paragraph:', ds['train'][sampleIdx]['gpt3_paragraph'])\n",
    "print('GPT-3 Mnemonic:', ds['train'][sampleIdx]['gpt3_mnemonic'])"
   ]
  },
  {
   "cell_type": "code",
   "execution_count": 26,
   "metadata": {},
   "outputs": [
    {
     "data": {
      "text/plain": [
       "760"
      ]
     },
     "execution_count": 26,
     "metadata": {},
     "output_type": "execute_result"
    }
   ],
   "source": [
    "ds.num_rows['train'] * 4"
   ]
  }
 ],
 "metadata": {
  "kernelspec": {
   "display_name": "Python 3",
   "language": "python",
   "name": "python3"
  },
  "language_info": {
   "codemirror_mode": {
    "name": "ipython",
    "version": 3
   },
   "file_extension": ".py",
   "mimetype": "text/x-python",
   "name": "python",
   "nbconvert_exporter": "python",
   "pygments_lexer": "ipython3",
   "version": "3.9.16"
  },
  "orig_nbformat": 4
 },
 "nbformat": 4,
 "nbformat_minor": 2
}
