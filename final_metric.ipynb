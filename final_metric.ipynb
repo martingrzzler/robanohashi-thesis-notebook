{
 "cells": [
  {
   "cell_type": "code",
   "execution_count": 1,
   "metadata": {},
   "outputs": [
    {
     "name": "stdout",
     "output_type": "stream",
     "text": [
      "\u001b[2K     \u001b[90m━━━━━━━━━━━━━━━━━━━━━━━━━━━━━━━━━━━━━━\u001b[0m \u001b[32m468.7/468.7 kB\u001b[0m \u001b[31m21.6 MB/s\u001b[0m eta \u001b[36m0:00:00\u001b[0m\n",
      "\u001b[2K     \u001b[90m━━━━━━━━━━━━━━━━━━━━━━━━━━━━━━━━━━━━━━━━\u001b[0m \u001b[32m7.0/7.0 MB\u001b[0m \u001b[31m71.0 MB/s\u001b[0m eta \u001b[36m0:00:00\u001b[0m:00:01\u001b[0m00:01\u001b[0m\n",
      "\u001b[2K     \u001b[90m━━━━━━━━━━━━━━━━━━━━━━━━━━━━━━━━━━━━━━━━\u001b[0m \u001b[32m1.0/1.0 MB\u001b[0m \u001b[31m50.6 MB/s\u001b[0m eta \u001b[36m0:00:00\u001b[0m\n",
      "\u001b[2K     \u001b[90m━━━━━━━━━━━━━━━━━━━━━━━━━━━━━━━━━━━━━━\u001b[0m \u001b[32m200.1/200.1 kB\u001b[0m \u001b[31m22.5 MB/s\u001b[0m eta \u001b[36m0:00:00\u001b[0m\n",
      "\u001b[2K     \u001b[90m━━━━━━━━━━━━━━━━━━━━━━━━━━━━━━━━━━━━━━\u001b[0m \u001b[32m132.9/132.9 kB\u001b[0m \u001b[31m14.2 MB/s\u001b[0m eta \u001b[36m0:00:00\u001b[0m\n",
      "\u001b[2K     \u001b[90m━━━━━━━━━━━━━━━━━━━━━━━━━━━━━━━━━━━━━━\u001b[0m \u001b[32m110.5/110.5 kB\u001b[0m \u001b[31m11.2 MB/s\u001b[0m eta \u001b[36m0:00:00\u001b[0m\n",
      "\u001b[2K     \u001b[90m━━━━━━━━━━━━━━━━━━━━━━━━━━━━━━━━━━━━━━\u001b[0m \u001b[32m212.2/212.2 kB\u001b[0m \u001b[31m24.2 MB/s\u001b[0m eta \u001b[36m0:00:00\u001b[0m\n",
      "\u001b[2K     \u001b[90m━━━━━━━━━━━━━━━━━━━━━━━━━━━━━━━━━━━━━━━━\u001b[0m \u001b[32m7.8/7.8 MB\u001b[0m \u001b[31m103.1 MB/s\u001b[0m eta \u001b[36m0:00:00\u001b[0m00:01\u001b[0m00:01\u001b[0m\n",
      "\u001b[2K     \u001b[90m━━━━━━━━━━━━━━━━━━━━━━━━━━━━━━━━━━━━━━\u001b[0m \u001b[32m114.2/114.2 kB\u001b[0m \u001b[31m15.9 MB/s\u001b[0m eta \u001b[36m0:00:00\u001b[0m\n",
      "\u001b[2K     \u001b[90m━━━━━━━━━━━━━━━━━━━━━━━━━━━━━━━━━━━━━━\u001b[0m \u001b[32m264.6/264.6 kB\u001b[0m \u001b[31m34.4 MB/s\u001b[0m eta \u001b[36m0:00:00\u001b[0m\n",
      "\u001b[2K     \u001b[90m━━━━━━━━━━━━━━━━━━━━━━━━━━━━━━━━━━━━━━\u001b[0m \u001b[32m158.8/158.8 kB\u001b[0m \u001b[31m23.0 MB/s\u001b[0m eta \u001b[36m0:00:00\u001b[0m\n",
      "\u001b[?25h"
     ]
    }
   ],
   "source": [
    "%pip install -q datasets transformers"
   ]
  },
  {
   "cell_type": "code",
   "execution_count": 2,
   "metadata": {},
   "outputs": [
    {
     "data": {
      "application/vnd.jupyter.widget-view+json": {
       "model_id": "b069e667e4e54c0e9bf349cbdae5916c",
       "version_major": 2,
       "version_minor": 0
      },
      "text/plain": [
       "Downloading readme:   0%|          | 0.00/131 [00:00<?, ?B/s]"
      ]
     },
     "metadata": {},
     "output_type": "display_data"
    },
    {
     "name": "stdout",
     "output_type": "stream",
     "text": [
      "Downloading and preparing dataset json/martingrzzler--mnemonics_benchmark to /root/.cache/huggingface/datasets/martingrzzler___json/martingrzzler--mnemonics_benchmark-6cc75b71b93e3c15/0.0.0/fe5dd6ea2639a6df622901539cb550cf8797e5a6b2dd7af1cf934bed8e233e6e...\n"
     ]
    },
    {
     "data": {
      "application/vnd.jupyter.widget-view+json": {
       "model_id": "20477bf3616b4ee399ca09dbed005ac9",
       "version_major": 2,
       "version_minor": 0
      },
      "text/plain": [
       "Downloading data files:   0%|          | 0/1 [00:00<?, ?it/s]"
      ]
     },
     "metadata": {},
     "output_type": "display_data"
    },
    {
     "data": {
      "application/vnd.jupyter.widget-view+json": {
       "model_id": "45ea1cda5d7b442baadfb84b55787984",
       "version_major": 2,
       "version_minor": 0
      },
      "text/plain": [
       "Downloading data:   0%|          | 0.00/274k [00:00<?, ?B/s]"
      ]
     },
     "metadata": {},
     "output_type": "display_data"
    },
    {
     "data": {
      "application/vnd.jupyter.widget-view+json": {
       "model_id": "9afee14f684b42f990d59fd596d6b4e3",
       "version_major": 2,
       "version_minor": 0
      },
      "text/plain": [
       "Extracting data files:   0%|          | 0/1 [00:00<?, ?it/s]"
      ]
     },
     "metadata": {},
     "output_type": "display_data"
    },
    {
     "data": {
      "application/vnd.jupyter.widget-view+json": {
       "model_id": "2b127bd2c74d43e09bf1906f507fbd50",
       "version_major": 2,
       "version_minor": 0
      },
      "text/plain": [
       "Generating train split: 0 examples [00:00, ? examples/s]"
      ]
     },
     "metadata": {},
     "output_type": "display_data"
    },
    {
     "name": "stdout",
     "output_type": "stream",
     "text": [
      "Dataset json downloaded and prepared to /root/.cache/huggingface/datasets/martingrzzler___json/martingrzzler--mnemonics_benchmark-6cc75b71b93e3c15/0.0.0/fe5dd6ea2639a6df622901539cb550cf8797e5a6b2dd7af1cf934bed8e233e6e. Subsequent calls will reuse this data.\n"
     ]
    },
    {
     "data": {
      "application/vnd.jupyter.widget-view+json": {
       "model_id": "e2c2a14994da488ba644f3457f48089b",
       "version_major": 2,
       "version_minor": 0
      },
      "text/plain": [
       "  0%|          | 0/1 [00:00<?, ?it/s]"
      ]
     },
     "metadata": {},
     "output_type": "display_data"
    }
   ],
   "source": [
    "from datasets import load_dataset\n",
    "\n",
    "ds = load_dataset('martingrzzler/mnemonics_benchmark')"
   ]
  },
  {
   "cell_type": "code",
   "execution_count": 3,
   "metadata": {},
   "outputs": [
    {
     "name": "stdout",
     "output_type": "stream",
     "text": [
      "Looking in indexes: https://pypi.org/simple, https://us-python.pkg.dev/colab-wheels/public/simple/\n",
      "Collecting git+https://github.com/boudinfl/pke.git\n",
      "  Cloning https://github.com/boudinfl/pke.git to /tmp/pip-req-build-nxz2o0go\n",
      "  Running command git clone --filter=blob:none --quiet https://github.com/boudinfl/pke.git /tmp/pip-req-build-nxz2o0go\n",
      "  Resolved https://github.com/boudinfl/pke.git to commit f2d4f5d2252c64d23defccd32fdac8809cfd7ce0\n",
      "  Preparing metadata (setup.py) ... \u001b[?25l\u001b[?25hdone\n",
      "Requirement already satisfied: nltk in /usr/local/lib/python3.9/dist-packages (from pke==2.0.0) (3.8.1)\n",
      "Requirement already satisfied: networkx in /usr/local/lib/python3.9/dist-packages (from pke==2.0.0) (3.1)\n",
      "Requirement already satisfied: numpy in /usr/local/lib/python3.9/dist-packages (from pke==2.0.0) (1.22.4)\n",
      "Requirement already satisfied: scipy in /usr/local/lib/python3.9/dist-packages (from pke==2.0.0) (1.10.1)\n",
      "Requirement already satisfied: scikit-learn in /usr/local/lib/python3.9/dist-packages (from pke==2.0.0) (1.2.2)\n",
      "Collecting unidecode\n",
      "  Downloading Unidecode-1.3.6-py3-none-any.whl (235 kB)\n",
      "\u001b[2K     \u001b[90m━━━━━━━━━━━━━━━━━━━━━━━━━━━━━━━━━━━━━━\u001b[0m \u001b[32m235.9/235.9 kB\u001b[0m \u001b[31m21.7 MB/s\u001b[0m eta \u001b[36m0:00:00\u001b[0m\n",
      "\u001b[?25hRequirement already satisfied: future in /usr/local/lib/python3.9/dist-packages (from pke==2.0.0) (0.18.3)\n",
      "Requirement already satisfied: joblib in /usr/local/lib/python3.9/dist-packages (from pke==2.0.0) (1.2.0)\n",
      "Requirement already satisfied: spacy>=3.2.3 in /usr/local/lib/python3.9/dist-packages (from pke==2.0.0) (3.5.1)\n",
      "Requirement already satisfied: catalogue<2.1.0,>=2.0.6 in /usr/local/lib/python3.9/dist-packages (from spacy>=3.2.3->pke==2.0.0) (2.0.8)\n",
      "Requirement already satisfied: spacy-legacy<3.1.0,>=3.0.11 in /usr/local/lib/python3.9/dist-packages (from spacy>=3.2.3->pke==2.0.0) (3.0.12)\n",
      "Requirement already satisfied: langcodes<4.0.0,>=3.2.0 in /usr/local/lib/python3.9/dist-packages (from spacy>=3.2.3->pke==2.0.0) (3.3.0)\n",
      "Requirement already satisfied: setuptools in /usr/local/lib/python3.9/dist-packages (from spacy>=3.2.3->pke==2.0.0) (67.6.1)\n",
      "Requirement already satisfied: preshed<3.1.0,>=3.0.2 in /usr/local/lib/python3.9/dist-packages (from spacy>=3.2.3->pke==2.0.0) (3.0.8)\n",
      "Requirement already satisfied: tqdm<5.0.0,>=4.38.0 in /usr/local/lib/python3.9/dist-packages (from spacy>=3.2.3->pke==2.0.0) (4.65.0)\n",
      "Requirement already satisfied: murmurhash<1.1.0,>=0.28.0 in /usr/local/lib/python3.9/dist-packages (from spacy>=3.2.3->pke==2.0.0) (1.0.9)\n",
      "Requirement already satisfied: wasabi<1.2.0,>=0.9.1 in /usr/local/lib/python3.9/dist-packages (from spacy>=3.2.3->pke==2.0.0) (1.1.1)\n",
      "Requirement already satisfied: srsly<3.0.0,>=2.4.3 in /usr/local/lib/python3.9/dist-packages (from spacy>=3.2.3->pke==2.0.0) (2.4.6)\n",
      "Requirement already satisfied: requests<3.0.0,>=2.13.0 in /usr/local/lib/python3.9/dist-packages (from spacy>=3.2.3->pke==2.0.0) (2.27.1)\n",
      "Requirement already satisfied: cymem<2.1.0,>=2.0.2 in /usr/local/lib/python3.9/dist-packages (from spacy>=3.2.3->pke==2.0.0) (2.0.7)\n",
      "Requirement already satisfied: packaging>=20.0 in /usr/local/lib/python3.9/dist-packages (from spacy>=3.2.3->pke==2.0.0) (23.0)\n",
      "Requirement already satisfied: jinja2 in /usr/local/lib/python3.9/dist-packages (from spacy>=3.2.3->pke==2.0.0) (3.1.2)\n",
      "Requirement already satisfied: typer<0.8.0,>=0.3.0 in /usr/local/lib/python3.9/dist-packages (from spacy>=3.2.3->pke==2.0.0) (0.7.0)\n",
      "Requirement already satisfied: smart-open<7.0.0,>=5.2.1 in /usr/local/lib/python3.9/dist-packages (from spacy>=3.2.3->pke==2.0.0) (6.3.0)\n",
      "Requirement already satisfied: pathy>=0.10.0 in /usr/local/lib/python3.9/dist-packages (from spacy>=3.2.3->pke==2.0.0) (0.10.1)\n",
      "Requirement already satisfied: thinc<8.2.0,>=8.1.8 in /usr/local/lib/python3.9/dist-packages (from spacy>=3.2.3->pke==2.0.0) (8.1.9)\n",
      "Requirement already satisfied: pydantic!=1.8,!=1.8.1,<1.11.0,>=1.7.4 in /usr/local/lib/python3.9/dist-packages (from spacy>=3.2.3->pke==2.0.0) (1.10.7)\n",
      "Requirement already satisfied: spacy-loggers<2.0.0,>=1.0.0 in /usr/local/lib/python3.9/dist-packages (from spacy>=3.2.3->pke==2.0.0) (1.0.4)\n",
      "Requirement already satisfied: regex>=2021.8.3 in /usr/local/lib/python3.9/dist-packages (from nltk->pke==2.0.0) (2022.10.31)\n",
      "Requirement already satisfied: click in /usr/local/lib/python3.9/dist-packages (from nltk->pke==2.0.0) (8.1.3)\n",
      "Requirement already satisfied: threadpoolctl>=2.0.0 in /usr/local/lib/python3.9/dist-packages (from scikit-learn->pke==2.0.0) (3.1.0)\n",
      "Requirement already satisfied: typing-extensions>=4.2.0 in /usr/local/lib/python3.9/dist-packages (from pydantic!=1.8,!=1.8.1,<1.11.0,>=1.7.4->spacy>=3.2.3->pke==2.0.0) (4.5.0)\n",
      "Requirement already satisfied: idna<4,>=2.5 in /usr/local/lib/python3.9/dist-packages (from requests<3.0.0,>=2.13.0->spacy>=3.2.3->pke==2.0.0) (3.4)\n",
      "Requirement already satisfied: urllib3<1.27,>=1.21.1 in /usr/local/lib/python3.9/dist-packages (from requests<3.0.0,>=2.13.0->spacy>=3.2.3->pke==2.0.0) (1.26.15)\n",
      "Requirement already satisfied: charset-normalizer~=2.0.0 in /usr/local/lib/python3.9/dist-packages (from requests<3.0.0,>=2.13.0->spacy>=3.2.3->pke==2.0.0) (2.0.12)\n",
      "Requirement already satisfied: certifi>=2017.4.17 in /usr/local/lib/python3.9/dist-packages (from requests<3.0.0,>=2.13.0->spacy>=3.2.3->pke==2.0.0) (2022.12.7)\n",
      "Requirement already satisfied: confection<1.0.0,>=0.0.1 in /usr/local/lib/python3.9/dist-packages (from thinc<8.2.0,>=8.1.8->spacy>=3.2.3->pke==2.0.0) (0.0.4)\n",
      "Requirement already satisfied: blis<0.8.0,>=0.7.8 in /usr/local/lib/python3.9/dist-packages (from thinc<8.2.0,>=8.1.8->spacy>=3.2.3->pke==2.0.0) (0.7.9)\n",
      "Requirement already satisfied: MarkupSafe>=2.0 in /usr/local/lib/python3.9/dist-packages (from jinja2->spacy>=3.2.3->pke==2.0.0) (2.1.2)\n",
      "Building wheels for collected packages: pke\n",
      "  Building wheel for pke (setup.py) ... \u001b[?25l\u001b[?25hdone\n",
      "  Created wheel for pke: filename=pke-2.0.0-py3-none-any.whl size=6160676 sha256=870898692bbb17afb31d3b8eaaeb63e47e26c823520b4847ad43357e98f43365\n",
      "  Stored in directory: /tmp/pip-ephem-wheel-cache-2r5afs3u/wheels/d5/46/97/85535b5b449f70b6a3c8d1138ce8587345876891e25bfe7954\n",
      "Successfully built pke\n",
      "Installing collected packages: unidecode, pke\n",
      "Successfully installed pke-2.0.0 unidecode-1.3.6\n",
      "2023-04-19 14:27:32.888034: I tensorflow/core/platform/cpu_feature_guard.cc:182] This TensorFlow binary is optimized to use available CPU instructions in performance-critical operations.\n",
      "To enable the following instructions: AVX2 AVX512F FMA, in other operations, rebuild TensorFlow with the appropriate compiler flags.\n",
      "2023-04-19 14:27:35.041283: W tensorflow/compiler/tf2tensorrt/utils/py_utils.cc:38] TF-TRT Warning: Could not find TensorRT\n",
      "2023-04-19 14:27:37.289609: I tensorflow/compiler/xla/stream_executor/cuda/cuda_gpu_executor.cc:996] successful NUMA node read from SysFS had negative value (-1), but there must be at least one NUMA node, so returning NUMA node zero. See more at https://github.com/torvalds/linux/blob/v6.0/Documentation/ABI/testing/sysfs-bus-pci#L344-L355\n",
      "2023-04-19 14:27:37.290248: I tensorflow/compiler/xla/stream_executor/cuda/cuda_gpu_executor.cc:996] successful NUMA node read from SysFS had negative value (-1), but there must be at least one NUMA node, so returning NUMA node zero. See more at https://github.com/torvalds/linux/blob/v6.0/Documentation/ABI/testing/sysfs-bus-pci#L344-L355\n",
      "2023-04-19 14:27:37.290507: I tensorflow/compiler/xla/stream_executor/cuda/cuda_gpu_executor.cc:996] successful NUMA node read from SysFS had negative value (-1), but there must be at least one NUMA node, so returning NUMA node zero. See more at https://github.com/torvalds/linux/blob/v6.0/Documentation/ABI/testing/sysfs-bus-pci#L344-L355\n",
      "Looking in indexes: https://pypi.org/simple, https://us-python.pkg.dev/colab-wheels/public/simple/\n",
      "Collecting en-core-web-sm==3.5.0\n",
      "  Downloading https://github.com/explosion/spacy-models/releases/download/en_core_web_sm-3.5.0/en_core_web_sm-3.5.0-py3-none-any.whl (12.8 MB)\n",
      "\u001b[2K     \u001b[90m━━━━━━━━━━━━━━━━━━━━━━━━━━━━━━━━━━━━━━━\u001b[0m \u001b[32m12.8/12.8 MB\u001b[0m \u001b[31m104.0 MB/s\u001b[0m eta \u001b[36m0:00:00\u001b[0m00:01\u001b[0m00:01\u001b[0m\n",
      "\u001b[?25hRequirement already satisfied: spacy<3.6.0,>=3.5.0 in /usr/local/lib/python3.9/dist-packages (from en-core-web-sm==3.5.0) (3.5.1)\n",
      "Requirement already satisfied: jinja2 in /usr/local/lib/python3.9/dist-packages (from spacy<3.6.0,>=3.5.0->en-core-web-sm==3.5.0) (3.1.2)\n",
      "Requirement already satisfied: cymem<2.1.0,>=2.0.2 in /usr/local/lib/python3.9/dist-packages (from spacy<3.6.0,>=3.5.0->en-core-web-sm==3.5.0) (2.0.7)\n",
      "Requirement already satisfied: smart-open<7.0.0,>=5.2.1 in /usr/local/lib/python3.9/dist-packages (from spacy<3.6.0,>=3.5.0->en-core-web-sm==3.5.0) (6.3.0)\n",
      "Requirement already satisfied: srsly<3.0.0,>=2.4.3 in /usr/local/lib/python3.9/dist-packages (from spacy<3.6.0,>=3.5.0->en-core-web-sm==3.5.0) (2.4.6)\n",
      "Requirement already satisfied: preshed<3.1.0,>=3.0.2 in /usr/local/lib/python3.9/dist-packages (from spacy<3.6.0,>=3.5.0->en-core-web-sm==3.5.0) (3.0.8)\n",
      "Requirement already satisfied: thinc<8.2.0,>=8.1.8 in /usr/local/lib/python3.9/dist-packages (from spacy<3.6.0,>=3.5.0->en-core-web-sm==3.5.0) (8.1.9)\n",
      "Requirement already satisfied: wasabi<1.2.0,>=0.9.1 in /usr/local/lib/python3.9/dist-packages (from spacy<3.6.0,>=3.5.0->en-core-web-sm==3.5.0) (1.1.1)\n",
      "Requirement already satisfied: murmurhash<1.1.0,>=0.28.0 in /usr/local/lib/python3.9/dist-packages (from spacy<3.6.0,>=3.5.0->en-core-web-sm==3.5.0) (1.0.9)\n",
      "Requirement already satisfied: typer<0.8.0,>=0.3.0 in /usr/local/lib/python3.9/dist-packages (from spacy<3.6.0,>=3.5.0->en-core-web-sm==3.5.0) (0.7.0)\n",
      "Requirement already satisfied: catalogue<2.1.0,>=2.0.6 in /usr/local/lib/python3.9/dist-packages (from spacy<3.6.0,>=3.5.0->en-core-web-sm==3.5.0) (2.0.8)\n",
      "Requirement already satisfied: spacy-legacy<3.1.0,>=3.0.11 in /usr/local/lib/python3.9/dist-packages (from spacy<3.6.0,>=3.5.0->en-core-web-sm==3.5.0) (3.0.12)\n",
      "Requirement already satisfied: setuptools in /usr/local/lib/python3.9/dist-packages (from spacy<3.6.0,>=3.5.0->en-core-web-sm==3.5.0) (67.6.1)\n",
      "Requirement already satisfied: requests<3.0.0,>=2.13.0 in /usr/local/lib/python3.9/dist-packages (from spacy<3.6.0,>=3.5.0->en-core-web-sm==3.5.0) (2.27.1)\n",
      "Requirement already satisfied: pathy>=0.10.0 in /usr/local/lib/python3.9/dist-packages (from spacy<3.6.0,>=3.5.0->en-core-web-sm==3.5.0) (0.10.1)\n",
      "Requirement already satisfied: packaging>=20.0 in /usr/local/lib/python3.9/dist-packages (from spacy<3.6.0,>=3.5.0->en-core-web-sm==3.5.0) (23.0)\n",
      "Requirement already satisfied: pydantic!=1.8,!=1.8.1,<1.11.0,>=1.7.4 in /usr/local/lib/python3.9/dist-packages (from spacy<3.6.0,>=3.5.0->en-core-web-sm==3.5.0) (1.10.7)\n",
      "Requirement already satisfied: spacy-loggers<2.0.0,>=1.0.0 in /usr/local/lib/python3.9/dist-packages (from spacy<3.6.0,>=3.5.0->en-core-web-sm==3.5.0) (1.0.4)\n",
      "Requirement already satisfied: numpy>=1.15.0 in /usr/local/lib/python3.9/dist-packages (from spacy<3.6.0,>=3.5.0->en-core-web-sm==3.5.0) (1.22.4)\n",
      "Requirement already satisfied: langcodes<4.0.0,>=3.2.0 in /usr/local/lib/python3.9/dist-packages (from spacy<3.6.0,>=3.5.0->en-core-web-sm==3.5.0) (3.3.0)\n",
      "Requirement already satisfied: tqdm<5.0.0,>=4.38.0 in /usr/local/lib/python3.9/dist-packages (from spacy<3.6.0,>=3.5.0->en-core-web-sm==3.5.0) (4.65.0)\n",
      "Requirement already satisfied: typing-extensions>=4.2.0 in /usr/local/lib/python3.9/dist-packages (from pydantic!=1.8,!=1.8.1,<1.11.0,>=1.7.4->spacy<3.6.0,>=3.5.0->en-core-web-sm==3.5.0) (4.5.0)\n",
      "Requirement already satisfied: certifi>=2017.4.17 in /usr/local/lib/python3.9/dist-packages (from requests<3.0.0,>=2.13.0->spacy<3.6.0,>=3.5.0->en-core-web-sm==3.5.0) (2022.12.7)\n",
      "Requirement already satisfied: idna<4,>=2.5 in /usr/local/lib/python3.9/dist-packages (from requests<3.0.0,>=2.13.0->spacy<3.6.0,>=3.5.0->en-core-web-sm==3.5.0) (3.4)\n",
      "Requirement already satisfied: urllib3<1.27,>=1.21.1 in /usr/local/lib/python3.9/dist-packages (from requests<3.0.0,>=2.13.0->spacy<3.6.0,>=3.5.0->en-core-web-sm==3.5.0) (1.26.15)\n",
      "Requirement already satisfied: charset-normalizer~=2.0.0 in /usr/local/lib/python3.9/dist-packages (from requests<3.0.0,>=2.13.0->spacy<3.6.0,>=3.5.0->en-core-web-sm==3.5.0) (2.0.12)\n",
      "Requirement already satisfied: blis<0.8.0,>=0.7.8 in /usr/local/lib/python3.9/dist-packages (from thinc<8.2.0,>=8.1.8->spacy<3.6.0,>=3.5.0->en-core-web-sm==3.5.0) (0.7.9)\n",
      "Requirement already satisfied: confection<1.0.0,>=0.0.1 in /usr/local/lib/python3.9/dist-packages (from thinc<8.2.0,>=8.1.8->spacy<3.6.0,>=3.5.0->en-core-web-sm==3.5.0) (0.0.4)\n",
      "Requirement already satisfied: click<9.0.0,>=7.1.1 in /usr/local/lib/python3.9/dist-packages (from typer<0.8.0,>=0.3.0->spacy<3.6.0,>=3.5.0->en-core-web-sm==3.5.0) (8.1.3)\n",
      "Requirement already satisfied: MarkupSafe>=2.0 in /usr/local/lib/python3.9/dist-packages (from jinja2->spacy<3.6.0,>=3.5.0->en-core-web-sm==3.5.0) (2.1.2)\n",
      "\u001b[38;5;2m✔ Download and installation successful\u001b[0m\n",
      "You can now load the package via spacy.load('en_core_web_sm')\n"
     ]
    }
   ],
   "source": [
    "%pip install git+https://github.com/boudinfl/pke.git\n",
    "!python -m spacy download en_core_web_sm"
   ]
  },
  {
   "cell_type": "code",
   "execution_count": 4,
   "metadata": {},
   "outputs": [],
   "source": [
    "import pke\n",
    "import string\n",
    "import re\n",
    "\n",
    "stoplist = list(string.punctuation)\n",
    "stoplist += pke.lang.stopwords.get('en')\n",
    "\n",
    "def multi_partite_rank_extract(text, n):\n",
    "    text = re.sub(r'<.*?>', '', text)\n",
    "    multi_partite_rank = pke.unsupervised.MultipartiteRank()\n",
    "    multi_partite_rank.load_document(input=text, language='en', stoplist=stoplist)\n",
    "    pos = {'NOUN', 'PROPN', 'ADJ', 'VERB'}\n",
    "    multi_partite_rank.candidate_selection(pos=pos)\n",
    "    multi_partite_rank.candidate_weighting()\n",
    "    return multi_partite_rank.get_n_best(n=n)"
   ]
  },
  {
   "cell_type": "code",
   "execution_count": 5,
   "metadata": {},
   "outputs": [],
   "source": [
    "import torch\n",
    "device = 'cuda' if torch.cuda.is_available() else 'cpu'\n"
   ]
  },
  {
   "cell_type": "code",
   "execution_count": 6,
   "metadata": {},
   "outputs": [
    {
     "data": {
      "application/vnd.jupyter.widget-view+json": {
       "model_id": "ba52a0ad5bde496499844748180d3e01",
       "version_major": 2,
       "version_minor": 0
      },
      "text/plain": [
       "Downloading (…)solve/main/vocab.txt:   0%|          | 0.00/232k [00:00<?, ?B/s]"
      ]
     },
     "metadata": {},
     "output_type": "display_data"
    },
    {
     "data": {
      "application/vnd.jupyter.widget-view+json": {
       "model_id": "eb3b9220bf574d98ac473a3c897ae7ef",
       "version_major": 2,
       "version_minor": 0
      },
      "text/plain": [
       "Downloading (…)okenizer_config.json:   0%|          | 0.00/28.0 [00:00<?, ?B/s]"
      ]
     },
     "metadata": {},
     "output_type": "display_data"
    },
    {
     "data": {
      "application/vnd.jupyter.widget-view+json": {
       "model_id": "1f1c5facd7ef48f0a4e3af88aa8e1ce2",
       "version_major": 2,
       "version_minor": 0
      },
      "text/plain": [
       "Downloading (…)lve/main/config.json:   0%|          | 0.00/483 [00:00<?, ?B/s]"
      ]
     },
     "metadata": {},
     "output_type": "display_data"
    },
    {
     "data": {
      "application/vnd.jupyter.widget-view+json": {
       "model_id": "61b01d6ba155494d8cee48d90dade1e9",
       "version_major": 2,
       "version_minor": 0
      },
      "text/plain": [
       "Downloading (…)lve/main/config.json:   0%|          | 0.00/676 [00:00<?, ?B/s]"
      ]
     },
     "metadata": {},
     "output_type": "display_data"
    },
    {
     "data": {
      "application/vnd.jupyter.widget-view+json": {
       "model_id": "33c9f3169b6f4731b31992f272f06bc3",
       "version_major": 2,
       "version_minor": 0
      },
      "text/plain": [
       "Downloading pytorch_model.bin:   0%|          | 0.00/268M [00:00<?, ?B/s]"
      ]
     },
     "metadata": {},
     "output_type": "display_data"
    }
   ],
   "source": [
    "from transformers import DistilBertTokenizer, DistilBertForSequenceClassification\n",
    "\n",
    "tokenizer = DistilBertTokenizer.from_pretrained('distilbert-base-uncased')\n",
    "img_model = DistilBertForSequenceClassification.from_pretrained('martingrzzler/distilbert-imageability').to(device)\n"
   ]
  },
  {
   "cell_type": "code",
   "execution_count": 7,
   "metadata": {},
   "outputs": [],
   "source": [
    "def predict(token,model):\n",
    "    inputs = tokenizer(token, return_tensors='pt').to(device)\n",
    "    outputs = model(**inputs)\n",
    "    logits = outputs.logits\n",
    "    return logits.item()"
   ]
  },
  {
   "cell_type": "code",
   "execution_count": 8,
   "metadata": {},
   "outputs": [],
   "source": [
    "import nltk\n",
    "stemmer = nltk.stem.PorterStemmer()\n",
    "\n",
    "def any_in(keyphrase, input_words):\n",
    "    input_stems = set([stemmer.stem(word) for word in input_words])\n",
    "    keyphrase_stems = set([stemmer.stem(word) for word in keyphrase.split()])\n",
    "\n",
    "    return len(input_stems & keyphrase_stems) > 0 "
   ]
  },
  {
   "cell_type": "code",
   "execution_count": 9,
   "metadata": {},
   "outputs": [],
   "source": [
    "keys = ['gpt2xl_mnemonic', 'gpt3_mnemonic', 'gpt3_paragraph', 'wanikani_mnemonic']"
   ]
  },
  {
   "cell_type": "code",
   "execution_count": 10,
   "metadata": {},
   "outputs": [],
   "source": [
    "def map_keywords_and_scores(example):\n",
    "    for key in keys:\n",
    "        keywords = multi_partite_rank_extract(example[key], n=10)\n",
    "        example[key + '_keywords'] = [keyword for keyword, weight in keywords]\n",
    "        example[key + '_keyword_scores'] = [weight for keyword, weight in keywords]\n",
    "\n",
    "    return example"
   ]
  },
  {
   "cell_type": "code",
   "execution_count": 11,
   "metadata": {},
   "outputs": [
    {
     "data": {
      "application/vnd.jupyter.widget-view+json": {
       "model_id": "ec0949c821394e029405492a825a5486",
       "version_major": 2,
       "version_minor": 0
      },
      "text/plain": [
       "Map:   0%|          | 0/190 [00:00<?, ? examples/s]"
      ]
     },
     "metadata": {},
     "output_type": "display_data"
    }
   ],
   "source": [
    "ds_keywords = ds.map(map_keywords_and_scores)"
   ]
  },
  {
   "cell_type": "code",
   "execution_count": 30,
   "metadata": {},
   "outputs": [],
   "source": [
    "import numpy as np\n",
    "\n",
    "def imageability_score(keywords_with_scores, input_words):\n",
    "    keywords_with_scores = [(keyword, score) for keyword, score in keywords_with_scores if not any_in(keyword, input_words)]\n",
    "    keywords_with_scores = keywords_with_scores[:len(input_words)]\n",
    "    scores = [] \n",
    "    total_weight = 0\n",
    "    for keyphrase, weight in keywords_with_scores:\n",
    "        total_weight += weight\n",
    "    \n",
    "    for keyphrase, weight in keywords_with_scores:\n",
    "        words = keyphrase.split(' ')\n",
    "        score = np.mean([predict(word,img_model) for word in words])\n",
    "        scores.append(score * weight / total_weight)\n",
    "    \n",
    "    return np.sum(scores)"
   ]
  },
  {
   "cell_type": "code",
   "execution_count": 13,
   "metadata": {},
   "outputs": [],
   "source": [
    "def centrality_score(keywords_with_scores, input_words):\n",
    "    total_score = 0\n",
    "    for _, score in keywords_with_scores:\n",
    "        total_score += score\n",
    "    \n",
    "    mask = [(any_in(keyphrase, input_words), score / total_score) for keyphrase, score in keywords_with_scores]\n",
    "\n",
    "    return np.sum([score for in_input, score in mask if in_input])"
   ]
  },
  {
   "cell_type": "code",
   "execution_count": 14,
   "metadata": {},
   "outputs": [],
   "source": [
    "def combined_score(keywords_with_scores, input_words):\n",
    "    centrality = centrality_score(keywords_with_scores[:len(input_words)], input_words)\n",
    "    imageability = imageability_score(keywords_with_scores[:len(input_words)])\n",
    "    return (centrality, imageability)"
   ]
  },
  {
   "cell_type": "code",
   "execution_count": 15,
   "metadata": {},
   "outputs": [],
   "source": [
    "sample = ds_keywords['train'][0]\n",
    "sample_input_words = [sample['kanji_meaning']] + sample['component_meanings'].split(',')\n",
    "key = keys[1]\n",
    "keywords_with_scores = list(zip(sample[key + '_keywords'], sample[key + '_keyword_scores']))"
   ]
  },
  {
   "cell_type": "code",
   "execution_count": 31,
   "metadata": {},
   "outputs": [],
   "source": [
    "def map_imageability(example):\n",
    "    input_words = [example['kanji_meaning']] + example['component_meanings'].split(',')\n",
    "    for key in keys:\n",
    "        keywords_with_scores = list(zip(example[key + '_keywords'], example[key + '_keyword_scores']))\n",
    "        example[key + '_imageability'] = imageability_score(keywords_with_scores, input_words)\n",
    "    return example"
   ]
  },
  {
   "cell_type": "code",
   "execution_count": 32,
   "metadata": {},
   "outputs": [
    {
     "data": {
      "application/vnd.jupyter.widget-view+json": {
       "model_id": "e03c250895a64649bdf4f0009c4498b8",
       "version_major": 2,
       "version_minor": 0
      },
      "text/plain": [
       "Map:   0%|          | 0/190 [00:00<?, ? examples/s]"
      ]
     },
     "metadata": {},
     "output_type": "display_data"
    }
   ],
   "source": [
    "ds_imageability = ds_keywords.map(map_imageability)"
   ]
  },
  {
   "cell_type": "code",
   "execution_count": 16,
   "metadata": {},
   "outputs": [],
   "source": [
    "def map_combined_scores(example):\n",
    "    input_words = [example['kanji_meaning']] + example['component_meanings'].split(',')\n",
    "    for key in keys:\n",
    "        keywords_with_scores = list(zip(example[key + '_keywords'], example[key + '_keyword_scores']))\n",
    "        centrality, img = combined_score(keywords_with_scores, input_words)\n",
    "        example[key+'_img'] = img\n",
    "        example[key+'_centrality'] = centrality\n",
    "    return example"
   ]
  },
  {
   "cell_type": "code",
   "execution_count": 17,
   "metadata": {},
   "outputs": [],
   "source": [
    "def map_centrality(ratio_n):\n",
    "    def inner(example):\n",
    "        input_words = [example['kanji_meaning']] + example['component_meanings'].split(',')\n",
    "        for key in keys: \n",
    "            keywords_with_scores = list(zip(example[key + '_keywords'], example[key + '_keyword_scores']))\n",
    "            upper_bound = int(len(input_words) * ratio_n)\n",
    "            example[key+'_centrality'] = centrality_score(keywords_with_scores[:upper_bound], input_words)\n",
    "        return example\n",
    "    return inner"
   ]
  },
  {
   "cell_type": "code",
   "execution_count": 191,
   "metadata": {},
   "outputs": [
    {
     "data": {
      "text/plain": [
       "{'kanji_id': 1885,\n",
       " 'component_meanings': 'woman,catapult',\n",
       " 'wanikani_mnemonic': \"A <radical>woman</radical> loves her <radical>catapult</radical> for some good ol' fashioned <kanji>recreation</kanji>. You ask the woman what she does for fun... for recreation. She says, she goes out and shoots her catapult.\",\n",
       " 'kanji_meaning': 'recreation',\n",
       " 'gpt2xl_mnemonic': \"This is a rush transcript. Copy may not be in its final form, recreation of woman being catapulted to her death has been edited out.)\\n\\n\\nAMY GOODMAN: We begin today's show with the shocking news that two women have died after jumping from an overpass near Los Angeles International Airport and landing on I-5 southbound just before\",\n",
       " 'gpt3_paragraph': 'A woman was using a catapult for recreation in her backyard. She was having a blast launching objects into the air and watching them fly. She was enjoying the peacefulness of the moment and the satisfaction of her successful shots.',\n",
       " 'gpt3_mnemonic': \"Once upon a time there was a woman who wanted to recreate her childhood memories of playing with a catapult. She went to the local store to buy one, but instead she found a cute little white cat that she just couldn't resist. She decided to take the cat home and name him Catapult. From then on, the woman and Catapult would have fun together playing games and recreating her childhood memories.\",\n",
       " 'gpt2xl_mnemonic_keywords': ['woman',\n",
       "  'died',\n",
       "  'los angeles international airport',\n",
       "  'recreation',\n",
       "  'catapulted',\n",
       "  'jumping',\n",
       "  'women',\n",
       "  'overpass',\n",
       "  'death',\n",
       "  'final form'],\n",
       " 'gpt2xl_mnemonic_keyword_scores': [0.06572343127233284,\n",
       "  0.06500456825866492,\n",
       "  0.06481529417664814,\n",
       "  0.0636859593939944,\n",
       "  0.06186765186787259,\n",
       "  0.06148993735843003,\n",
       "  0.06042517929457296,\n",
       "  0.058147024807696096,\n",
       "  0.055585457743875646,\n",
       "  0.055165551395899806],\n",
       " 'gpt3_mnemonic_keywords': ['catapult',\n",
       "  'playing',\n",
       "  'recreate',\n",
       "  'childhood memories',\n",
       "  'woman',\n",
       "  'local store',\n",
       "  'wanted',\n",
       "  'went',\n",
       "  'buy',\n",
       "  'cute little white cat'],\n",
       " 'gpt3_mnemonic_keyword_scores': [0.11009690184665487,\n",
       "  0.09224836018529073,\n",
       "  0.09208022759614894,\n",
       "  0.09063247350651055,\n",
       "  0.07909016971189292,\n",
       "  0.05273277584912038,\n",
       "  0.05269757641340232,\n",
       "  0.049612948706712026,\n",
       "  0.0476422982680311,\n",
       "  0.04620424304491192],\n",
       " 'gpt3_paragraph_keywords': ['watching',\n",
       "  'blast launching objects',\n",
       "  'air',\n",
       "  'fly',\n",
       "  'peacefulness',\n",
       "  'enjoying',\n",
       "  'having',\n",
       "  'recreation',\n",
       "  'moment',\n",
       "  'catapult'],\n",
       " 'gpt3_paragraph_keyword_scores': [0.08688510952774253,\n",
       "  0.08285960623914969,\n",
       "  0.08144148190934247,\n",
       "  0.07992423470103709,\n",
       "  0.07797167128332719,\n",
       "  0.07732740270612326,\n",
       "  0.0734455180583751,\n",
       "  0.07286448263297551,\n",
       "  0.06974422097536098,\n",
       "  0.06777214777607242],\n",
       " 'wanikani_mnemonic_keywords': ['catapult',\n",
       "  'woman loves',\n",
       "  'shoots',\n",
       "  'goes',\n",
       "  'says',\n",
       "  'recreation',\n",
       "  'ask',\n",
       "  'fun',\n",
       "  'woman'],\n",
       " 'wanikani_mnemonic_keyword_scores': [0.18892187420333123,\n",
       "  0.1704743616177492,\n",
       "  0.10129886056959062,\n",
       "  0.09636757977526147,\n",
       "  0.09600473325107178,\n",
       "  0.09404606196407903,\n",
       "  0.09184433996096325,\n",
       "  0.08790684740310598,\n",
       "  0.07313534125484733],\n",
       " 'gpt2xl_mnemonic_centrality': 1.0,\n",
       " 'gpt3_mnemonic_centrality': 1.0,\n",
       " 'gpt3_paragraph_centrality': 0.0,\n",
       " 'wanikani_mnemonic_centrality': 1.0}"
      ]
     },
     "execution_count": 191,
     "metadata": {},
     "output_type": "execute_result"
    }
   ],
   "source": [
    "map_centrality(.5)(ds_keywords['train'][0])"
   ]
  },
  {
   "cell_type": "code",
   "execution_count": 192,
   "metadata": {},
   "outputs": [
    {
     "data": {
      "text/plain": [
       "0.7801173458037225"
      ]
     },
     "execution_count": 192,
     "metadata": {},
     "output_type": "execute_result"
    }
   ],
   "source": [
    "map_combined_scores(sample)['wanikani_mnemonic_centrality']"
   ]
  },
  {
   "cell_type": "code",
   "execution_count": 176,
   "metadata": {},
   "outputs": [
    {
     "data": {
      "application/vnd.jupyter.widget-view+json": {
       "model_id": "bc29106cd9d7454db1f30e537b0ddf81",
       "version_major": 2,
       "version_minor": 0
      },
      "text/plain": [
       "Map:   0%|          | 0/190 [00:00<?, ? examples/s]"
      ]
     },
     "metadata": {},
     "output_type": "display_data"
    }
   ],
   "source": [
    "ds_scores = ds_keywords['train'].map(map_combined_scores)"
   ]
  },
  {
   "cell_type": "code",
   "execution_count": 34,
   "metadata": {},
   "outputs": [],
   "source": [
    "from scipy.stats import f_oneway\n",
    "def anova(ds, feature):\n",
    "    f, p = f_oneway(*[ds[key+'_'+feature] for key in keys])\n",
    "    return f, p"
   ]
  },
  {
   "cell_type": "code",
   "execution_count": 35,
   "metadata": {},
   "outputs": [],
   "source": [
    "import matplotlib.pyplot as plt\n",
    "import numpy as np\n",
    "\n",
    "def box_plot(ds,title, feature, labels=['GPT-2','GPT-3 (mnemonic)','GPT-3 (paragraph)','WaniKani']):\n",
    "    fig, ax = plt.subplots(figsize=(8, 6))\n",
    "    ax.set_title(title)\n",
    "    ax.boxplot([ds[key+'_'+feature] for key in keys], labels=labels)\n",
    "    plt.show()"
   ]
  },
  {
   "cell_type": "code",
   "execution_count": 36,
   "metadata": {},
   "outputs": [],
   "source": [
    "from scipy.stats import tukey_hsd\n",
    "\n",
    "def tukey(ds, feature):\n",
    "    data = [ds[key+'_'+feature] for key in keys]\n",
    "    res = tukey_hsd(*data)\n",
    "    print(res)"
   ]
  },
  {
   "cell_type": "code",
   "execution_count": 37,
   "metadata": {},
   "outputs": [],
   "source": [
    "def mean_std(ds, feature):\n",
    "    return [(key, np.mean(ds[key+'_'+feature]), np.std(ds[key+'_'+feature])) for key in keys]"
   ]
  },
  {
   "cell_type": "code",
   "execution_count": 38,
   "metadata": {},
   "outputs": [],
   "source": [
    "def map_weighted(centrality_weight=.5):\n",
    "    def inner(example):\n",
    "        for key in keys:\n",
    "            example[key+'_weighted_score'] = example[key+'_centrality'] * centrality_weight + example[key+'_img'] * (1-centrality_weight)\n",
    "        return example\n",
    "    return inner"
   ]
  },
  {
   "cell_type": "code",
   "execution_count": 39,
   "metadata": {},
   "outputs": [],
   "source": [
    "import numpy as np\n",
    "\n",
    "def group_variance(ds, score_name):\n",
    "    within_group_vars = [np.var(ds[key+'_'+score_name]) for key in keys]\n",
    "    total_mean = np.mean([score for key in keys for score in ds[key+'_'+score_name]])\n",
    "    between_group_var = np.sum([(np.mean(ds[key+'_'+score_name]) - total_mean) ** 2 for key in keys]) / (len(keys) - 1)\n",
    "    return within_group_vars, between_group_var"
   ]
  },
  {
   "cell_type": "code",
   "execution_count": 43,
   "metadata": {},
   "outputs": [
    {
     "data": {
      "text/plain": [
       "[('gpt2xl_mnemonic', 0.5656726903962208, 0.09163098683267158),\n",
       " ('gpt3_mnemonic', 0.5976190201463154, 0.11198810038315164),\n",
       " ('gpt3_paragraph', 0.5813196365440207, 0.10396066777829957),\n",
       " ('wanikani_mnemonic', 0.5669264019345996, 0.12855374098996344)]"
      ]
     },
     "execution_count": 43,
     "metadata": {},
     "output_type": "execute_result"
    }
   ],
   "source": [
    "mean_std(ds_imageability['train'], 'imageability')"
   ]
  },
  {
   "cell_type": "code",
   "execution_count": 44,
   "metadata": {},
   "outputs": [
    {
     "data": {
      "text/plain": [
       "(3.5001187695677958, 0.01520845784426993)"
      ]
     },
     "execution_count": 44,
     "metadata": {},
     "output_type": "execute_result"
    }
   ],
   "source": [
    "anova(ds_imageability['train'], 'imageability')"
   ]
  },
  {
   "cell_type": "code",
   "execution_count": 45,
   "metadata": {},
   "outputs": [
    {
     "data": {
      "image/png": "[encoded data removed]",
      "text/plain": [
       "<Figure size 800x600 with 1 Axes>"
      ]
     },
     "metadata": {},
     "output_type": "display_data"
    }
   ],
   "source": [
    "box_plot(ds_imageability['train'], 'Imageability Scores', 'imageability')"
   ]
  },
  {
   "cell_type": "code",
   "execution_count": 46,
   "metadata": {},
   "outputs": [
    {
     "name": "stdout",
     "output_type": "stream",
     "text": [
      "Tukey's HSD Pairwise Group Comparisons (95.0% Confidence Interval)\n",
      "Comparison  Statistic  p-value  Lower CI  Upper CI\n",
      " (0 - 1)     -0.032     0.025    -0.061    -0.003\n",
      " (0 - 2)     -0.016     0.509    -0.045     0.013\n",
      " (0 - 3)     -0.001     1.000    -0.030     0.028\n",
      " (1 - 0)      0.032     0.025     0.003     0.061\n",
      " (1 - 2)      0.016     0.473    -0.013     0.045\n",
      " (1 - 3)      0.031     0.034     0.002     0.060\n",
      " (2 - 0)      0.016     0.509    -0.013     0.045\n",
      " (2 - 1)     -0.016     0.473    -0.045     0.013\n",
      " (2 - 3)      0.014     0.580    -0.015     0.043\n",
      " (3 - 0)      0.001     1.000    -0.028     0.030\n",
      " (3 - 1)     -0.031     0.034    -0.060    -0.002\n",
      " (3 - 2)     -0.014     0.580    -0.043     0.015\n",
      "\n"
     ]
    }
   ],
   "source": [
    "tukey(ds_imageability['train'], 'imageability')"
   ]
  },
  {
   "cell_type": "code",
   "execution_count": 214,
   "metadata": {},
   "outputs": [
    {
     "name": "stderr",
     "output_type": "stream",
     "text": [
      "WARNING:datasets.arrow_dataset:Loading cached processed dataset at /root/.cache/huggingface/datasets/martingrzzler___json/martingrzzler--mnemonics_benchmark-6cc75b71b93e3c15/0.0.0/fe5dd6ea2639a6df622901539cb550cf8797e5a6b2dd7af1cf934bed8e233e6e/cache-44457a9de74f6609.arrow\n",
      "WARNING:datasets.arrow_dataset:Loading cached processed dataset at /root/.cache/huggingface/datasets/martingrzzler___json/martingrzzler--mnemonics_benchmark-6cc75b71b93e3c15/0.0.0/fe5dd6ea2639a6df622901539cb550cf8797e5a6b2dd7af1cf934bed8e233e6e/cache-2ac7100e15eb1c10.arrow\n",
      "WARNING:datasets.arrow_dataset:Loading cached processed dataset at /root/.cache/huggingface/datasets/martingrzzler___json/martingrzzler--mnemonics_benchmark-6cc75b71b93e3c15/0.0.0/fe5dd6ea2639a6df622901539cb550cf8797e5a6b2dd7af1cf934bed8e233e6e/cache-43e5e380d7bba726.arrow\n",
      "WARNING:datasets.arrow_dataset:Loading cached processed dataset at /root/.cache/huggingface/datasets/martingrzzler___json/martingrzzler--mnemonics_benchmark-6cc75b71b93e3c15/0.0.0/fe5dd6ea2639a6df622901539cb550cf8797e5a6b2dd7af1cf934bed8e233e6e/cache-1bb4a9f1d30faf35.arrow\n",
      "WARNING:datasets.arrow_dataset:Loading cached processed dataset at /root/.cache/huggingface/datasets/martingrzzler___json/martingrzzler--mnemonics_benchmark-6cc75b71b93e3c15/0.0.0/fe5dd6ea2639a6df622901539cb550cf8797e5a6b2dd7af1cf934bed8e233e6e/cache-96964f26e1b09bfc.arrow\n",
      "WARNING:datasets.arrow_dataset:Loading cached processed dataset at /root/.cache/huggingface/datasets/martingrzzler___json/martingrzzler--mnemonics_benchmark-6cc75b71b93e3c15/0.0.0/fe5dd6ea2639a6df622901539cb550cf8797e5a6b2dd7af1cf934bed8e233e6e/cache-7e57a573f55eac73.arrow\n",
      "WARNING:datasets.arrow_dataset:Loading cached processed dataset at /root/.cache/huggingface/datasets/martingrzzler___json/martingrzzler--mnemonics_benchmark-6cc75b71b93e3c15/0.0.0/fe5dd6ea2639a6df622901539cb550cf8797e5a6b2dd7af1cf934bed8e233e6e/cache-0ee2fca7d6d604c0.arrow\n",
      "WARNING:datasets.arrow_dataset:Loading cached processed dataset at /root/.cache/huggingface/datasets/martingrzzler___json/martingrzzler--mnemonics_benchmark-6cc75b71b93e3c15/0.0.0/fe5dd6ea2639a6df622901539cb550cf8797e5a6b2dd7af1cf934bed8e233e6e/cache-92a58f398875e149.arrow\n",
      "WARNING:datasets.arrow_dataset:Loading cached processed dataset at /root/.cache/huggingface/datasets/martingrzzler___json/martingrzzler--mnemonics_benchmark-6cc75b71b93e3c15/0.0.0/fe5dd6ea2639a6df622901539cb550cf8797e5a6b2dd7af1cf934bed8e233e6e/cache-1b047bb9ce05dcb8.arrow\n",
      "WARNING:datasets.arrow_dataset:Loading cached processed dataset at /root/.cache/huggingface/datasets/martingrzzler___json/martingrzzler--mnemonics_benchmark-6cc75b71b93e3c15/0.0.0/fe5dd6ea2639a6df622901539cb550cf8797e5a6b2dd7af1cf934bed8e233e6e/cache-b95c827d2e365e34.arrow\n"
     ]
    }
   ],
   "source": [
    "n_keywords = np.linspace(1, 3, 10)\n",
    "ds_centralilties = []\n",
    "best_var_ratio = 0\n",
    "best_n = 0\n",
    "ratios = []\n",
    "within_vars = []\n",
    "between_vars = []\n",
    "\n",
    "for n in n_keywords:\n",
    "    ds_cent = ds_scores.map(map_centrality(n))\n",
    "    ds_centralilties.append(ds_cent)\n",
    "    within_group_vars, between_group_var = group_variance(ds_cent, 'centrality')\n",
    "    within_vars.append(within_group_vars)\n",
    "    between_vars.append(between_group_var)\n",
    "    var_ratio = between_group_var / np.sum(within_group_vars)\n",
    "    ratios.append(var_ratio)\n",
    "    if var_ratio > best_var_ratio:\n",
    "        best_var_ratio = var_ratio\n",
    "        best_n = n"
   ]
  },
  {
   "cell_type": "code",
   "execution_count": 215,
   "metadata": {},
   "outputs": [
    {
     "data": {
      "text/plain": [
       "[<matplotlib.lines.Line2D at 0x7fec6c3b8610>,\n",
       " <matplotlib.lines.Line2D at 0x7fec6c3b8670>,\n",
       " <matplotlib.lines.Line2D at 0x7fec6c3b86a0>,\n",
       " <matplotlib.lines.Line2D at 0x7fec6c3b8790>]"
      ]
     },
     "execution_count": 215,
     "metadata": {},
     "output_type": "execute_result"
    },
    {
     "data": {
      "image/png": "[encoded data removed]",
      "text/plain": [
       "<Figure size 640x480 with 1 Axes>"
      ]
     },
     "metadata": {},
     "output_type": "display_data"
    }
   ],
   "source": [
    "plt.plot(n_keywords, within_vars)"
   ]
  },
  {
   "cell_type": "code",
   "execution_count": 216,
   "metadata": {},
   "outputs": [
    {
     "data": {
      "text/plain": [
       "[<matplotlib.lines.Line2D at 0x7fec54eeb040>]"
      ]
     },
     "execution_count": 216,
     "metadata": {},
     "output_type": "execute_result"
    },
    {
     "data": {
      "image/png": "[encoded data removed]",
      "text/plain": [
       "<Figure size 640x480 with 1 Axes>"
      ]
     },
     "metadata": {},
     "output_type": "display_data"
    }
   ],
   "source": [
    "plt.plot(n_keywords, between_vars)"
   ]
  },
  {
   "cell_type": "code",
   "execution_count": 209,
   "metadata": {},
   "outputs": [
    {
     "data": {
      "text/plain": [
       "(1.0, 0.05488595598577161)"
      ]
     },
     "execution_count": 209,
     "metadata": {},
     "output_type": "execute_result"
    }
   ],
   "source": [
    "best_n, best_var_ratio"
   ]
  },
  {
   "cell_type": "code",
   "execution_count": 213,
   "metadata": {},
   "outputs": [
    {
     "data": {
      "image/png": "[encoded data removed]",
      "text/plain": [
       "<Figure size 640x480 with 1 Axes>"
      ]
     },
     "metadata": {},
     "output_type": "display_data"
    }
   ],
   "source": [
    "plt.title('Variance ratio vs len(input_words) * n_keywords_ratio')\n",
    "plt.plot(n_keywords, ratios)\n",
    "plt.show()"
   ]
  },
  {
   "cell_type": "code",
   "execution_count": 198,
   "metadata": {},
   "outputs": [
    {
     "name": "stderr",
     "output_type": "stream",
     "text": [
      "WARNING:datasets.arrow_dataset:Loading cached processed dataset at /root/.cache/huggingface/datasets/martingrzzler___json/martingrzzler--mnemonics_benchmark-6cc75b71b93e3c15/0.0.0/fe5dd6ea2639a6df622901539cb550cf8797e5a6b2dd7af1cf934bed8e233e6e/cache-65a09fdbaad2e29b.arrow\n"
     ]
    },
    {
     "data": {
      "text/plain": [
       "([0.019561039690073483,\n",
       "  0.02425403173850315,\n",
       "  0.0242940731346398,\n",
       "  0.02435753415660814],\n",
       " 0.016439320388420033)"
      ]
     },
     "execution_count": 198,
     "metadata": {},
     "output_type": "execute_result"
    }
   ],
   "source": [
    "ds_combined = ds_scores.map(map_weighted(centrality_weight=.5))\n",
    "group_variance(ds_combined, 'weighted_score')"
   ]
  },
  {
   "cell_type": "code",
   "execution_count": 228,
   "metadata": {},
   "outputs": [
    {
     "name": "stderr",
     "output_type": "stream",
     "text": [
      "WARNING:datasets.arrow_dataset:Loading cached processed dataset at /root/.cache/huggingface/datasets/martingrzzler___json/martingrzzler--mnemonics_benchmark-6cc75b71b93e3c15/0.0.0/fe5dd6ea2639a6df622901539cb550cf8797e5a6b2dd7af1cf934bed8e233e6e/cache-746d46d8f43e0c20.arrow\n",
      "WARNING:datasets.arrow_dataset:Loading cached processed dataset at /root/.cache/huggingface/datasets/martingrzzler___json/martingrzzler--mnemonics_benchmark-6cc75b71b93e3c15/0.0.0/fe5dd6ea2639a6df622901539cb550cf8797e5a6b2dd7af1cf934bed8e233e6e/cache-788ec94d2eb0a48b.arrow\n",
      "WARNING:datasets.arrow_dataset:Loading cached processed dataset at /root/.cache/huggingface/datasets/martingrzzler___json/martingrzzler--mnemonics_benchmark-6cc75b71b93e3c15/0.0.0/fe5dd6ea2639a6df622901539cb550cf8797e5a6b2dd7af1cf934bed8e233e6e/cache-2adc705cbf041343.arrow\n",
      "WARNING:datasets.arrow_dataset:Loading cached processed dataset at /root/.cache/huggingface/datasets/martingrzzler___json/martingrzzler--mnemonics_benchmark-6cc75b71b93e3c15/0.0.0/fe5dd6ea2639a6df622901539cb550cf8797e5a6b2dd7af1cf934bed8e233e6e/cache-a6c826aaf4518d43.arrow\n",
      "WARNING:datasets.arrow_dataset:Loading cached processed dataset at /root/.cache/huggingface/datasets/martingrzzler___json/martingrzzler--mnemonics_benchmark-6cc75b71b93e3c15/0.0.0/fe5dd6ea2639a6df622901539cb550cf8797e5a6b2dd7af1cf934bed8e233e6e/cache-8cd912602b8bf181.arrow\n",
      "WARNING:datasets.arrow_dataset:Loading cached processed dataset at /root/.cache/huggingface/datasets/martingrzzler___json/martingrzzler--mnemonics_benchmark-6cc75b71b93e3c15/0.0.0/fe5dd6ea2639a6df622901539cb550cf8797e5a6b2dd7af1cf934bed8e233e6e/cache-a4026ac6cb810862.arrow\n",
      "WARNING:datasets.arrow_dataset:Loading cached processed dataset at /root/.cache/huggingface/datasets/martingrzzler___json/martingrzzler--mnemonics_benchmark-6cc75b71b93e3c15/0.0.0/fe5dd6ea2639a6df622901539cb550cf8797e5a6b2dd7af1cf934bed8e233e6e/cache-d765ea459209a479.arrow\n",
      "WARNING:datasets.arrow_dataset:Loading cached processed dataset at /root/.cache/huggingface/datasets/martingrzzler___json/martingrzzler--mnemonics_benchmark-6cc75b71b93e3c15/0.0.0/fe5dd6ea2639a6df622901539cb550cf8797e5a6b2dd7af1cf934bed8e233e6e/cache-5dc8d51668400143.arrow\n",
      "WARNING:datasets.arrow_dataset:Loading cached processed dataset at /root/.cache/huggingface/datasets/martingrzzler___json/martingrzzler--mnemonics_benchmark-6cc75b71b93e3c15/0.0.0/fe5dd6ea2639a6df622901539cb550cf8797e5a6b2dd7af1cf934bed8e233e6e/cache-97b4ad4679afcd4d.arrow\n",
      "WARNING:datasets.arrow_dataset:Loading cached processed dataset at /root/.cache/huggingface/datasets/martingrzzler___json/martingrzzler--mnemonics_benchmark-6cc75b71b93e3c15/0.0.0/fe5dd6ea2639a6df622901539cb550cf8797e5a6b2dd7af1cf934bed8e233e6e/cache-0ec7d2cfbf952f92.arrow\n",
      "WARNING:datasets.arrow_dataset:Loading cached processed dataset at /root/.cache/huggingface/datasets/martingrzzler___json/martingrzzler--mnemonics_benchmark-6cc75b71b93e3c15/0.0.0/fe5dd6ea2639a6df622901539cb550cf8797e5a6b2dd7af1cf934bed8e233e6e/cache-7ed678d9d8a649f4.arrow\n"
     ]
    }
   ],
   "source": [
    "centrality_weights = np.linspace(0,1,11)\n",
    "ds_combineds = []\n",
    "best_var_ratio = 0\n",
    "best_centrality_weight = 0\n",
    "ratios = []\n",
    "between_vars = []\n",
    "within_vars = []\n",
    "\n",
    "for centrality_weight in centrality_weights:\n",
    "    ds_combined = ds_scores.map(map_weighted(centrality_weight))\n",
    "    ds_combineds.append(ds_combined)\n",
    "    within, between = group_variance(ds_combined, 'weighted_score')\n",
    "    between_vars.append(between)\n",
    "    within_vars.append(within)\n",
    "    var_ratio = between / np.sum(within)\n",
    "    ratios.append(var_ratio)\n",
    "    if var_ratio > best_var_ratio:\n",
    "        best_var_ratio = var_ratio\n",
    "        best_centrality_weight = centrality_weight"
   ]
  },
  {
   "cell_type": "code",
   "execution_count": 229,
   "metadata": {},
   "outputs": [
    {
     "data": {
      "image/png": "[encoded data removed]",
      "text/plain": [
       "<Figure size 640x480 with 1 Axes>"
      ]
     },
     "metadata": {},
     "output_type": "display_data"
    }
   ],
   "source": [
    "plt.plot(centrality_weights, within_vars)\n",
    "plt.show()"
   ]
  },
  {
   "cell_type": "code",
   "execution_count": 230,
   "metadata": {},
   "outputs": [
    {
     "data": {
      "text/plain": [
       "[<matplotlib.lines.Line2D at 0x7fec72f85550>]"
      ]
     },
     "execution_count": 230,
     "metadata": {},
     "output_type": "execute_result"
    },
    {
     "data": {
      "image/png": "[encoded data removed]",
      "text/plain": [
       "<Figure size 640x480 with 1 Axes>"
      ]
     },
     "metadata": {},
     "output_type": "display_data"
    }
   ],
   "source": [
    "plt.plot(centrality_weights, between_vars)"
   ]
  },
  {
   "cell_type": "code",
   "execution_count": 219,
   "metadata": {},
   "outputs": [
    {
     "name": "stdout",
     "output_type": "stream",
     "text": [
      "0.9 0.19527230618211075\n"
     ]
    }
   ],
   "source": [
    "print(best_centrality_weight, best_var_ratio)"
   ]
  },
  {
   "cell_type": "code",
   "execution_count": 220,
   "metadata": {},
   "outputs": [
    {
     "data": {
      "image/png": "[encoded data removed]",
      "text/plain": [
       "<Figure size 640x480 with 1 Axes>"
      ]
     },
     "metadata": {},
     "output_type": "display_data"
    }
   ],
   "source": [
    "plt.title('Variance ratio vs centrality weight')\n",
    "plt.plot(centrality_weights, ratios)\n",
    "plt.show()"
   ]
  },
  {
   "cell_type": "code",
   "execution_count": 246,
   "metadata": {},
   "outputs": [
    {
     "name": "stderr",
     "output_type": "stream",
     "text": [
      "WARNING:datasets.arrow_dataset:Loading cached processed dataset at /root/.cache/huggingface/datasets/martingrzzler___json/martingrzzler--mnemonics_benchmark-6cc75b71b93e3c15/0.0.0/fe5dd6ea2639a6df622901539cb550cf8797e5a6b2dd7af1cf934bed8e233e6e/cache-4b0fd72d5f1bc9e0.arrow\n"
     ]
    }
   ],
   "source": [
    "ds_final = ds_scores.map(map_weighted(.9))"
   ]
  },
  {
   "cell_type": "code",
   "execution_count": 247,
   "metadata": {},
   "outputs": [
    {
     "data": {
      "text/plain": [
       "[('gpt2xl_mnemonic', 0.23193088278518922, 0.2118517887159921),\n",
       " ('gpt3_mnemonic', 0.5634341679759416, 0.24096238105114637),\n",
       " ('gpt3_paragraph', 0.4141885546136754, 0.23100421685589742),\n",
       " ('wanikani_mnemonic', 0.7039209033238236, 0.23149295284632604)]"
      ]
     },
     "execution_count": 247,
     "metadata": {},
     "output_type": "execute_result"
    }
   ],
   "source": [
    "mean_std(ds_final, 'weighted_score')"
   ]
  },
  {
   "cell_type": "code",
   "execution_count": 248,
   "metadata": {},
   "outputs": [
    {
     "data": {
      "image/png": "[encoded data removed]",
      "text/plain": [
       "<Figure size 800x600 with 1 Axes>"
      ]
     },
     "metadata": {},
     "output_type": "display_data"
    }
   ],
   "source": [
    "box_plot(ds_final, 'Final Metric', 'weighted_score')"
   ]
  },
  {
   "cell_type": "code",
   "execution_count": 249,
   "metadata": {},
   "outputs": [
    {
     "name": "stdout",
     "output_type": "stream",
     "text": [
      "(147.62586347367574, 2.6959317484307206e-75)\n"
     ]
    }
   ],
   "source": [
    "print(anova(ds_final, 'weighted_score'))"
   ]
  },
  {
   "cell_type": "code",
   "execution_count": 250,
   "metadata": {},
   "outputs": [
    {
     "name": "stdout",
     "output_type": "stream",
     "text": [
      "Tukey's HSD Pairwise Group Comparisons (95.0% Confidence Interval)\n",
      "Comparison  Statistic  p-value  Lower CI  Upper CI\n",
      " (0 - 1)     -0.332     0.000    -0.392    -0.271\n",
      " (0 - 2)     -0.182     0.000    -0.243    -0.122\n",
      " (0 - 3)     -0.472     0.000    -0.533    -0.411\n",
      " (1 - 0)      0.332     0.000     0.271     0.392\n",
      " (1 - 2)      0.149     0.000     0.089     0.210\n",
      " (1 - 3)     -0.140     0.000    -0.201    -0.080\n",
      " (2 - 0)      0.182     0.000     0.122     0.243\n",
      " (2 - 1)     -0.149     0.000    -0.210    -0.089\n",
      " (2 - 3)     -0.290     0.000    -0.350    -0.229\n",
      " (3 - 0)      0.472     0.000     0.411     0.533\n",
      " (3 - 1)      0.140     0.000     0.080     0.201\n",
      " (3 - 2)      0.290     0.000     0.229     0.350\n",
      "\n"
     ]
    }
   ],
   "source": [
    "tukey(ds_final, 'weighted_score')"
   ]
  },
  {
   "cell_type": "code",
   "execution_count": 251,
   "metadata": {},
   "outputs": [],
   "source": [
    "def print_mnemonic(key):\n",
    "    def inner(x):\n",
    "        print(x['kanji_meaning'], x['component_meanings'])\n",
    "        print(x[key+'_keywords'])\n",
    "        print(x[key])\n",
    "        print()\n",
    "    return inner"
   ]
  },
  {
   "cell_type": "code",
   "execution_count": 252,
   "metadata": {},
   "outputs": [
    {
     "name": "stdout",
     "output_type": "stream",
     "text": [
      "house roof,pig\n",
      "['pig' 'roof' 'house' 'live' 'nice' 'warm' 'deserves' 'picture' 'home'\n",
      " 'family']\n",
      "Under this <radical>roof</radical> is a <radical>pig</radical>. Your pig, because it's your <kanji>house</kanji>! You keep your pig inside where it's nice and warm. He's a member of your family, so he deserves to live in your <kanji>home</kanji> too. Picture the little pig, prancing around happily under the roof of your house.\n",
      "\n",
      "road foot,kiss\n",
      "['kiss' 'foot' 'dirt road' 'want' 'feet' 'walking' 'going'\n",
      " 'imagine kissing' 'filthy' 'sweaty']\n",
      "If you’ve been walking all day, nobody is going to want to <radical>kiss</radical> your <radical>foot</radical> if you’ve been walking barefoot down a dirt <kanji>road</kanji>. Your feet are filthy, sweaty, and stinky. Nobody is going to want to kiss those feet. Imagine kissing someone’s foot. Now imagine kissing someone’s foot after they’ve been walking down a dirt road for hours. It’s disgusting. Smell the stench of dirt and sweat wafting up into your nostrils as the foot approaches your lips. It’s wretched.\n",
      "\n"
     ]
    },
    {
     "data": {
      "text/plain": [
       "66    None\n",
       "32    None\n",
       "dtype: object"
      ]
     },
     "execution_count": 252,
     "metadata": {},
     "output_type": "execute_result"
    }
   ],
   "source": [
    "\n",
    "ds_final.to_pandas().sort_values('wanikani_mnemonic_weighted_score', ascending=False).iloc[:2].apply(print_mnemonic('wanikani_mnemonic'), axis=1)"
   ]
  },
  {
   "cell_type": "code",
   "execution_count": 253,
   "metadata": {},
   "outputs": [
    {
     "name": "stdout",
     "output_type": "stream",
     "text": [
      "both ground,head,mountain\n",
      "['great finds' 'found' 'strange things' 'find' 'mountain' 'head' 'things'\n",
      " 'dug' 'want' 'focus']\n",
      "Under the <radical>ground</radical>, which you dug into, you found two great finds. You found <kanji>both</kanji> a <radical>mountain</radical> and a <radical>head</radical>, two strange things to find underground. You'll want to focus on the part where you find <kanji>both</kanji>, not so much the things themselves. Think about how you can't believe you did so well finding both things at once. Usually you only find one or the other when you're searching.\n",
      "\n",
      "sunlight triceratops,pi\n",
      "['absorb' 'light' 'round' 'pi shaped' 'shadow' 'imagine' 'evolved' 'want'\n",
      " 'natural' 'sun']\n",
      "You see a <radical>triceratops</radical> in the distance. But, it's odd. It's perfectly <radical>pi</radical> shaped (that is, circular). Some kind of piceratops, if you will. The reason they are this shape is because they want to absorb as much <kanji>sunlight</kanji> (or just <kanji>light</kanji> is fine, too) as possible. They evolved to be round so they don't have any corners casting a shadow. Absorbing sunlight is natural for reptiles, after all. And a round one can absorb even more light. Imagine it sitting in a round spot of sun, enjoying the warmth. What a rare sight you've come across!\n",
      "\n"
     ]
    },
    {
     "data": {
      "text/plain": [
       "147    None\n",
       "122    None\n",
       "dtype: object"
      ]
     },
     "execution_count": 253,
     "metadata": {},
     "output_type": "execute_result"
    }
   ],
   "source": [
    "ds_final.to_pandas().sort_values('wanikani_mnemonic_weighted_score', ascending=True).iloc[4:6].apply(print_mnemonic('wanikani_mnemonic'), axis=1)"
   ]
  },
  {
   "cell_type": "code",
   "execution_count": 254,
   "metadata": {},
   "outputs": [
    {
     "name": "stdout",
     "output_type": "stream",
     "text": [
      "throw up mouth,dirt\n",
      "['little mouthful' 'dirt' 'college educations' 'kids' 'think' 'comes'\n",
      " 'mind' 'throw' 'important things going' 'world']\n",
      "I throw up a little mouthful of dirt when I think about it. It's the first thing that comes to my mind, even though there are so many more important things going on in this world than whether or not we've got enough money for our kids' college educations (which is an entirely separate issue). But if you ask me\n",
      "\n",
      "genius leader,spider\n",
      "['spider genius' 'leader' 'free world' 'final form' 'amy goodman'\n",
      " 'happened' 'begin today' 'copy' 'osama' 'rush transcript']\n",
      "This is a rush transcript. Copy may not be in its final form, spider genius or leader of the free world!\n",
      "\n",
      "\n",
      "AMY GOODMAN: We begin today's show with an explosive new exposé by Pulitzer Prize-winning investigative journalist Seymour Hersh detailing how President Obama and his top national security officials have repeatedly lied about what happened to Osama\n",
      "\n"
     ]
    },
    {
     "data": {
      "text/plain": [
       "53     None\n",
       "146    None\n",
       "dtype: object"
      ]
     },
     "execution_count": 254,
     "metadata": {},
     "output_type": "execute_result"
    }
   ],
   "source": [
    "ds_final.to_pandas().sort_values('gpt2xl_mnemonic_weighted_score', ascending=False).iloc[:2].apply(print_mnemonic('gpt2xl_mnemonic'), axis=1)"
   ]
  },
  {
   "cell_type": "code",
   "execution_count": 255,
   "metadata": {},
   "outputs": [
    {
     "name": "stdout",
     "output_type": "stream",
     "text": [
      "willow tree,stamp\n",
      "['willow tree' 'curious stamp collector' 'tree' 'admire' 'reminder'\n",
      " 'walking' 'day' 'meadow' 'noticed' 'stopped']\n",
      "Once upon a time, there was a willow tree in a meadow. One day, a curious stamp collector was walking by and noticed the tree. He stopped to admire the tree and marveled at its beauty. He decided to take a stamp from his collection and place it on the tree as a reminder of the moment. The willow tree will forever serve as a reminder of the stamp collector's admiration.\n",
      "\n",
      "boisterous mouth,mask\n",
      "['mask' 'boisterous young man' 'mouth' 'wore' 'loud' 'energetic' 'got'\n",
      " 'trouble' 'day' 'boisterous']\n",
      "Once upon a time, there was a boisterous young man who always wore a mask over his mouth. He was always so loud and energetic, and he was always getting himself into trouble. One day, he got so boisterous that his mask flew off and people were shocked at what was underneath. He had a big mouth full of sharp teeth and everyone ran away in fear! From then on, he was careful to keep his mouth covered with his mask, so as not to scare anyone again.\n",
      "\n"
     ]
    },
    {
     "data": {
      "text/plain": [
       "67    None\n",
       "69    None\n",
       "dtype: object"
      ]
     },
     "execution_count": 255,
     "metadata": {},
     "output_type": "execute_result"
    }
   ],
   "source": [
    "ds_final.to_pandas().sort_values('gpt3_mnemonic_weighted_score', ascending=False).iloc[:2].apply(print_mnemonic('gpt3_mnemonic'), axis=1)"
   ]
  },
  {
   "cell_type": "code",
   "execution_count": 256,
   "metadata": {},
   "outputs": [
    {
     "name": "stdout",
     "output_type": "stream",
     "text": [
      "axis car,reason\n",
      "['tried' 'way' 'wrong turn' 'remember' 'car' 'driving' 'taken' 'realize'\n",
      " 'wrong axis' 'found']\n",
      "Once upon a time, there was a man named Reason who was driving his car down the highway. He was so focused on the road ahead that he didn't realize he had taken a wrong turn and was now on the wrong axis. He tried to turn around but it was too late, and he was now hopelessly lost. He tried to remember the way he had come, but all he could remember was the car he was driving. He eventually found his way back, but it was a lesson he would never forget: always pay attention to where you're going, or you may end up\n",
      "\n",
      "trust bundle,geoduck\n",
      "['start' 'wanted' 'open' 'business' 'hard work' 'determined' 'succeed'\n",
      " 'successful shop' 'trusted' 'geoduck']\n",
      "Once upon a time there was a geoduck who wanted to start a business. He was determined to succeed, so he bundled all of his resources together and trusted that his hard work would pay off. He was eventually able to open a successful shop and became a well-respected member of the community.\n",
      "\n"
     ]
    },
    {
     "data": {
      "text/plain": [
       "180    None\n",
       "12     None\n",
       "dtype: object"
      ]
     },
     "execution_count": 256,
     "metadata": {},
     "output_type": "execute_result"
    }
   ],
   "source": [
    "ds_final.to_pandas().sort_values('gpt3_mnemonic_weighted_score', ascending=True).iloc[:2].apply(print_mnemonic('gpt3_mnemonic'), axis=1)"
   ]
  },
  {
   "cell_type": "code",
   "execution_count": 257,
   "metadata": {},
   "outputs": [
    {
     "name": "stdout",
     "output_type": "stream",
     "text": [
      "boulder mountain,stone\n",
      "['mountain' 'boulders' 'stones' 'covered' 'shapes' 'sizes'\n",
      " 'beautiful sight' 'behold' 'large' 'majestic']\n",
      "The mountain was covered in stones and boulders of all shapes and sizes. Some of the boulders were so large that they seemed to be a part of the mountain itself. It was a beautiful sight to behold, and it made the mountain look even more majestic.\n",
      "\n",
      "carp fish,village\n",
      "['small village' 'carp' 'fish' 'famous' 'abundance' 'villagers' 'morning'\n",
      " 'generation' 'lake' 'catch carp']\n",
      "The small village was famous for its abundance of fish, particularly carp. Every morning, the villagers would go out to the lake and catch carp for their breakfast. It was a tradition that had been passed down from generation to generation, and the villagers were proud of their fishing heritage.\n",
      "\n"
     ]
    },
    {
     "data": {
      "text/plain": [
       "115    None\n",
       "174    None\n",
       "dtype: object"
      ]
     },
     "execution_count": 257,
     "metadata": {},
     "output_type": "execute_result"
    }
   ],
   "source": [
    "ds_final.to_pandas().sort_values('gpt3_paragraph_weighted_score', ascending=False).iloc[:2].apply(print_mnemonic('gpt3_paragraph'), axis=1)"
   ]
  },
  {
   "cell_type": "code",
   "execution_count": 258,
   "metadata": {},
   "outputs": [
    {
     "name": "stdout",
     "output_type": "stream",
     "text": [
      "past dirt,private\n",
      "['think' 'like' 'try' 'hard' 'buried' 'forget' 'sight' 'private past'\n",
      " 'dirt']\n",
      "The dirt of my private past is something I don't like to think about. I try to keep it buried and out of sight, but sometimes it is hard to forget.\n",
      "\n",
      "poison life,window\n",
      "['let' 'opened' 'light' 'poison' 'choose' 'comes' 'window' 'life' 'react']\n",
      "Life is like a window, it can be opened to let in light, or it can be opened to let in poison. It is up to us to choose what comes in, and how we react to it.\n",
      "\n"
     ]
    },
    {
     "data": {
      "text/plain": [
       "47     None\n",
       "178    None\n",
       "dtype: object"
      ]
     },
     "execution_count": 258,
     "metadata": {},
     "output_type": "execute_result"
    }
   ],
   "source": [
    "ds_final.to_pandas().sort_values('gpt3_paragraph_weighted_score', ascending=True).iloc[:2].apply(print_mnemonic('gpt3_paragraph'), axis=1)"
   ]
  }
 ],
 "metadata": {
  "kernelspec": {
   "display_name": "Python 3",
   "language": "python",
   "name": "python3"
  },
  "language_info": {
   "codemirror_mode": {
    "name": "ipython",
    "version": 3
   },
   "file_extension": ".py",
   "mimetype": "text/x-python",
   "name": "python",
   "nbconvert_exporter": "python",
   "pygments_lexer": "ipython3",
   "version": "3.9.16"
  },
  "orig_nbformat": 4
 },
 "nbformat": 4,
 "nbformat_minor": 2
}
