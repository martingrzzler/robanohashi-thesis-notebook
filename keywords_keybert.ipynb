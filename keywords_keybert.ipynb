{
 "cells": [
  {
   "cell_type": "code",
   "execution_count": 1,
   "metadata": {},
   "outputs": [],
   "source": [
    "%pip install pytextrank -q"
   ]
  },
  {
   "cell_type": "code",
   "execution_count": 2,
   "metadata": {},
   "outputs": [],
   "source": [
    "%pip install keybert -q"
   ]
  },
  {
   "cell_type": "code",
   "execution_count": 3,
   "metadata": {},
   "outputs": [
    {
     "name": "stdout",
     "output_type": "stream",
     "text": [
      "\u001b[2K     \u001b[90m━━━━━━━━━━━━━━━━━━━━━━━━━━━━━━━━━━━━━━\u001b[0m \u001b[32m468.7/468.7 KB\u001b[0m \u001b[31m13.4 MB/s\u001b[0m eta \u001b[36m0:00:00\u001b[0m00:01\u001b[0m\n",
      "\u001b[2K     \u001b[90m━━━━━━━━━━━━━━━━━━━━━━━━━━━━━━━━━━━━━━\u001b[0m \u001b[32m212.2/212.2 KB\u001b[0m \u001b[31m19.3 MB/s\u001b[0m eta \u001b[36m0:00:00\u001b[0m\n",
      "\u001b[2K     \u001b[90m━━━━━━━━━━━━━━━━━━━━━━━━━━━━━━━━━━━━━━\u001b[0m \u001b[32m110.5/110.5 KB\u001b[0m \u001b[31m12.0 MB/s\u001b[0m eta \u001b[36m0:00:00\u001b[0m\n",
      "\u001b[2K     \u001b[90m━━━━━━━━━━━━━━━━━━━━━━━━━━━━━━━━━━━━━━\u001b[0m \u001b[32m132.9/132.9 KB\u001b[0m \u001b[31m10.1 MB/s\u001b[0m eta \u001b[36m0:00:00\u001b[0m\n",
      "\u001b[2K     \u001b[90m━━━━━━━━━━━━━━━━━━━━━━━━━━━━━━━━━━━━━━━━\u001b[0m \u001b[32m1.0/1.0 MB\u001b[0m \u001b[31m52.4 MB/s\u001b[0m eta \u001b[36m0:00:00\u001b[0m\n",
      "\u001b[2K     \u001b[90m━━━━━━━━━━━━━━━━━━━━━━━━━━━━━━━━━━━━━━\u001b[0m \u001b[32m158.8/158.8 KB\u001b[0m \u001b[31m17.5 MB/s\u001b[0m eta \u001b[36m0:00:00\u001b[0m\n",
      "\u001b[2K     \u001b[90m━━━━━━━━━━━━━━━━━━━━━━━━━━━━━━━━━━━━━━\u001b[0m \u001b[32m264.6/264.6 KB\u001b[0m \u001b[31m24.2 MB/s\u001b[0m eta \u001b[36m0:00:00\u001b[0m\n",
      "\u001b[2K     \u001b[90m━━━━━━━━━━━━━━━━━━━━━━━━━━━━━━━━━━━━━━\u001b[0m \u001b[32m114.2/114.2 KB\u001b[0m \u001b[31m13.0 MB/s\u001b[0m eta \u001b[36m0:00:00\u001b[0m\n",
      "\u001b[?25h"
     ]
    }
   ],
   "source": [
    "%pip install datasets transformers -q"
   ]
  },
  {
   "cell_type": "code",
   "execution_count": 3,
   "metadata": {},
   "outputs": [
    {
     "name": "stdout",
     "output_type": "stream",
     "text": [
      "  Preparing metadata (setup.py) ... \u001b[?25l\u001b[?25hdone\n",
      "\u001b[2K     \u001b[90m━━━━━━━━━━━━━━━━━━━━━━━━━━━━━━━━━━━━━━━━\u001b[0m \u001b[32m1.2/1.2 MB\u001b[0m \u001b[31m69.0 MB/s\u001b[0m eta \u001b[36m0:00:00\u001b[0m\n",
      "\u001b[?25h  Building wheel for yake (setup.py) ... \u001b[?25l\u001b[?25hdone\n"
     ]
    }
   ],
   "source": [
    "%pip install pip install git+https://github.com/LIAAD/yake -q"
   ]
  },
  {
   "cell_type": "code",
   "execution_count": 4,
   "metadata": {},
   "outputs": [
    {
     "data": {
      "application/vnd.jupyter.widget-view+json": {
       "model_id": "560c13374f1c496eadf8ca34fff08f7e",
       "version_major": 2,
       "version_minor": 0
      },
      "text/plain": [
       "Downloading readme:   0%|          | 0.00/131 [00:00<?, ?B/s]"
      ]
     },
     "metadata": {},
     "output_type": "display_data"
    },
    {
     "name": "stdout",
     "output_type": "stream",
     "text": [
      "Downloading and preparing dataset json/martingrzzler--mnemonics_benchmark to /root/.cache/huggingface/datasets/martingrzzler___json/martingrzzler--mnemonics_benchmark-6cc75b71b93e3c15/0.0.0/fe5dd6ea2639a6df622901539cb550cf8797e5a6b2dd7af1cf934bed8e233e6e...\n"
     ]
    },
    {
     "data": {
      "application/vnd.jupyter.widget-view+json": {
       "model_id": "2ad4e864375a40bba63c9c1204c270c7",
       "version_major": 2,
       "version_minor": 0
      },
      "text/plain": [
       "Downloading data files:   0%|          | 0/1 [00:00<?, ?it/s]"
      ]
     },
     "metadata": {},
     "output_type": "display_data"
    },
    {
     "data": {
      "application/vnd.jupyter.widget-view+json": {
       "model_id": "0c34b4eb5af2418dade945e5b9893c3d",
       "version_major": 2,
       "version_minor": 0
      },
      "text/plain": [
       "Downloading data:   0%|          | 0.00/274k [00:00<?, ?B/s]"
      ]
     },
     "metadata": {},
     "output_type": "display_data"
    },
    {
     "data": {
      "application/vnd.jupyter.widget-view+json": {
       "model_id": "aa1f6760e4404baba924d70b7c80ea09",
       "version_major": 2,
       "version_minor": 0
      },
      "text/plain": [
       "Extracting data files:   0%|          | 0/1 [00:00<?, ?it/s]"
      ]
     },
     "metadata": {},
     "output_type": "display_data"
    },
    {
     "data": {
      "application/vnd.jupyter.widget-view+json": {
       "model_id": "febe133b3aff4300882d3dd31dd24735",
       "version_major": 2,
       "version_minor": 0
      },
      "text/plain": [
       "Generating train split: 0 examples [00:00, ? examples/s]"
      ]
     },
     "metadata": {},
     "output_type": "display_data"
    },
    {
     "name": "stdout",
     "output_type": "stream",
     "text": [
      "Dataset json downloaded and prepared to /root/.cache/huggingface/datasets/martingrzzler___json/martingrzzler--mnemonics_benchmark-6cc75b71b93e3c15/0.0.0/fe5dd6ea2639a6df622901539cb550cf8797e5a6b2dd7af1cf934bed8e233e6e. Subsequent calls will reuse this data.\n"
     ]
    },
    {
     "data": {
      "application/vnd.jupyter.widget-view+json": {
       "model_id": "622a3fe341fd45cca816f224160ecb11",
       "version_major": 2,
       "version_minor": 0
      },
      "text/plain": [
       "  0%|          | 0/1 [00:00<?, ?it/s]"
      ]
     },
     "metadata": {},
     "output_type": "display_data"
    }
   ],
   "source": [
    "from datasets import load_dataset\n",
    "\n",
    "ds = load_dataset(\"martingrzzler/mnemonics_benchmark\")"
   ]
  },
  {
   "cell_type": "code",
   "execution_count": 5,
   "metadata": {},
   "outputs": [],
   "source": [
    "import torch\n",
    "\n",
    "device = \"cuda\" if torch.cuda.is_available() else \"cpu\""
   ]
  },
  {
   "cell_type": "code",
   "execution_count": 6,
   "metadata": {},
   "outputs": [
    {
     "data": {
      "application/vnd.jupyter.widget-view+json": {
       "model_id": "6b26b0cbccc44131b29c2a0ce85cfdf8",
       "version_major": 2,
       "version_minor": 0
      },
      "text/plain": [
       "Downloading (…)solve/main/vocab.txt:   0%|          | 0.00/232k [00:00<?, ?B/s]"
      ]
     },
     "metadata": {},
     "output_type": "display_data"
    },
    {
     "data": {
      "application/vnd.jupyter.widget-view+json": {
       "model_id": "7f5a1c357d0a4be7a3752a7f6a4ec3dc",
       "version_major": 2,
       "version_minor": 0
      },
      "text/plain": [
       "Downloading (…)okenizer_config.json:   0%|          | 0.00/28.0 [00:00<?, ?B/s]"
      ]
     },
     "metadata": {},
     "output_type": "display_data"
    },
    {
     "data": {
      "application/vnd.jupyter.widget-view+json": {
       "model_id": "0deb6d04b9f6488c96c6b7e486944460",
       "version_major": 2,
       "version_minor": 0
      },
      "text/plain": [
       "Downloading (…)lve/main/config.json:   0%|          | 0.00/483 [00:00<?, ?B/s]"
      ]
     },
     "metadata": {},
     "output_type": "display_data"
    },
    {
     "data": {
      "application/vnd.jupyter.widget-view+json": {
       "model_id": "a9ba472c3dc4481ab55a8cc144ae1d21",
       "version_major": 2,
       "version_minor": 0
      },
      "text/plain": [
       "Downloading (…)lve/main/config.json:   0%|          | 0.00/676 [00:00<?, ?B/s]"
      ]
     },
     "metadata": {},
     "output_type": "display_data"
    },
    {
     "data": {
      "application/vnd.jupyter.widget-view+json": {
       "model_id": "6458ee07633b4650884641e5a87fd3c0",
       "version_major": 2,
       "version_minor": 0
      },
      "text/plain": [
       "Downloading pytorch_model.bin:   0%|          | 0.00/268M [00:00<?, ?B/s]"
      ]
     },
     "metadata": {},
     "output_type": "display_data"
    }
   ],
   "source": [
    "from transformers import DistilBertTokenizer, DistilBertForSequenceClassification\n",
    "\n",
    "tokenizer = DistilBertTokenizer.from_pretrained(\"distilbert-base-uncased\")\n",
    "model = DistilBertForSequenceClassification.from_pretrained(\"martingrzzler/distilbert-phrase-word-concreteness\").to(device)"
   ]
  },
  {
   "cell_type": "code",
   "execution_count": 7,
   "metadata": {},
   "outputs": [],
   "source": [
    "def predict_concreteness(text):\n",
    "    inputs = tokenizer(text, return_tensors=\"pt\", truncation=True, padding='max_length', max_length=50).to(device)\n",
    "    inputs.to(device)\n",
    "    outputs = model(**inputs)\n",
    "    return outputs.logits.item()"
   ]
  },
  {
   "cell_type": "code",
   "execution_count": 8,
   "metadata": {},
   "outputs": [
    {
     "data": {
      "text/plain": [
       "['woman', 'catapult', 'recreation']"
      ]
     },
     "execution_count": 8,
     "metadata": {},
     "output_type": "execute_result"
    }
   ],
   "source": [
    "input_words = ds['train'][0]['component_meanings'].split(',') + [ds['train'][0]['kanji_meaning']]\n",
    "input_words"
   ]
  },
  {
   "cell_type": "code",
   "execution_count": 9,
   "metadata": {},
   "outputs": [],
   "source": [
    "import nltk\n",
    "stemmer = nltk.stem.PorterStemmer()\n",
    "\n",
    "def input_in_keyphrase(input_words, keyphrase):\n",
    "    input_stems = set([stemmer.stem(word) for word in input_words])\n",
    "    keyphrase_stems = set([stemmer.stem(word) for word in keyphrase.split()])\n",
    "\n",
    "    return len(input_stems & keyphrase_stems) > 0 \n"
   ]
  },
  {
   "cell_type": "code",
   "execution_count": 11,
   "metadata": {},
   "outputs": [],
   "source": [
    "import re\n",
    "from keybert import KeyBERT\n",
    "\n",
    "kw_model = KeyBERT()\n",
    "\n",
    "\n",
    "def get_keyphrases(text):\n",
    "    text = re.sub(r'<.*?>', '', text)\n",
    "    kws = kw_model.extract_keywords(text, keyphrase_ngram_range=(1, 1))\n",
    "    return [kw[0] for kw in kws]"
   ]
  },
  {
   "cell_type": "code",
   "execution_count": 12,
   "metadata": {},
   "outputs": [],
   "source": [
    "import numpy as np\n",
    "def keyphrase_score(text, input_words):\n",
    "    keyphrases = get_keyphrases(text)\n",
    "    scores = []\n",
    "    for keyphrase in keyphrases:\n",
    "        scores.append(predict_concreteness(keyphrase) * .5 + int(input_in_keyphrase(input_words, keyphrase) * .5))\n",
    "\n",
    "    return np.average(scores, weights=1/np.arange(1, len(scores) + 1))"
   ]
  },
  {
   "cell_type": "code",
   "execution_count": 13,
   "metadata": {},
   "outputs": [],
   "source": [
    "sample_index = 14\n",
    "keys = ['gpt2xl_mnemonic', 'wanikani_mnemonic', 'gpt3_mnemonic', 'gpt3_paragraph']"
   ]
  },
  {
   "cell_type": "code",
   "execution_count": 14,
   "metadata": {},
   "outputs": [],
   "source": [
    "def get_input_words(sample_index):\n",
    "    return ds['train'][sample_index]['component_meanings'].split(',') + [ds['train'][sample_index]['kanji_meaning']]"
   ]
  },
  {
   "cell_type": "code",
   "execution_count": 15,
   "metadata": {},
   "outputs": [
    {
     "name": "stdout",
     "output_type": "stream",
     "text": [
      "['net', 'say', 'knife', 'penalty']\n",
      "gpt2xl_mnemonic 0.2938450535718542\n",
      "wanikani_mnemonic 0.3812891562489698\n",
      "gpt3_mnemonic 0.3683285634883129\n",
      "gpt3_paragraph 0.2669803506701532\n"
     ]
    }
   ],
   "source": [
    "print(get_input_words(sample_index))\n",
    "for key in keys:\n",
    "    print(key, keyphrase_score(ds['train'][sample_index][key], get_input_words(sample_index)))"
   ]
  },
  {
   "cell_type": "code",
   "execution_count": 16,
   "metadata": {},
   "outputs": [],
   "source": [
    "def keyword_overlap_score(text, input_words):\n",
    "    keyphrases = get_keyphrases(text)\n",
    "    scores = []\n",
    "    for keyphrase in keyphrases:\n",
    "        scores.append(int(input_in_keyphrase(input_words, keyphrase)))\n",
    "\n",
    "    return np.average(scores, weights=1/np.arange(1, len(scores) + 1))"
   ]
  },
  {
   "cell_type": "code",
   "execution_count": 17,
   "metadata": {},
   "outputs": [],
   "source": [
    "def map_keyword_overlap_score(example):\n",
    "    input_words = example['component_meanings'].split(',') + [example['kanji_meaning']]\n",
    "    for key in keys:\n",
    "        example[f'{key}_overlap_score'] = keyword_overlap_score(example[key], input_words)\n",
    "    return example"
   ]
  },
  {
   "cell_type": "code",
   "execution_count": 18,
   "metadata": {},
   "outputs": [
    {
     "data": {
      "application/vnd.jupyter.widget-view+json": {
       "model_id": "59ecf6ba9e3b4989b0123084439a1748",
       "version_major": 2,
       "version_minor": 0
      },
      "text/plain": [
       "Map:   0%|          | 0/190 [00:00<?, ? examples/s]"
      ]
     },
     "metadata": {},
     "output_type": "display_data"
    }
   ],
   "source": [
    "ds_overlap = ds['train'].map(map_keyword_overlap_score)"
   ]
  },
  {
   "cell_type": "code",
   "execution_count": 19,
   "metadata": {},
   "outputs": [
    {
     "data": {
      "image/png": "[encoded data removed]",
      "text/plain": [
       "<Figure size 640x480 with 1 Axes>"
      ]
     },
     "metadata": {},
     "output_type": "display_data"
    }
   ],
   "source": [
    "import matplotlib.pyplot as plt\n",
    "\n",
    "fig, ax = plt.subplots()\n",
    "ax.set_title('Keyword Overlap Score')\n",
    "ax.boxplot([ds_overlap[f'{key}_overlap_score'] for key in keys])\n",
    "ax.set_xticklabels(keys)\n",
    "plt.show()"
   ]
  },
  {
   "cell_type": "code",
   "execution_count": 20,
   "metadata": {},
   "outputs": [
    {
     "name": "stdout",
     "output_type": "stream",
     "text": [
      "123.6952218271649 3.491991446766124e-65\n"
     ]
    }
   ],
   "source": [
    "from scipy.stats import f_oneway\n",
    "\n",
    "f, p = f_oneway(*[ds_overlap[f'{key}_overlap_score'] for key in keys])\n",
    "print(f, p)"
   ]
  },
  {
   "cell_type": "code",
   "execution_count": 21,
   "metadata": {},
   "outputs": [
    {
     "name": "stdout",
     "output_type": "stream",
     "text": [
      "Tukey's HSD Pairwise Group Comparisons (95.0% Confidence Interval)\n",
      "Comparison  Statistic  p-value  Lower CI  Upper CI\n",
      " (0 - 1)     -0.446     0.000    -0.507    -0.385\n",
      " (0 - 2)     -0.276     0.000    -0.337    -0.214\n",
      " (0 - 3)     -0.308     0.000    -0.369    -0.247\n",
      " (1 - 0)      0.446     0.000     0.385     0.507\n",
      " (1 - 2)      0.170     0.000     0.109     0.231\n",
      " (1 - 3)      0.138     0.000     0.076     0.199\n",
      " (2 - 0)      0.276     0.000     0.214     0.337\n",
      " (2 - 1)     -0.170     0.000    -0.231    -0.109\n",
      " (2 - 3)     -0.033     0.517    -0.094     0.029\n",
      " (3 - 0)      0.308     0.000     0.247     0.369\n",
      " (3 - 1)     -0.138     0.000    -0.199    -0.076\n",
      " (3 - 2)      0.033     0.517    -0.029     0.094\n",
      "\n"
     ]
    }
   ],
   "source": [
    "from scipy.stats import tukey_hsd\n",
    "\n",
    "data = [ds_overlap[f'{key}_overlap_score'] for key in keys]\n",
    "\n",
    "res = tukey_hsd(*[ds_overlap[f'{key}_overlap_score'] for key in keys])\n",
    "print(res)"
   ]
  },
  {
   "cell_type": "code",
   "execution_count": 22,
   "metadata": {},
   "outputs": [],
   "source": [
    "def keyword_concreteness_score(text):\n",
    "    keyphrases = get_keyphrases(text)\n",
    "    scores = []\n",
    "    for keyphrase in keyphrases:\n",
    "        scores.append(predict_concreteness(keyphrase))\n",
    "\n",
    "    return np.average(scores, weights=1/np.arange(1, len(scores) + 1))"
   ]
  },
  {
   "cell_type": "code",
   "execution_count": 23,
   "metadata": {},
   "outputs": [],
   "source": [
    "def map_keyword_concreteness_score(example):\n",
    "    for key in keys:\n",
    "        example[f'{key}_concreteness_score'] = keyword_concreteness_score(example[key])\n",
    "    return example"
   ]
  },
  {
   "cell_type": "code",
   "execution_count": 24,
   "metadata": {},
   "outputs": [
    {
     "data": {
      "application/vnd.jupyter.widget-view+json": {
       "model_id": "f41ce53ae973447d91a43686b1376f3c",
       "version_major": 2,
       "version_minor": 0
      },
      "text/plain": [
       "Map:   0%|          | 0/190 [00:00<?, ? examples/s]"
      ]
     },
     "metadata": {},
     "output_type": "display_data"
    }
   ],
   "source": [
    "ds_concreteness = ds['train'].map(map_keyword_concreteness_score)"
   ]
  },
  {
   "cell_type": "code",
   "execution_count": 25,
   "metadata": {},
   "outputs": [
    {
     "name": "stdout",
     "output_type": "stream",
     "text": [
      "1.6040522308858116 0.1870357919562599\n"
     ]
    }
   ],
   "source": [
    "f, p = f_oneway(*[ds_concreteness[f'{key}_concreteness_score'] for key in keys])\n",
    "\n",
    "print(f, p)"
   ]
  },
  {
   "cell_type": "code",
   "execution_count": 26,
   "metadata": {},
   "outputs": [
    {
     "data": {
      "image/png": "[encoded data removed]",
      "text/plain": [
       "<Figure size 640x480 with 1 Axes>"
      ]
     },
     "metadata": {},
     "output_type": "display_data"
    }
   ],
   "source": [
    "fig, ax = plt.subplots()\n",
    "ax.set_title('Keyword Concreteness Score')\n",
    "ax.boxplot([ds_concreteness[f'{key}_concreteness_score'] for key in keys])\n",
    "ax.set_xticklabels(keys)\n",
    "plt.show()"
   ]
  },
  {
   "cell_type": "code",
   "execution_count": 27,
   "metadata": {},
   "outputs": [
    {
     "name": "stdout",
     "output_type": "stream",
     "text": [
      "Tukey's HSD Pairwise Group Comparisons (95.0% Confidence Interval)\n",
      "Comparison  Statistic  p-value  Lower CI  Upper CI\n",
      " (0 - 1)     -0.025     0.289    -0.062     0.012\n",
      " (0 - 2)     -0.002     0.999    -0.039     0.035\n",
      " (0 - 3)     -0.021     0.475    -0.058     0.016\n",
      " (1 - 0)      0.025     0.289    -0.012     0.062\n",
      " (1 - 2)      0.023     0.368    -0.014     0.060\n",
      " (1 - 3)      0.005     0.988    -0.032     0.042\n",
      " (2 - 0)      0.002     0.999    -0.035     0.039\n",
      " (2 - 1)     -0.023     0.368    -0.060     0.014\n",
      " (2 - 3)     -0.019     0.569    -0.056     0.018\n",
      " (3 - 0)      0.021     0.475    -0.016     0.058\n",
      " (3 - 1)     -0.005     0.988    -0.042     0.032\n",
      " (3 - 2)      0.019     0.569    -0.018     0.056\n",
      "\n"
     ]
    }
   ],
   "source": [
    "res = tukey_hsd(*[ds_concreteness[f'{key}_concreteness_score'] for key in keys])\n",
    "print(res)"
   ]
  },
  {
   "cell_type": "code",
   "execution_count": 28,
   "metadata": {},
   "outputs": [],
   "source": [
    "def map_keyword_score(example):\n",
    "    input_words = example['component_meanings'].split(',') + [example['kanji_meaning']]\n",
    "    for key in keys:\n",
    "        example[f'{key}_score'] = keyphrase_score(example[key], input_words)\n",
    "    return example"
   ]
  },
  {
   "cell_type": "code",
   "execution_count": 29,
   "metadata": {},
   "outputs": [
    {
     "data": {
      "application/vnd.jupyter.widget-view+json": {
       "model_id": "08bd68df726844d3ab88fa8ae0c0d6a4",
       "version_major": 2,
       "version_minor": 0
      },
      "text/plain": [
       "Map:   0%|          | 0/190 [00:00<?, ? examples/s]"
      ]
     },
     "metadata": {},
     "output_type": "display_data"
    }
   ],
   "source": [
    "ds_combined = ds['train'].map(map_keyword_score)"
   ]
  },
  {
   "cell_type": "code",
   "execution_count": 30,
   "metadata": {},
   "outputs": [
    {
     "name": "stdout",
     "output_type": "stream",
     "text": [
      "1.6040522308858116 0.1870357919562599\n"
     ]
    }
   ],
   "source": [
    "f, p = f_oneway(*[ds_combined[f'{key}_score'] for key in keys])\n",
    "\n",
    "print(f, p)"
   ]
  },
  {
   "cell_type": "code",
   "execution_count": 31,
   "metadata": {},
   "outputs": [
    {
     "data": {
      "image/png": "[encoded data removed]",
      "text/plain": [
       "<Figure size 640x480 with 1 Axes>"
      ]
     },
     "metadata": {},
     "output_type": "display_data"
    }
   ],
   "source": [
    "fig, ax = plt.subplots()\n",
    "ax.set_title('Keyword Score')\n",
    "ax.boxplot([ds_combined[f'{key}_score'] for key in keys])\n",
    "ax.set_xticklabels(keys)\n",
    "plt.show()"
   ]
  },
  {
   "cell_type": "code",
   "execution_count": 32,
   "metadata": {},
   "outputs": [
    {
     "data": {
      "application/vnd.jupyter.widget-view+json": {
       "model_id": "39dc9261fba04859a7bdaa9c7d560146",
       "version_major": 2,
       "version_minor": 0
      },
      "text/plain": [
       "Downloading (…)lve/main/config.json:   0%|          | 0.00/676 [00:00<?, ?B/s]"
      ]
     },
     "metadata": {},
     "output_type": "display_data"
    },
    {
     "data": {
      "application/vnd.jupyter.widget-view+json": {
       "model_id": "951a28af4c3f4f7faf832c17c8e3e81f",
       "version_major": 2,
       "version_minor": 0
      },
      "text/plain": [
       "Downloading pytorch_model.bin:   0%|          | 0.00/268M [00:00<?, ?B/s]"
      ]
     },
     "metadata": {},
     "output_type": "display_data"
    }
   ],
   "source": [
    "ser_model = DistilBertForSequenceClassification.from_pretrained(\"martingrzzler/distilbert-sensory-modality\").to(device)"
   ]
  },
  {
   "cell_type": "code",
   "execution_count": 33,
   "metadata": {},
   "outputs": [],
   "source": [
    "def predict_sensory_modality(text):\n",
    "    inputs = tokenizer(text, return_tensors=\"pt\", truncation=True, padding='max_length', max_length=10).to(device)\n",
    "    inputs.to(device)\n",
    "    outputs = ser_model(**inputs)\n",
    "    return outputs.logits.item()"
   ]
  },
  {
   "cell_type": "code",
   "execution_count": 34,
   "metadata": {},
   "outputs": [],
   "source": [
    "# this model was trained on single words\n",
    "def keyphrase_sensory_modality_score(text):\n",
    "    keyphrases = get_keyphrases(text)\n",
    "    scores = []\n",
    "    for keyphrase in keyphrases:\n",
    "        keywords = keyphrase.split(' ')\n",
    "        word_scores = [predict_sensory_modality(word.lower()) for word in keywords]\n",
    "\n",
    "        scores.append(np.mean(word_scores))\n",
    "\n",
    "    return np.average(scores, weights=1/np.arange(1, len(scores) + 1))"
   ]
  },
  {
   "cell_type": "code",
   "execution_count": 35,
   "metadata": {},
   "outputs": [],
   "source": [
    "def map_keyword_sensory_modality_score(example):\n",
    "    for key in keys:\n",
    "        example[f'{key}_sensory_modality_score'] = keyphrase_sensory_modality_score(example[key])\n",
    "    return example"
   ]
  },
  {
   "cell_type": "code",
   "execution_count": 36,
   "metadata": {},
   "outputs": [
    {
     "data": {
      "text/plain": [
       "{'kanji_id': 1885,\n",
       " 'component_meanings': 'woman,catapult',\n",
       " 'wanikani_mnemonic': \"A <radical>woman</radical> loves her <radical>catapult</radical> for some good ol' fashioned <kanji>recreation</kanji>. You ask the woman what she does for fun... for recreation. She says, she goes out and shoots her catapult.\",\n",
       " 'kanji_meaning': 'recreation',\n",
       " 'gpt2xl_mnemonic': \"This is a rush transcript. Copy may not be in its final form, recreation of woman being catapulted to her death has been edited out.)\\n\\n\\nAMY GOODMAN: We begin today's show with the shocking news that two women have died after jumping from an overpass near Los Angeles International Airport and landing on I-5 southbound just before\",\n",
       " 'gpt3_paragraph': 'A woman was using a catapult for recreation in her backyard. She was having a blast launching objects into the air and watching them fly. She was enjoying the peacefulness of the moment and the satisfaction of her successful shots.',\n",
       " 'gpt3_mnemonic': \"Once upon a time there was a woman who wanted to recreate her childhood memories of playing with a catapult. She went to the local store to buy one, but instead she found a cute little white cat that she just couldn't resist. She decided to take the cat home and name him Catapult. From then on, the woman and Catapult would have fun together playing games and recreating her childhood memories.\",\n",
       " 'gpt2xl_mnemonic_sensory_modality_score': 0.4804243493254167,\n",
       " 'wanikani_mnemonic_sensory_modality_score': 0.5552871266420741,\n",
       " 'gpt3_mnemonic_sensory_modality_score': 0.4648277870494954,\n",
       " 'gpt3_paragraph_sensory_modality_score': 0.5544339061653526}"
      ]
     },
     "execution_count": 36,
     "metadata": {},
     "output_type": "execute_result"
    }
   ],
   "source": [
    "map_keyword_sensory_modality_score(ds['train'][0])"
   ]
  },
  {
   "cell_type": "code",
   "execution_count": 37,
   "metadata": {},
   "outputs": [
    {
     "data": {
      "application/vnd.jupyter.widget-view+json": {
       "model_id": "80b90af751154baab96a5886a2c0b721",
       "version_major": 2,
       "version_minor": 0
      },
      "text/plain": [
       "Map:   0%|          | 0/190 [00:00<?, ? examples/s]"
      ]
     },
     "metadata": {},
     "output_type": "display_data"
    }
   ],
   "source": [
    "ds_ser = ds['train'].map(map_keyword_sensory_modality_score)"
   ]
  },
  {
   "cell_type": "code",
   "execution_count": 38,
   "metadata": {},
   "outputs": [
    {
     "name": "stdout",
     "output_type": "stream",
     "text": [
      "3.2241897567942432 0.022113042246614437\n"
     ]
    }
   ],
   "source": [
    "f, p = f_oneway(*[ds_ser[f'{key}_sensory_modality_score'] for key in keys])\n",
    "\n",
    "print(f, p)"
   ]
  },
  {
   "cell_type": "code",
   "execution_count": 39,
   "metadata": {},
   "outputs": [
    {
     "data": {
      "image/png": "[encoded data removed]",
      "text/plain": [
       "<Figure size 640x480 with 1 Axes>"
      ]
     },
     "metadata": {},
     "output_type": "display_data"
    }
   ],
   "source": [
    "fig, ax = plt.subplots()\n",
    "ax.set_title('Keyword Sensory Modality Score')\n",
    "ax.boxplot([ds_ser[f'{key}_sensory_modality_score'] for key in keys])\n",
    "ax.set_xticklabels(keys)\n",
    "plt.show()"
   ]
  },
  {
   "cell_type": "code",
   "execution_count": 40,
   "metadata": {},
   "outputs": [
    {
     "data": {
      "application/vnd.jupyter.widget-view+json": {
       "model_id": "78226864b59440c2a9941637fd871669",
       "version_major": 2,
       "version_minor": 0
      },
      "text/plain": [
       "Downloading (…)lve/main/config.json:   0%|          | 0.00/676 [00:00<?, ?B/s]"
      ]
     },
     "metadata": {},
     "output_type": "display_data"
    },
    {
     "data": {
      "application/vnd.jupyter.widget-view+json": {
       "model_id": "7433e7c8c01e4e55b4535f573a81cd9d",
       "version_major": 2,
       "version_minor": 0
      },
      "text/plain": [
       "Downloading pytorch_model.bin:   0%|          | 0.00/268M [00:00<?, ?B/s]"
      ]
     },
     "metadata": {},
     "output_type": "display_data"
    }
   ],
   "source": [
    "img_model = DistilBertForSequenceClassification.from_pretrained(\"martingrzzler/distilbert-imageability\").to(device)"
   ]
  },
  {
   "cell_type": "code",
   "execution_count": 41,
   "metadata": {},
   "outputs": [],
   "source": [
    "def predict_imageability(text):\n",
    "    inputs = tokenizer(text, return_tensors=\"pt\", truncation=True, padding='max_length', max_length=10).to(device)\n",
    "    inputs.to(device)\n",
    "    outputs = img_model(**inputs)\n",
    "    return outputs.logits.item()"
   ]
  },
  {
   "cell_type": "code",
   "execution_count": 42,
   "metadata": {},
   "outputs": [],
   "source": [
    "def keyword_imageability_score(text):\n",
    "    keyphrases = get_keyphrases(text)\n",
    "    scores = []\n",
    "    for keyphrase in keyphrases:\n",
    "        keywords = keyphrase.split(' ')\n",
    "        word_scores = [predict_imageability(word.lower()) for word in keywords]\n",
    "\n",
    "        scores.append(np.mean(word_scores))\n",
    "\n",
    "    return np.average(scores, weights=1/np.arange(1, len(scores) + 1))"
   ]
  },
  {
   "cell_type": "code",
   "execution_count": 43,
   "metadata": {},
   "outputs": [],
   "source": [
    "def map_keyword_imageability_score(example):\n",
    "    for key in keys:\n",
    "        example[f'{key}_imageability_score'] = keyword_imageability_score(example[key])\n",
    "    return example"
   ]
  },
  {
   "cell_type": "code",
   "execution_count": 44,
   "metadata": {},
   "outputs": [
    {
     "data": {
      "text/plain": [
       "{'kanji_id': 1885,\n",
       " 'component_meanings': 'woman,catapult',\n",
       " 'wanikani_mnemonic': \"A <radical>woman</radical> loves her <radical>catapult</radical> for some good ol' fashioned <kanji>recreation</kanji>. You ask the woman what she does for fun... for recreation. She says, she goes out and shoots her catapult.\",\n",
       " 'kanji_meaning': 'recreation',\n",
       " 'gpt2xl_mnemonic': \"This is a rush transcript. Copy may not be in its final form, recreation of woman being catapulted to her death has been edited out.)\\n\\n\\nAMY GOODMAN: We begin today's show with the shocking news that two women have died after jumping from an overpass near Los Angeles International Airport and landing on I-5 southbound just before\",\n",
       " 'gpt3_paragraph': 'A woman was using a catapult for recreation in her backyard. She was having a blast launching objects into the air and watching them fly. She was enjoying the peacefulness of the moment and the satisfaction of her successful shots.',\n",
       " 'gpt3_mnemonic': \"Once upon a time there was a woman who wanted to recreate her childhood memories of playing with a catapult. She went to the local store to buy one, but instead she found a cute little white cat that she just couldn't resist. She decided to take the cat home and name him Catapult. From then on, the woman and Catapult would have fun together playing games and recreating her childhood memories.\",\n",
       " 'gpt2xl_mnemonic_imageability_score': 0.5644662758729755,\n",
       " 'wanikani_mnemonic_imageability_score': 0.7456161901898628,\n",
       " 'gpt3_mnemonic_imageability_score': 0.7372789269816267,\n",
       " 'gpt3_paragraph_imageability_score': 0.783680312389875}"
      ]
     },
     "execution_count": 44,
     "metadata": {},
     "output_type": "execute_result"
    }
   ],
   "source": [
    "map_keyword_imageability_score(ds['train'][0])"
   ]
  },
  {
   "cell_type": "code",
   "execution_count": 45,
   "metadata": {},
   "outputs": [
    {
     "data": {
      "application/vnd.jupyter.widget-view+json": {
       "model_id": "85fe73b21c8d4884989bb7a772916f08",
       "version_major": 2,
       "version_minor": 0
      },
      "text/plain": [
       "Map:   0%|          | 0/190 [00:00<?, ? examples/s]"
      ]
     },
     "metadata": {},
     "output_type": "display_data"
    }
   ],
   "source": [
    "ds_img = ds['train'].map(map_keyword_imageability_score)"
   ]
  },
  {
   "cell_type": "code",
   "execution_count": 46,
   "metadata": {},
   "outputs": [],
   "source": [
    "f, p = f_oneway(*[ds_img[f'{key}_imageability_score'] for key in keys])"
   ]
  },
  {
   "cell_type": "code",
   "execution_count": 47,
   "metadata": {},
   "outputs": [
    {
     "data": {
      "image/png": "[encoded data removed]",
      "text/plain": [
       "<Figure size 640x480 with 1 Axes>"
      ]
     },
     "metadata": {},
     "output_type": "display_data"
    }
   ],
   "source": [
    "fig, ax = plt.subplots()\n",
    "ax.set_title('Keyword Imageability Score')\n",
    "ax.boxplot([ds_img[f'{key}_imageability_score'] for key in keys])\n",
    "ax.set_xticklabels(keys)\n",
    "plt.show()"
   ]
  },
  {
   "cell_type": "code",
   "execution_count": 48,
   "metadata": {},
   "outputs": [
    {
     "name": "stdout",
     "output_type": "stream",
     "text": [
      "Tukey's HSD Pairwise Group Comparisons (95.0% Confidence Interval)\n",
      "Comparison  Statistic  p-value  Lower CI  Upper CI\n",
      " (0 - 1)     -0.084     0.000    -0.112    -0.055\n",
      " (0 - 2)     -0.092     0.000    -0.121    -0.064\n",
      " (0 - 3)     -0.096     0.000    -0.124    -0.067\n",
      " (1 - 0)      0.084     0.000     0.055     0.112\n",
      " (1 - 2)     -0.009     0.863    -0.037     0.020\n",
      " (1 - 3)     -0.012     0.703    -0.040     0.017\n",
      " (2 - 0)      0.092     0.000     0.064     0.121\n",
      " (2 - 1)      0.009     0.863    -0.020     0.037\n",
      " (2 - 3)     -0.003     0.991    -0.032     0.025\n",
      " (3 - 0)      0.096     0.000     0.067     0.124\n",
      " (3 - 1)      0.012     0.703    -0.017     0.040\n",
      " (3 - 2)      0.003     0.991    -0.025     0.032\n",
      "\n"
     ]
    }
   ],
   "source": [
    "print(tukey_hsd(*[ds_img[f'{key}_imageability_score'] for key in keys]))"
   ]
  },
  {
   "cell_type": "code",
   "execution_count": 49,
   "metadata": {},
   "outputs": [],
   "source": [
    "import numpy as np\n",
    "def keyphrase_metric(text, input_words):\n",
    "    keyphrases = get_keyphrases(text)\n",
    "    scores = []\n",
    "    for keyphrase in keyphrases:\n",
    "        scores.append(predict_concreteness(keyphrase) * .5 + \\\n",
    "                       int(input_in_keyphrase(input_words, keyphrase) * .5/3) + \\\n",
    "                       np.mean([predict_sensory_modality(word.lower()) for word in keyphrase.split(' ')]) * .5/3 + \\\n",
    "                          np.mean([predict_imageability(word.lower()) for word in keyphrase.split(' ')]) * .5/3\n",
    "                      )\n",
    "\n",
    "    return np.average(scores, weights=1/np.arange(1, len(scores) + 1))"
   ]
  },
  {
   "cell_type": "code",
   "execution_count": 50,
   "metadata": {},
   "outputs": [],
   "source": [
    "def map_keyword_metric(example):\n",
    "    input_words = example['component_meanings'].split(',') + [example['kanji_meaning']]\n",
    "    for key in keys:\n",
    "        example[f'{key}_metric'] = keyphrase_metric(example[key], input_words)\n",
    "    return example"
   ]
  },
  {
   "cell_type": "code",
   "execution_count": 51,
   "metadata": {},
   "outputs": [
    {
     "data": {
      "application/vnd.jupyter.widget-view+json": {
       "model_id": "f1fde705d58f4158a16e14dab9b159fb",
       "version_major": 2,
       "version_minor": 0
      },
      "text/plain": [
       "Map:   0%|          | 0/190 [00:00<?, ? examples/s]"
      ]
     },
     "metadata": {},
     "output_type": "display_data"
    }
   ],
   "source": [
    "ds_metric = ds['train'].map(map_keyword_metric)"
   ]
  },
  {
   "cell_type": "code",
   "execution_count": 52,
   "metadata": {},
   "outputs": [],
   "source": [
    "f, p = f_oneway(*[ds_metric[f'{key}_metric'] for key in keys])"
   ]
  },
  {
   "cell_type": "code",
   "execution_count": 53,
   "metadata": {},
   "outputs": [
    {
     "data": {
      "image/png": "[encoded data removed]",
      "text/plain": [
       "<Figure size 640x480 with 1 Axes>"
      ]
     },
     "metadata": {},
     "output_type": "display_data"
    }
   ],
   "source": [
    "fig, ax = plt.subplots()\n",
    "ax.set_title('Keyword Metric')\n",
    "ax.boxplot([ds_metric[f'{key}_metric'] for key in keys])\n",
    "ax.set_xticklabels(keys)\n",
    "plt.show()"
   ]
  },
  {
   "cell_type": "code",
   "execution_count": 54,
   "metadata": {},
   "outputs": [
    {
     "name": "stdout",
     "output_type": "stream",
     "text": [
      "Tukey's HSD Pairwise Group Comparisons (95.0% Confidence Interval)\n",
      "Comparison  Statistic  p-value  Lower CI  Upper CI\n",
      " (0 - 1)     -0.031     0.009    -0.056    -0.006\n",
      " (0 - 2)     -0.021     0.120    -0.046     0.003\n",
      " (0 - 3)     -0.031     0.007    -0.056    -0.006\n",
      " (1 - 0)      0.031     0.009     0.006     0.056\n",
      " (1 - 2)      0.009     0.776    -0.016     0.034\n",
      " (1 - 3)     -0.001     1.000    -0.026     0.024\n",
      " (2 - 0)      0.021     0.120    -0.003     0.046\n",
      " (2 - 1)     -0.009     0.776    -0.034     0.016\n",
      " (2 - 3)     -0.010     0.741    -0.035     0.015\n",
      " (3 - 0)      0.031     0.007     0.006     0.056\n",
      " (3 - 1)      0.001     1.000    -0.024     0.026\n",
      " (3 - 2)      0.010     0.741    -0.015     0.035\n",
      "\n"
     ]
    }
   ],
   "source": [
    "print(tukey_hsd(*[ds_metric[f'{key}_metric'] for key in keys]))"
   ]
  },
  {
   "cell_type": "code",
   "execution_count": 55,
   "metadata": {},
   "outputs": [
    {
     "name": "stdout",
     "output_type": "stream",
     "text": [
      "You see a <radical>tree</radical> growing on a <radical>cliff</radical> and it has <radical>ten thousand</radical> <kanji>horse chestnut</kanji>s growing on it. These trees are rare, only grow on cliffs, and they always have exactly ten thousand horse chestnuts on each one.  Picture this tree, weighed down by it's own horse chestnuts, leaning over the edge of the cliff.\n",
      "A <radical>lantern</radical> with <radical>horns</radical> that can hold <radical>ten thousand</radical> <radical>drop</radical>s of water is sitting on the <radical>ground</radical>. You get closer and realize it's not a lantern, it's a <kanji>bottle</kanji>. It's got horns, and a weird handle, but it's definitely a bottle with water inside of it. Picture this horned bottle sitting on the ground. You don't know who left it here or why, but it's here and the weirdest looking bottle you've ever seen.\n",
      "You're standing in the middle of a <radical>rice paddy</radical> in the <radical>rain</radical> with an <radical>umbrella</radical>. You're standing here because there's nothing else that's very tall around you. You want to get hit by <kanji>electricity</kanji> (aka lightning) to show that it exists. Get hit by the electricity. How does it feel?\n"
     ]
    },
    {
     "data": {
      "text/plain": [
       "60     None\n",
       "159    None\n",
       "70     None\n",
       "Name: wanikani_mnemonic, dtype: object"
      ]
     },
     "execution_count": 55,
     "metadata": {},
     "output_type": "execute_result"
    }
   ],
   "source": [
    "ds_metric.to_pandas().sort_values('wanikani_mnemonic_metric', ascending=False)['wanikani_mnemonic'][:3].apply(print)"
   ]
  },
  {
   "cell_type": "code",
   "execution_count": 56,
   "metadata": {},
   "outputs": [
    {
     "name": "stdout",
     "output_type": "stream",
     "text": [
      "recollection soul,idea\n",
      "evidence say,correct\n",
      "ethics leader,hat,ground,bookshelf\n",
      "The soul is a mysterious thing, and it can often hold onto ideas and recollections that one would have thought long forgotten. It is a powerful thing, and it can bring back memories and feelings that have been long buried, and can open up new possibilities and ideas.\n",
      "It is important to say what is correct and back it up with evidence. Without evidence, it is difficult to prove that what you are saying is true.\n",
      "The leader wore a hat as he stood on the ground, looking up at the bookshelf filled with books on ethics. He wanted to make sure he was making the right decisions and that his actions were in line with the highest ethical standards.\n"
     ]
    },
    {
     "data": {
      "text/plain": [
       "86     None\n",
       "182    None\n",
       "34     None\n",
       "Name: gpt3_paragraph, dtype: object"
      ]
     },
     "execution_count": 56,
     "metadata": {},
     "output_type": "execute_result"
    }
   ],
   "source": [
    "ds_metric.to_pandas().sort_values('gpt3_paragraph_metric')[:3].apply(lambda x : print(x['kanji_meaning'], x['component_meanings']), axis=1)\n",
    "ds_metric.to_pandas().sort_values('gpt3_paragraph_metric')['gpt3_paragraph'][:3].apply(print)"
   ]
  },
  {
   "cell_type": "code",
   "execution_count": 134,
   "metadata": {},
   "outputs": [
    {
     "data": {
      "text/plain": [
       "0.27065905375120514"
      ]
     },
     "execution_count": 134,
     "metadata": {},
     "output_type": "execute_result"
    }
   ],
   "source": [
    "keyphrase_metric(ds['train']['gpt3_paragraph'][86], ['recollection', 'soul', 'idea'])"
   ]
  },
  {
   "cell_type": "code",
   "execution_count": 138,
   "metadata": {},
   "outputs": [
    {
     "data": {
      "text/plain": [
       "0.39502933464887785"
      ]
     },
     "execution_count": 138,
     "metadata": {},
     "output_type": "execute_result"
    }
   ],
   "source": [
    "t = 'In a bustling city, a towering skyscraper was intertwined with an ancient tree\\'s roots. The roots provided strength and support, but they had a limit. A wise old man warned that if the building grew too tall, the roots would give way and the skyscraper would crumble. This vivid image serves as a reminder: even the mightiest roots have a limit to their support.'\n",
    "keyphrase_metric(t, ['limit', 'building', 'root'])"
   ]
  },
  {
   "attachments": {},
   "cell_type": "markdown",
   "metadata": {},
   "source": [
    "These findings are promising but perhaps keywords aren't the best approach or insufficient. \n",
    "It may make sense to quantify the connection of the input words somehow. If the words are represented as a graph,\n",
    "it may be very useful to extract the edges between the input words."
   ]
  },
  {
   "cell_type": "code",
   "execution_count": 139,
   "metadata": {},
   "outputs": [
    {
     "data": {
      "text/plain": [
       "['ancient trees roots',\n",
       " 'support',\n",
       " 'limit',\n",
       " 'towering skyscraper',\n",
       " 'strength',\n",
       " 'way',\n",
       " 'wise old man',\n",
       " 'vivid image',\n",
       " 'reminder',\n",
       " 'building',\n",
       " 'bustling city']"
      ]
     },
     "execution_count": 139,
     "metadata": {},
     "output_type": "execute_result"
    }
   ],
   "source": [
    "get_keyphrases(t)"
   ]
  }
 ],
 "metadata": {
  "kernelspec": {
   "display_name": "Python 3",
   "language": "python",
   "name": "python3"
  },
  "language_info": {
   "codemirror_mode": {
    "name": "ipython",
    "version": 3
   },
   "file_extension": ".py",
   "mimetype": "text/x-python",
   "name": "python",
   "nbconvert_exporter": "python",
   "pygments_lexer": "ipython3",
   "version": "3.9.16"
  },
  "orig_nbformat": 4
 },
 "nbformat": 4,
 "nbformat_minor": 2
}
