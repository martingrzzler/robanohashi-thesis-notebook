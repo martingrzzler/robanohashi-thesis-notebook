{
 "cells": [
  {
   "cell_type": "code",
   "execution_count": 1,
   "metadata": {},
   "outputs": [
    {
     "name": "stdout",
     "output_type": "stream",
     "text": [
      "\u001b[2K     \u001b[90m━━━━━━━━━━━━━━━━━━━━━━━━━━━━━━━━━━━━━━━━\u001b[0m \u001b[32m7.0/7.0 MB\u001b[0m \u001b[31m48.4 MB/s\u001b[0m eta \u001b[36m0:00:00\u001b[0m00:01\u001b[0m00:01\u001b[0m\n",
      "\u001b[2K     \u001b[90m━━━━━━━━━━━━━━━━━━━━━━━━━━━━━━━━━━━━━━\u001b[0m \u001b[32m468.7/468.7 kB\u001b[0m \u001b[31m36.7 MB/s\u001b[0m eta \u001b[36m0:00:00\u001b[0m\n",
      "\u001b[2K     \u001b[90m━━━━━━━━━━━━━━━━━━━━━━━━━━━━━━━━━━━━━━━━\u001b[0m \u001b[32m81.4/81.4 kB\u001b[0m \u001b[31m11.1 MB/s\u001b[0m eta \u001b[36m0:00:00\u001b[0m\n",
      "\u001b[2K     \u001b[90m━━━━━━━━━━━━━━━━━━━━━━━━━━━━━━━━━━━━━━\u001b[0m \u001b[32m200.1/200.1 kB\u001b[0m \u001b[31m24.3 MB/s\u001b[0m eta \u001b[36m0:00:00\u001b[0m\n",
      "\u001b[2K     \u001b[90m━━━━━━━━━━━━━━━━━━━━━━━━━━━━━━━━━━━━━━━━\u001b[0m \u001b[32m7.8/7.8 MB\u001b[0m \u001b[31m100.7 MB/s\u001b[0m eta \u001b[36m0:00:00\u001b[0m00:01\u001b[0m00:01\u001b[0m\n",
      "\u001b[2K     \u001b[90m━━━━━━━━━━━━━━━━━━━━━━━━━━━━━━━━━━━━━━━━\u001b[0m \u001b[32m1.0/1.0 MB\u001b[0m \u001b[31m66.0 MB/s\u001b[0m eta \u001b[36m0:00:00\u001b[0m\n",
      "\u001b[2K     \u001b[90m━━━━━━━━━━━━━━━━━━━━━━━━━━━━━━━━━━━━━━\u001b[0m \u001b[32m132.9/132.9 kB\u001b[0m \u001b[31m17.9 MB/s\u001b[0m eta \u001b[36m0:00:00\u001b[0m\n",
      "\u001b[2K     \u001b[90m━━━━━━━━━━━━━━━━━━━━━━━━━━━━━━━━━━━━━━\u001b[0m \u001b[32m212.2/212.2 kB\u001b[0m \u001b[31m25.0 MB/s\u001b[0m eta \u001b[36m0:00:00\u001b[0m\n",
      "\u001b[2K     \u001b[90m━━━━━━━━━━━━━━━━━━━━━━━━━━━━━━━━━━━━━━\u001b[0m \u001b[32m110.5/110.5 kB\u001b[0m \u001b[31m15.3 MB/s\u001b[0m eta \u001b[36m0:00:00\u001b[0m\n",
      "\u001b[2K     \u001b[90m━━━━━━━━━━━━━━━━━━━━━━━━━━━━━━━━━━━━━━\u001b[0m \u001b[32m158.8/158.8 kB\u001b[0m \u001b[31m20.5 MB/s\u001b[0m eta \u001b[36m0:00:00\u001b[0m\n",
      "\u001b[2K     \u001b[90m━━━━━━━━━━━━━━━━━━━━━━━━━━━━━━━━━━━━━━\u001b[0m \u001b[32m264.6/264.6 kB\u001b[0m \u001b[31m28.6 MB/s\u001b[0m eta \u001b[36m0:00:00\u001b[0m\n",
      "\u001b[2K     \u001b[90m━━━━━━━━━━━━━━━━━━━━━━━━━━━━━━━━━━━━━━\u001b[0m \u001b[32m114.2/114.2 kB\u001b[0m \u001b[31m13.6 MB/s\u001b[0m eta \u001b[36m0:00:00\u001b[0m\n",
      "\u001b[?25h"
     ]
    }
   ],
   "source": [
    "\n",
    "%pip install transformers datasets evaluate -q"
   ]
  },
  {
   "cell_type": "code",
   "execution_count": 2,
   "metadata": {},
   "outputs": [],
   "source": [
    "import torch\n",
    "device = \"cuda\" if torch.cuda.is_available() else \"cpu\""
   ]
  },
  {
   "cell_type": "code",
   "execution_count": 3,
   "metadata": {},
   "outputs": [
    {
     "data": {
      "application/vnd.jupyter.widget-view+json": {
       "model_id": "94f5186ecaa045d1a8563a27172d698d",
       "version_major": 2,
       "version_minor": 0
      },
      "text/plain": [
       "Downloading builder script:   0%|          | 0.00/8.46k [00:00<?, ?B/s]"
      ]
     },
     "metadata": {},
     "output_type": "display_data"
    }
   ],
   "source": [
    "from evaluate import load\n",
    "\n",
    "perplexity = load(\"perplexity\", module_type=\"metric\")"
   ]
  },
  {
   "cell_type": "code",
   "execution_count": 4,
   "metadata": {},
   "outputs": [
    {
     "data": {
      "application/vnd.jupyter.widget-view+json": {
       "model_id": "15f131da79684ec1bf654ede31e4e6ba",
       "version_major": 2,
       "version_minor": 0
      },
      "text/plain": [
       "Downloading readme:   0%|          | 0.00/131 [00:00<?, ?B/s]"
      ]
     },
     "metadata": {},
     "output_type": "display_data"
    },
    {
     "name": "stdout",
     "output_type": "stream",
     "text": [
      "Downloading and preparing dataset json/martingrzzler--mnemonics_benchmark to /root/.cache/huggingface/datasets/martingrzzler___json/martingrzzler--mnemonics_benchmark-6cc75b71b93e3c15/0.0.0/fe5dd6ea2639a6df622901539cb550cf8797e5a6b2dd7af1cf934bed8e233e6e...\n"
     ]
    },
    {
     "data": {
      "application/vnd.jupyter.widget-view+json": {
       "model_id": "ff8cf300bd6343a5b1d470bf8e5efd96",
       "version_major": 2,
       "version_minor": 0
      },
      "text/plain": [
       "Downloading data files:   0%|          | 0/1 [00:00<?, ?it/s]"
      ]
     },
     "metadata": {},
     "output_type": "display_data"
    },
    {
     "data": {
      "application/vnd.jupyter.widget-view+json": {
       "model_id": "83d05c5c9e57454c9d23f8d2a8f4303d",
       "version_major": 2,
       "version_minor": 0
      },
      "text/plain": [
       "Downloading data:   0%|          | 0.00/274k [00:00<?, ?B/s]"
      ]
     },
     "metadata": {},
     "output_type": "display_data"
    },
    {
     "data": {
      "application/vnd.jupyter.widget-view+json": {
       "model_id": "8724114d185746f2843c88c2e4b307f0",
       "version_major": 2,
       "version_minor": 0
      },
      "text/plain": [
       "Extracting data files:   0%|          | 0/1 [00:00<?, ?it/s]"
      ]
     },
     "metadata": {},
     "output_type": "display_data"
    },
    {
     "data": {
      "application/vnd.jupyter.widget-view+json": {
       "model_id": "5644508db84e4cf9bc4dacc842f013fc",
       "version_major": 2,
       "version_minor": 0
      },
      "text/plain": [
       "Generating train split: 0 examples [00:00, ? examples/s]"
      ]
     },
     "metadata": {},
     "output_type": "display_data"
    },
    {
     "name": "stdout",
     "output_type": "stream",
     "text": [
      "Dataset json downloaded and prepared to /root/.cache/huggingface/datasets/martingrzzler___json/martingrzzler--mnemonics_benchmark-6cc75b71b93e3c15/0.0.0/fe5dd6ea2639a6df622901539cb550cf8797e5a6b2dd7af1cf934bed8e233e6e. Subsequent calls will reuse this data.\n"
     ]
    },
    {
     "data": {
      "application/vnd.jupyter.widget-view+json": {
       "model_id": "9ced962ee26b4a48af4922bfab7f97b0",
       "version_major": 2,
       "version_minor": 0
      },
      "text/plain": [
       "  0%|          | 0/1 [00:00<?, ?it/s]"
      ]
     },
     "metadata": {},
     "output_type": "display_data"
    }
   ],
   "source": [
    "from datasets import load_dataset\n",
    "\n",
    "ds = load_dataset('martingrzzler/mnemonics_benchmark')"
   ]
  },
  {
   "cell_type": "code",
   "execution_count": 4,
   "metadata": {},
   "outputs": [],
   "source": [
    "import re\n",
    "def clean(text):\n",
    "    return re.sub('<.*?>', '', text)"
   ]
  },
  {
   "cell_type": "code",
   "execution_count": 43,
   "metadata": {},
   "outputs": [],
   "source": [
    "keys = ['gpt2xl_mnemonic', 'gpt3_mnemonic', 'gpt3_paragraph', 'wanikani_mnemonic']\n",
    "\n",
    "def map_ppl(example):\n",
    "    predictions = []\n",
    "    for key in keys:\n",
    "        predictions.append(clean(example[key]))\n",
    "    \n",
    "    res = perplexity.compute(predictions=predictions, model_id='gpt2', device=device)\n",
    "    for i, key in enumerate(keys):\n",
    "        example[key + '_ppl'] = res['perplexities'][i]\n",
    "\n",
    "    return example"
   ]
  },
  {
   "cell_type": "code",
   "execution_count": null,
   "metadata": {},
   "outputs": [],
   "source": [
    "ds_ppl = ds.map(map_ppl)"
   ]
  },
  {
   "cell_type": "code",
   "execution_count": 16,
   "metadata": {},
   "outputs": [
    {
     "data": {
      "text/plain": [
       "DatasetDict({\n",
       "    train: Dataset({\n",
       "        features: ['kanji_id', 'component_meanings', 'wanikani_mnemonic', 'kanji_meaning', 'gpt2xl_mnemonic', 'gpt3_paragraph', 'gpt3_mnemonic', 'gpt2xl_mnemonic_ppl', 'gpt3_mnemonic_ppl', 'gpt3_paragraph_ppl', 'wanikani_mnemonic_ppl'],\n",
       "        num_rows: 190\n",
       "    })\n",
       "})"
      ]
     },
     "execution_count": 16,
     "metadata": {},
     "output_type": "execute_result"
    }
   ],
   "source": [
    "ds_ppl"
   ]
  },
  {
   "cell_type": "code",
   "execution_count": 19,
   "metadata": {},
   "outputs": [
    {
     "name": "stdout",
     "output_type": "stream",
     "text": [
      "92.09518449753575 8.353443167316626e-51\n"
     ]
    }
   ],
   "source": [
    "from scipy.stats import f_oneway\n",
    "\n",
    "f, p = f_oneway(*[ds_ppl['train'][key + '_ppl'] for key in keys])\n",
    "print(f, p)"
   ]
  },
  {
   "cell_type": "code",
   "execution_count": 20,
   "metadata": {},
   "outputs": [
    {
     "name": "stdout",
     "output_type": "stream",
     "text": [
      "Tukey's HSD Pairwise Group Comparisons (95.0% Confidence Interval)\n",
      "Comparison  Statistic  p-value  Lower CI  Upper CI\n",
      " (0 - 1)      7.003     0.000     3.340    10.665\n",
      " (0 - 2)     -2.553     0.277    -6.216     1.109\n",
      " (0 - 3)    -16.051     0.000   -19.713   -12.388\n",
      " (1 - 0)     -7.003     0.000   -10.665    -3.340\n",
      " (1 - 2)     -9.556     0.000   -13.219    -5.894\n",
      " (1 - 3)    -23.053     0.000   -26.716   -19.391\n",
      " (2 - 0)      2.553     0.277    -1.109     6.216\n",
      " (2 - 1)      9.556     0.000     5.894    13.219\n",
      " (2 - 3)    -13.497     0.000   -17.160    -9.835\n",
      " (3 - 0)     16.051     0.000    12.388    19.713\n",
      " (3 - 1)     23.053     0.000    19.391    26.716\n",
      " (3 - 2)     13.497     0.000     9.835    17.160\n",
      "\n"
     ]
    }
   ],
   "source": [
    "from scipy.stats import tukey_hsd\n",
    "\n",
    "res = tukey_hsd(*[ds_ppl['train'][key + '_ppl'] for key in keys])\n",
    "print(res)"
   ]
  },
  {
   "cell_type": "code",
   "execution_count": 23,
   "metadata": {},
   "outputs": [
    {
     "data": {
      "image/png": "[encoded data removed]",
      "text/plain": [
       "<Figure size 800x600 with 1 Axes>"
      ]
     },
     "metadata": {},
     "output_type": "display_data"
    }
   ],
   "source": [
    "import matplotlib.pyplot as plt\n",
    "\n",
    "plt.figure(figsize=(8, 6))\n",
    "plt.boxplot([ds_ppl['train'][key + '_ppl'] for key in keys], labels=['GPT-2','GPT-3 (mnemonic)','GPT-3 (paragraph)','WaniKani'], showfliers=False)\n",
    "plt.title('Perplexity')\n",
    "plt.show()"
   ]
  },
  {
   "cell_type": "code",
   "execution_count": 26,
   "metadata": {},
   "outputs": [
    {
     "name": "stdout",
     "output_type": "stream",
     "text": [
      "gpt2xl_mnemonic 20.08, 12.71\n",
      "gpt3_mnemonic 13.08, 4.30\n",
      "gpt3_paragraph 22.63, 16.18\n",
      "wanikani_mnemonic 36.13, 18.08\n"
     ]
    }
   ],
   "source": [
    "# mean and std\n",
    "\n",
    "for key in keys:\n",
    "    print(key, f\"{ds_ppl['train'].to_pandas()[key + '_ppl'].mean():.2f}, {ds_ppl['train'].to_pandas()[key + '_ppl'].std():.2f}\")"
   ]
  },
  {
   "cell_type": "code",
   "execution_count": 7,
   "metadata": {},
   "outputs": [
    {
     "name": "stderr",
     "output_type": "stream",
     "text": [
      "[nltk_data] Downloading package punkt to /root/nltk_data...\n",
      "[nltk_data]   Unzipping tokenizers/punkt.zip.\n"
     ]
    },
    {
     "data": {
      "text/plain": [
       "True"
      ]
     },
     "execution_count": 7,
     "metadata": {},
     "output_type": "execute_result"
    }
   ],
   "source": [
    "import nltk\n",
    "\n",
    "nltk.download('punkt')"
   ]
  },
  {
   "cell_type": "code",
   "execution_count": 49,
   "metadata": {},
   "outputs": [],
   "source": [
    "from nltk import word_tokenize \n",
    "import re\n",
    "\n",
    "def tokenize(text, n=4):\n",
    "    text = re.sub('<.*?>', '', text)\n",
    "    words = text.split(' ')\n",
    "    for i in range(0, len(words), n):\n",
    "        yield ' '.join(words[i:i+n])\n"
   ]
  },
  {
   "cell_type": "code",
   "execution_count": 50,
   "metadata": {},
   "outputs": [
    {
     "name": "stdout",
     "output_type": "stream",
     "text": [
      "gpt2xl_mnemonic\n",
      "It's been a long time coming, but it looks like blade runner Harrison Ford will finally make his return to the big screen in Star Wars: Episode VII – The Force Awakens. And he'll be joined by an all-star cast that includes Oscar winner Lupita Nyong'o (12 Years A Slave), Domhnall Gleeson blade\n",
      "[\"It's been a long\", 'time coming, but it', 'looks like blade runner', 'Harrison Ford will finally', 'make his return to', 'the big screen in', 'Star Wars: Episode VII', '– The Force Awakens.', \"And he'll be joined\", 'by an all-star cast', 'that includes Oscar winner', \"Lupita Nyong'o (12 Years\", 'A Slave), Domhnall Gleeson', 'blade']\n",
      "\n",
      "gpt3_mnemonic\n",
      "Once upon a time there was a stupid man who had a sickness. He was so sick that he decided to shoot an arrow out of his mouth. He didn't realize how stupid this was and the arrow ended up getting stuck in his throat. Fortunately, he was able to get medical attention and the arrow was removed. But he learned his lesson and never tried to shoot arrows out of his mouth again.\n",
      "['Once upon a time', 'there was a stupid', 'man who had a', 'sickness. He was so', 'sick that he decided', 'to shoot an arrow', 'out of his mouth.', \"He didn't realize how\", 'stupid this was and', 'the arrow ended up', 'getting stuck in his', 'throat. Fortunately, he was', 'able to get medical', 'attention and the arrow', 'was removed. But he', 'learned his lesson and', 'never tried to shoot', 'arrows out of his', 'mouth again.']\n",
      "\n",
      "gpt3_paragraph\n",
      "The willow tree was a special one, as it had a stamp carved into it. It was a symbol of love and loyalty, and a reminder that no matter what life throws at you, the willow tree will always be there.\n",
      "['The willow tree was', 'a special one, as', 'it had a stamp', 'carved into it. It', 'was a symbol of', 'love and loyalty, and', 'a reminder that no', 'matter what life throws', 'at you, the willow', 'tree will always be', 'there.']\n",
      "\n",
      "wanikani_mnemonic\n",
      "What kind of <radical>tree</radical> is <radical>spicy</radical>? A <kanji>Japanese birch</kanji>, or <kanji>birch</kanji>, obviously. There's nothing spicier than a Japanese birch!\n",
      " Imagine licking the trunk of a Japanese birch tree and feeling the heat on your tongue.\n",
      "['What kind of tree', 'is spicy? A Japanese', 'birch, or birch, obviously.', \"There's nothing spicier than\", 'a Japanese birch!\\r\\n Imagine', 'licking the trunk of', 'a Japanese birch tree', 'and feeling the heat', 'on your tongue.']\n",
      "\n"
     ]
    }
   ],
   "source": [
    "import random\n",
    "\n",
    "for key in keys:\n",
    "    print(key)\n",
    "    text = random.choice(ds['train'][key])\n",
    "    print(text)\n",
    "    print(list(tokenize(text)))\n",
    "    print()"
   ]
  },
  {
   "cell_type": "code",
   "execution_count": 60,
   "metadata": {},
   "outputs": [],
   "source": [
    "def map_ngram_ppl(example):\n",
    "    for key in keys:\n",
    "        example[key + '_ppl'] = perplexity.compute(predictions=list(tokenize(example[key])), model_id='gpt2', device=device)['mean_perplexity']\n",
    "    \n",
    "    return example"
   ]
  },
  {
   "cell_type": "code",
   "execution_count": null,
   "metadata": {},
   "outputs": [],
   "source": [
    "ds_ngram_ppl = ds['train'].map(map_ngram_ppl)"
   ]
  },
  {
   "cell_type": "code",
   "execution_count": 62,
   "metadata": {},
   "outputs": [
    {
     "name": "stdout",
     "output_type": "stream",
     "text": [
      "18.089238213159256 2.4099793321472688e-11\n"
     ]
    }
   ],
   "source": [
    "from scipy.stats import f_oneway\n",
    "\n",
    "f, p = f_oneway(*[ds_ngram_ppl[key + '_ppl'] for key in keys])\n",
    "print(f, p)"
   ]
  },
  {
   "cell_type": "code",
   "execution_count": 63,
   "metadata": {},
   "outputs": [
    {
     "name": "stdout",
     "output_type": "stream",
     "text": [
      "Tukey's HSD Pairwise Group Comparisons (95.0% Confidence Interval)\n",
      "Comparison  Statistic  p-value  Lower CI  Upper CI\n",
      " (0 - 1)   2030.703     0.000  1178.320  2883.085\n",
      " (0 - 2)   2105.457     0.000  1253.075  2957.840\n",
      " (0 - 3)   1778.193     0.000   925.811  2630.576\n",
      " (1 - 0)  -2030.703     0.000 -2883.085 -1178.320\n",
      " (1 - 2)     74.754     0.996  -777.628   927.137\n",
      " (1 - 3)   -252.509     0.871 -1104.892   599.873\n",
      " (2 - 0)  -2105.457     0.000 -2957.840 -1253.075\n",
      " (2 - 1)    -74.754     0.996  -927.137   777.628\n",
      " (2 - 3)   -327.264     0.756 -1179.646   525.119\n",
      " (3 - 0)  -1778.193     0.000 -2630.576  -925.811\n",
      " (3 - 1)    252.509     0.871  -599.873  1104.892\n",
      " (3 - 2)    327.264     0.756  -525.119  1179.646\n",
      "\n"
     ]
    }
   ],
   "source": [
    "from scipy.stats import tukey_hsd\n",
    "\n",
    "res = tukey_hsd(*[ds_ngram_ppl[key + '_ppl'] for key in keys])\n",
    "print(res)"
   ]
  },
  {
   "cell_type": "code",
   "execution_count": 64,
   "metadata": {},
   "outputs": [
    {
     "data": {
      "image/png": "[encoded data removed]",
      "text/plain": [
       "<Figure size 800x600 with 1 Axes>"
      ]
     },
     "metadata": {},
     "output_type": "display_data"
    }
   ],
   "source": [
    "import matplotlib.pyplot as plt\n",
    "\n",
    "plt.figure(figsize=(8, 6))\n",
    "plt.boxplot([ds_ngram_ppl[key + '_ppl'] for key in keys], labels=['GPT-2','GPT-3 (mnemonic)','GPT-3 (paragraph)','WaniKani'], showfliers=False)\n",
    "plt.title('Perplexity (Chunk Mean)')\n",
    "plt.show()"
   ]
  },
  {
   "cell_type": "code",
   "execution_count": 67,
   "metadata": {},
   "outputs": [
    {
     "name": "stdout",
     "output_type": "stream",
     "text": [
      "gpt2xl_mnemonic 2734.07, 6373.10\n",
      "gpt3_mnemonic 703.37, 741.24\n",
      "gpt3_paragraph 628.61, 361.23\n",
      "wanikani_mnemonic 955.87, 591.97\n"
     ]
    }
   ],
   "source": [
    "# mean and std\n",
    "\n",
    "for key in keys:\n",
    "    print(key, f\"{ds_ngram_ppl.to_pandas()[key + '_ppl'].mean():.2f}, {ds_ngram_ppl.to_pandas()[key + '_ppl'].std():.2f}\")"
   ]
  }
 ],
 "metadata": {
  "kernelspec": {
   "display_name": "Python 3",
   "language": "python",
   "name": "python3"
  },
  "orig_nbformat": 4
 },
 "nbformat": 4,
 "nbformat_minor": 2
}
